{
 "cells": [
  {
   "cell_type": "code",
   "execution_count": 80,
   "metadata": {
    "_cell_guid": "ef08df1c-3c94-4f63-bbc7-6cc93f46fb52",
    "_execution_state": "idle",
    "_uuid": "7b62b6d64cc54d675b18c29ee12eed7cd45a3154"
   },
   "outputs": [],
   "source": [
    "%matplotlib inline\n",
    "import pandas as pd\n",
    "import numpy as np\n",
    "\n",
    "from sklearn.model_selection import cross_val_predict\n",
    "from sklearn.model_selection import StratifiedKFold\n",
    "from sklearn.model_selection import train_test_split\n",
    "from sklearn.linear_model import LogisticRegression\n",
    "from sklearn.metrics import log_loss, accuracy_score\n",
    "from sklearn.feature_extraction.text import CountVectorizer\n",
    "from sklearn.feature_extraction.text import TfidfVectorizer\n",
    "from sklearn.svm import SVC\n",
    "from sklearn.decomposition import TruncatedSVD\n",
    "from sklearn.ensemble import RandomForestClassifier\n",
    "from sklearn.preprocessing import LabelEncoder\n",
    "\n",
    "import gensim\n",
    "\n",
    "import scikitplot.plotters as skplt\n",
    "\n",
    "import nltk\n",
    "\n",
    "from xgboost import XGBClassifier\n",
    "\n",
    "import os\n",
    "\n",
    "from keras.preprocessing.text import Tokenizer\n",
    "from keras.preprocessing.sequence import pad_sequences\n",
    "from keras.models import Sequential\n",
    "from keras.layers import Dense, Embedding, LSTM\n",
    "from keras.utils.np_utils import to_categorical\n",
    "from keras.callbacks import ModelCheckpoint\n",
    "from keras.models import load_model\n",
    "from keras.optimizers import Adam"
   ]
  },
  {
   "cell_type": "markdown",
   "metadata": {
    "_cell_guid": "0b39f26e-9c4c-46db-8fe5-86967734c0e5",
    "_uuid": "58b74d086e6f6f067f337470219be9fd43211c08"
   },
   "source": [
    "## Load training_text and training_variants"
   ]
  },
  {
   "cell_type": "code",
   "execution_count": 81,
   "metadata": {
    "_cell_guid": "011dde04-0160-41cd-9149-5aeac26295fb",
    "_execution_state": "idle",
    "_uuid": "1b07b556871714b93d70806d58b5225be507e716"
   },
   "outputs": [
    {
     "data": {
      "text/html": [
       "<div>\n",
       "<style scoped>\n",
       "    .dataframe tbody tr th:only-of-type {\n",
       "        vertical-align: middle;\n",
       "    }\n",
       "\n",
       "    .dataframe tbody tr th {\n",
       "        vertical-align: top;\n",
       "    }\n",
       "\n",
       "    .dataframe thead th {\n",
       "        text-align: right;\n",
       "    }\n",
       "</style>\n",
       "<table border=\"1\" class=\"dataframe\">\n",
       "  <thead>\n",
       "    <tr style=\"text-align: right;\">\n",
       "      <th></th>\n",
       "      <th>Text</th>\n",
       "      <th>Class</th>\n",
       "    </tr>\n",
       "  </thead>\n",
       "  <tbody>\n",
       "    <tr>\n",
       "      <th>0</th>\n",
       "      <td>Wow... Loved this place.</td>\n",
       "      <td>1</td>\n",
       "    </tr>\n",
       "    <tr>\n",
       "      <th>1</th>\n",
       "      <td>Crust is not good.</td>\n",
       "      <td>0</td>\n",
       "    </tr>\n",
       "    <tr>\n",
       "      <th>2</th>\n",
       "      <td>Not tasty and the texture was just nasty.</td>\n",
       "      <td>0</td>\n",
       "    </tr>\n",
       "    <tr>\n",
       "      <th>3</th>\n",
       "      <td>Stopped by during the late May bank holiday of...</td>\n",
       "      <td>1</td>\n",
       "    </tr>\n",
       "    <tr>\n",
       "      <th>4</th>\n",
       "      <td>The selection on the menu was great and so wer...</td>\n",
       "      <td>1</td>\n",
       "    </tr>\n",
       "  </tbody>\n",
       "</table>\n",
       "</div>"
      ],
      "text/plain": [
       "                                                Text  Class\n",
       "0                           Wow... Loved this place.      1\n",
       "1                                 Crust is not good.      0\n",
       "2          Not tasty and the texture was just nasty.      0\n",
       "3  Stopped by during the late May bank holiday of...      1\n",
       "4  The selection on the menu was great and so wer...      1"
      ]
     },
     "execution_count": 81,
     "metadata": {},
     "output_type": "execute_result"
    }
   ],
   "source": [
    "df_train_txt = pd.read_csv('Restaurant_Reviews.tsv', \n",
    "                           encoding='utf-8', keep_default_na=False,\n",
    "                           sep='\\t', header=None, skiprows=1, names=[\"Text\", \"Class\"])\n",
    "df_train_txt.head()"
   ]
  },
  {
   "cell_type": "code",
   "execution_count": 82,
   "metadata": {
    "_cell_guid": "795f95c3-ea53-47ef-9199-4c12bc80b16f",
    "_execution_state": "idle",
    "_uuid": "0abbd8861ba31246cb57b5d660b0fdf50c64bee6"
   },
   "outputs": [
    {
     "data": {
      "text/plain": [
       "0    1\n",
       "1    0\n",
       "2    0\n",
       "3    1\n",
       "4    1\n",
       "Name: Class, dtype: int64"
      ]
     },
     "execution_count": 82,
     "metadata": {},
     "output_type": "execute_result"
    }
   ],
   "source": [
    "df_train_var = df_train_txt[\"Class\"]\n",
    "df_train_var.head()"
   ]
  },
  {
   "cell_type": "markdown",
   "metadata": {
    "_cell_guid": "5707f8ac-85bc-40fd-9a8b-5e7912d5c8d1",
    "_uuid": "2e9d1f1157305e68bb06ae32a00f2bb4e31710c8"
   },
   "source": [
    "### Let's join them together"
   ]
  },
  {
   "cell_type": "code",
   "execution_count": 83,
   "metadata": {
    "_cell_guid": "13b2c874-ef56-45f5-9500-aae3c77fbfaa",
    "_execution_state": "idle",
    "_uuid": "315a8b16269f0a2894c4d82642e82baa7826b30b"
   },
   "outputs": [
    {
     "data": {
      "text/html": [
       "<div>\n",
       "<style scoped>\n",
       "    .dataframe tbody tr th:only-of-type {\n",
       "        vertical-align: middle;\n",
       "    }\n",
       "\n",
       "    .dataframe tbody tr th {\n",
       "        vertical-align: top;\n",
       "    }\n",
       "\n",
       "    .dataframe thead th {\n",
       "        text-align: right;\n",
       "    }\n",
       "</style>\n",
       "<table border=\"1\" class=\"dataframe\">\n",
       "  <thead>\n",
       "    <tr style=\"text-align: right;\">\n",
       "      <th></th>\n",
       "      <th>Text</th>\n",
       "      <th>Class</th>\n",
       "    </tr>\n",
       "  </thead>\n",
       "  <tbody>\n",
       "    <tr>\n",
       "      <th>0</th>\n",
       "      <td>Wow... Loved this place.</td>\n",
       "      <td>1</td>\n",
       "    </tr>\n",
       "    <tr>\n",
       "      <th>1</th>\n",
       "      <td>Crust is not good.</td>\n",
       "      <td>0</td>\n",
       "    </tr>\n",
       "    <tr>\n",
       "      <th>2</th>\n",
       "      <td>Not tasty and the texture was just nasty.</td>\n",
       "      <td>0</td>\n",
       "    </tr>\n",
       "    <tr>\n",
       "      <th>3</th>\n",
       "      <td>Stopped by during the late May bank holiday of...</td>\n",
       "      <td>1</td>\n",
       "    </tr>\n",
       "    <tr>\n",
       "      <th>4</th>\n",
       "      <td>The selection on the menu was great and so wer...</td>\n",
       "      <td>1</td>\n",
       "    </tr>\n",
       "  </tbody>\n",
       "</table>\n",
       "</div>"
      ],
      "text/plain": [
       "                                                Text  Class\n",
       "0                           Wow... Loved this place.      1\n",
       "1                                 Crust is not good.      0\n",
       "2          Not tasty and the texture was just nasty.      0\n",
       "3  Stopped by during the late May bank holiday of...      1\n",
       "4  The selection on the menu was great and so wer...      1"
      ]
     },
     "execution_count": 83,
     "metadata": {},
     "output_type": "execute_result"
    }
   ],
   "source": [
    "df_train = df_train_txt.copy()\n",
    "df_train.head()"
   ]
  },
  {
   "cell_type": "markdown",
   "metadata": {
    "_cell_guid": "6902a7ac-d631-4ae3-b80b-b5fbacc7bf11",
    "_uuid": "90c26968d60d11ac38dfdb2f3ffdd3b04acc4ba6"
   },
   "source": [
    "## Run preliminary statistics on loaded data"
   ]
  },
  {
   "cell_type": "code",
   "execution_count": 84,
   "metadata": {
    "_cell_guid": "2045e414-408a-46d8-a351-1757bd9df5e9",
    "_execution_state": "idle",
    "_uuid": "cc9d844d7110e9534dc40e019d885c5bcc31e904"
   },
   "outputs": [
    {
     "data": {
      "text/html": [
       "<div>\n",
       "<style scoped>\n",
       "    .dataframe tbody tr th:only-of-type {\n",
       "        vertical-align: middle;\n",
       "    }\n",
       "\n",
       "    .dataframe tbody tr th {\n",
       "        vertical-align: top;\n",
       "    }\n",
       "\n",
       "    .dataframe thead th {\n",
       "        text-align: right;\n",
       "    }\n",
       "</style>\n",
       "<table border=\"1\" class=\"dataframe\">\n",
       "  <thead>\n",
       "    <tr style=\"text-align: right;\">\n",
       "      <th></th>\n",
       "      <th>Text</th>\n",
       "      <th>Class</th>\n",
       "    </tr>\n",
       "  </thead>\n",
       "  <tbody>\n",
       "    <tr>\n",
       "      <th>count</th>\n",
       "      <td>1000</td>\n",
       "      <td>1000.00000</td>\n",
       "    </tr>\n",
       "    <tr>\n",
       "      <th>unique</th>\n",
       "      <td>996</td>\n",
       "      <td>NaN</td>\n",
       "    </tr>\n",
       "    <tr>\n",
       "      <th>top</th>\n",
       "      <td>The food was terrible.</td>\n",
       "      <td>NaN</td>\n",
       "    </tr>\n",
       "    <tr>\n",
       "      <th>freq</th>\n",
       "      <td>2</td>\n",
       "      <td>NaN</td>\n",
       "    </tr>\n",
       "    <tr>\n",
       "      <th>mean</th>\n",
       "      <td>NaN</td>\n",
       "      <td>0.50000</td>\n",
       "    </tr>\n",
       "    <tr>\n",
       "      <th>std</th>\n",
       "      <td>NaN</td>\n",
       "      <td>0.50025</td>\n",
       "    </tr>\n",
       "    <tr>\n",
       "      <th>min</th>\n",
       "      <td>NaN</td>\n",
       "      <td>0.00000</td>\n",
       "    </tr>\n",
       "    <tr>\n",
       "      <th>25%</th>\n",
       "      <td>NaN</td>\n",
       "      <td>0.00000</td>\n",
       "    </tr>\n",
       "    <tr>\n",
       "      <th>50%</th>\n",
       "      <td>NaN</td>\n",
       "      <td>0.50000</td>\n",
       "    </tr>\n",
       "    <tr>\n",
       "      <th>75%</th>\n",
       "      <td>NaN</td>\n",
       "      <td>1.00000</td>\n",
       "    </tr>\n",
       "    <tr>\n",
       "      <th>max</th>\n",
       "      <td>NaN</td>\n",
       "      <td>1.00000</td>\n",
       "    </tr>\n",
       "  </tbody>\n",
       "</table>\n",
       "</div>"
      ],
      "text/plain": [
       "                          Text       Class\n",
       "count                     1000  1000.00000\n",
       "unique                     996         NaN\n",
       "top     The food was terrible.         NaN\n",
       "freq                         2         NaN\n",
       "mean                       NaN     0.50000\n",
       "std                        NaN     0.50025\n",
       "min                        NaN     0.00000\n",
       "25%                        NaN     0.00000\n",
       "50%                        NaN     0.50000\n",
       "75%                        NaN     1.00000\n",
       "max                        NaN     1.00000"
      ]
     },
     "execution_count": 84,
     "metadata": {},
     "output_type": "execute_result"
    }
   ],
   "source": [
    "df_train.describe(include='all')"
   ]
  },
  {
   "cell_type": "code",
   "execution_count": 85,
   "metadata": {
    "_cell_guid": "199c8014-d06f-4f14-b8fa-bf4ec2e35d21",
    "_execution_state": "idle",
    "_uuid": "3e5fcd9f545b5a80b793905fe2e562668d751536"
   },
   "outputs": [
    {
     "data": {
      "text/plain": [
       "<matplotlib.axes._subplots.AxesSubplot at 0x24ee38886a0>"
      ]
     },
     "execution_count": 85,
     "metadata": {},
     "output_type": "execute_result"
    },
    {
     "data": {
      "image/png": "[encoded data removed]",
      "text/plain": [
       "<Figure size 432x288 with 1 Axes>"
      ]
     },
     "metadata": {
      "needs_background": "light"
     },
     "output_type": "display_data"
    }
   ],
   "source": [
    "df_train['Class'].value_counts().plot(kind=\"bar\", rot=0)"
   ]
  },
  {
   "cell_type": "markdown",
   "metadata": {
    "_cell_guid": "7f3c61af-91fe-4da4-9e58-cb5c050f45a7",
    "_uuid": "5d1cfc6d2e8aa7052f99bf256988df4d9c72e231"
   },
   "source": [
    "### Classes seem very imbalanced"
   ]
  },
  {
   "cell_type": "code",
   "execution_count": 86,
   "metadata": {
    "_cell_guid": "414fba7c-ecae-4a7e-acfe-d926df6aaec5",
    "_uuid": "fcb73d697f9b4656f5a2c728acc67cc48dd5e930"
   },
   "outputs": [
    {
     "data": {
      "text/plain": [
       "(1000, 2)"
      ]
     },
     "execution_count": 86,
     "metadata": {},
     "output_type": "execute_result"
    }
   ],
   "source": [
    "# This cell reduces the training data for Kaggle limits. Remove this cell for real results.\n",
    "#df_train, _ = train_test_split(df_train, test_size=0.7, random_state=8, stratify=df_train['Class'])\n",
    "df_train.shape"
   ]
  },
  {
   "cell_type": "markdown",
   "metadata": {
    "_cell_guid": "f6abf33d-337d-4be8-8d50-34d2292a4c71",
    "_uuid": "525e0ac244f14d7dbc0edfe5783c1439a3a10d3d"
   },
   "source": [
    "### The main task here is to predict the class of the mutation given the text in the literature. Our approach will then be to apply some common NLP techniques to transform the free text into features for an ML classifier and see which ones work best.\n",
    "\n",
    "### Define a helper function to evaluate the effectiveness of transformed free text. We'll use a simple logistic regression with 3-fold stratified cross-validation for fast evaluation."
   ]
  },
  {
   "cell_type": "code",
   "execution_count": 87,
   "metadata": {
    "_cell_guid": "e687a44c-45f1-47c0-8c8f-3cced55cfba7",
    "_execution_state": "idle",
    "_uuid": "74e93f2f49e6399758ccda8950741f2dc3070e70"
   },
   "outputs": [],
   "source": [
    "def evaluate_features(X, y, clf=None):\n",
    "    \"\"\"General helper function for evaluating effectiveness of passed features in ML model\n",
    "    \n",
    "    Prints out Log loss, accuracy, and confusion matrix with 3-fold stratified cross-validation\n",
    "    \n",
    "    Args:\n",
    "        X (array-like): Features array. Shape (n_samples, n_features)\n",
    "        \n",
    "        y (array-like): Labels array. Shape (n_samples,)\n",
    "        \n",
    "        clf: Classifier to use. If None, default Log reg is use.\n",
    "    \"\"\"\n",
    "    if clf is None:\n",
    "        clf = LogisticRegression()\n",
    "    \n",
    "    probas = cross_val_predict(clf, X, y, cv=StratifiedKFold(random_state=8), \n",
    "                              n_jobs=-1, method='predict_proba', verbose=2)\n",
    "    \n",
    "    pred_indices = np.argmax(probas, axis=1)\n",
    "    classes = np.unique(y)\n",
    "    preds = classes[pred_indices]\n",
    "    print('Log loss: {}'.format(log_loss(y, probas)))\n",
    "    print('Accuracy: {}'.format(accuracy_score(y, preds)))\n",
    "    skplt.plot_confusion_matrix(y, preds)\n"
   ]
  },
  {
   "cell_type": "markdown",
   "metadata": {
    "_cell_guid": "f123aa3e-e4a2-4bbd-82a4-deb9f9416749",
    "_uuid": "05e65e23552a5c11fedaa9e9e65ac9156a9297e0"
   },
   "source": [
    "Let's do a quick test of evaluate_features"
   ]
  },
  {
   "cell_type": "code",
   "execution_count": 88,
   "metadata": {
    "_cell_guid": "96a33bf5-96a2-4099-8e09-a61db0c052e1",
    "_execution_state": "idle",
    "_uuid": "1795526eb77ec9281a8a18f3f01d02cc4b643a9f"
   },
   "outputs": [
    {
     "name": "stderr",
     "output_type": "stream",
     "text": [
      "C:\\Users\\jfeng\\AppData\\Local\\Continuum\\miniconda3\\lib\\site-packages\\sklearn\\model_selection\\_split.py:624: FutureWarning: You should specify a value for 'n_splits' instead of relying on the default value. The default value will change from 3 to 5 in version 0.22.\n",
      "  warnings.warn(NSPLIT_WARNING, FutureWarning)\n",
      "[Parallel(n_jobs=-1)]: Using backend LokyBackend with 12 concurrent workers.\n"
     ]
    },
    {
     "name": "stdout",
     "output_type": "stream",
     "text": [
      "Log loss: 0.34456225154048314\n",
      "Accuracy: 0.9466666666666667\n"
     ]
    },
    {
     "name": "stderr",
     "output_type": "stream",
     "text": [
      "[Parallel(n_jobs=-1)]: Done   3 out of   3 | elapsed:    1.9s finished\n",
      "C:\\Users\\jfeng\\AppData\\Local\\Continuum\\miniconda3\\lib\\site-packages\\sklearn\\utils\\deprecation.py:77: DeprecationWarning: Function plot_confusion_matrix is deprecated; This will be removed in v0.4.0. Please use scikitplot.metrics.plot_confusion_matrix instead.\n",
      "  warnings.warn(msg, category=DeprecationWarning)\n"
     ]
    },
    {
     "data": {
      "image/png": "[encoded data removed]",
      "text/plain": [
       "<Figure size 432x288 with 2 Axes>"
      ]
     },
     "metadata": {
      "needs_background": "light"
     },
     "output_type": "display_data"
    }
   ],
   "source": [
    "# Quick test of evaluate_features\n",
    "from sklearn.datasets import load_iris\n",
    "evaluate_features(*load_iris(True))"
   ]
  },
  {
   "cell_type": "markdown",
   "metadata": {
    "_cell_guid": "98e9cd4a-f6f4-4c5b-a151-2edf4ac179f6",
    "_uuid": "22078fdc406c13d21d1588644371edc43a553b1a"
   },
   "source": [
    "## Start with a simple baseline. Bag of words"
   ]
  },
  {
   "cell_type": "code",
   "execution_count": 89,
   "metadata": {
    "_cell_guid": "d3207228-9664-472e-b025-7507f10fec7c",
    "_execution_state": "idle",
    "_uuid": "5028611d6b4007f8f139b432c7909748781c3022"
   },
   "outputs": [],
   "source": [
    "count_vectorizer = CountVectorizer(\n",
    "    analyzer=\"word\", tokenizer=nltk.word_tokenize,\n",
    "    preprocessor=None, stop_words='english', max_features=None)    "
   ]
  },
  {
   "cell_type": "code",
   "execution_count": 90,
   "metadata": {
    "_cell_guid": "5df3c9c0-4b0b-487f-bef4-6cceb8ce0290",
    "_execution_state": "busy",
    "_uuid": "1153f8a8a0320483ce8c8f3044fe21cb860ad989"
   },
   "outputs": [],
   "source": [
    "bag_of_words = count_vectorizer.fit_transform(df_train['Text'])"
   ]
  },
  {
   "cell_type": "code",
   "execution_count": 91,
   "metadata": {
    "_cell_guid": "c037498b-d5d5-4c50-93a4-d37c5c8f091e",
    "_execution_state": "busy",
    "_uuid": "69e813164a0da79e98ec0895a4ce24759dbcdf79"
   },
   "outputs": [
    {
     "data": {
      "text/plain": [
       "1871"
      ]
     },
     "execution_count": 91,
     "metadata": {},
     "output_type": "execute_result"
    }
   ],
   "source": [
    "len(count_vectorizer.get_feature_names())"
   ]
  },
  {
   "cell_type": "markdown",
   "metadata": {
    "_cell_guid": "31960f4d-efd5-4162-bf78-5780088f4d5d",
    "_uuid": "ea3d1136c7e969c8a03f6fb182885782396be325"
   },
   "source": [
    "#### 281586 unique words in corpus"
   ]
  },
  {
   "cell_type": "code",
   "execution_count": 92,
   "metadata": {
    "_cell_guid": "6a5ae966-e759-4c29-96de-7d4492e93888",
    "_execution_state": "busy",
    "_uuid": "74d91589176aed1f15f991fe7e2115df4229c107"
   },
   "outputs": [],
   "source": [
    "svd = TruncatedSVD(n_components=25, n_iter=25, random_state=12)\n",
    "truncated_bag_of_words = svd.fit_transform(bag_of_words)"
   ]
  },
  {
   "cell_type": "code",
   "execution_count": 93,
   "metadata": {
    "_cell_guid": "15b83eea-8ea0-4b4b-a055-d109f7ce814a",
    "_execution_state": "busy",
    "_uuid": "9006201fdd9c50f26229fcbafa258b3dbef94b6b"
   },
   "outputs": [
    {
     "name": "stderr",
     "output_type": "stream",
     "text": [
      "C:\\Users\\jfeng\\AppData\\Local\\Continuum\\miniconda3\\lib\\site-packages\\sklearn\\model_selection\\_split.py:624: FutureWarning: You should specify a value for 'n_splits' instead of relying on the default value. The default value will change from 3 to 5 in version 0.22.\n",
      "  warnings.warn(NSPLIT_WARNING, FutureWarning)\n",
      "[Parallel(n_jobs=-1)]: Using backend LokyBackend with 12 concurrent workers.\n"
     ]
    },
    {
     "name": "stdout",
     "output_type": "stream",
     "text": [
      "Log loss: 0.5847792985392329\n",
      "Accuracy: 0.699\n"
     ]
    },
    {
     "name": "stderr",
     "output_type": "stream",
     "text": [
      "[Parallel(n_jobs=-1)]: Done   3 out of   3 | elapsed:    0.4s finished\n",
      "C:\\Users\\jfeng\\AppData\\Local\\Continuum\\miniconda3\\lib\\site-packages\\sklearn\\utils\\deprecation.py:77: DeprecationWarning: Function plot_confusion_matrix is deprecated; This will be removed in v0.4.0. Please use scikitplot.metrics.plot_confusion_matrix instead.\n",
      "  warnings.warn(msg, category=DeprecationWarning)\n"
     ]
    },
    {
     "data": {
      "image/png": "[encoded data removed]",
      "text/plain": [
       "<Figure size 432x288 with 2 Axes>"
      ]
     },
     "metadata": {
      "needs_background": "light"
     },
     "output_type": "display_data"
    }
   ],
   "source": [
    "evaluate_features(truncated_bag_of_words, df_train['Class'].values.ravel())"
   ]
  },
  {
   "cell_type": "code",
   "execution_count": 94,
   "metadata": {
    "_cell_guid": "6abaa6b4-852b-4421-9f37-3bce113c357e",
    "_execution_state": "busy",
    "_uuid": "d78b3a8c686dbf57aadd3faf8ca1fa66e70bfa00"
   },
   "outputs": [
    {
     "name": "stderr",
     "output_type": "stream",
     "text": [
      "C:\\Users\\jfeng\\AppData\\Local\\Continuum\\miniconda3\\lib\\site-packages\\sklearn\\model_selection\\_split.py:624: FutureWarning: You should specify a value for 'n_splits' instead of relying on the default value. The default value will change from 3 to 5 in version 0.22.\n",
      "  warnings.warn(NSPLIT_WARNING, FutureWarning)\n",
      "[Parallel(n_jobs=-1)]: Using backend LokyBackend with 12 concurrent workers.\n"
     ]
    },
    {
     "name": "stdout",
     "output_type": "stream",
     "text": [
      "Log loss: 0.5976534050593596\n",
      "Accuracy: 0.682\n"
     ]
    },
    {
     "name": "stderr",
     "output_type": "stream",
     "text": [
      "[Parallel(n_jobs=-1)]: Done   3 out of   3 | elapsed:    1.9s finished\n",
      "C:\\Users\\jfeng\\AppData\\Local\\Continuum\\miniconda3\\lib\\site-packages\\sklearn\\utils\\deprecation.py:77: DeprecationWarning: Function plot_confusion_matrix is deprecated; This will be removed in v0.4.0. Please use scikitplot.metrics.plot_confusion_matrix instead.\n",
      "  warnings.warn(msg, category=DeprecationWarning)\n"
     ]
    },
    {
     "data": {
      "image/png": "[encoded data removed]",
      "text/plain": [
       "<Figure size 432x288 with 2 Axes>"
      ]
     },
     "metadata": {
      "needs_background": "light"
     },
     "output_type": "display_data"
    }
   ],
   "source": [
    "evaluate_features(truncated_bag_of_words, df_train['Class'].values.ravel(), \n",
    "                  RandomForestClassifier(n_estimators=1000, max_depth=5, verbose=1))"
   ]
  },
  {
   "cell_type": "markdown",
   "metadata": {
    "_cell_guid": "27ef74f3-6be8-4f87-8a43-4974a8a776ba",
    "_uuid": "ea1c3dd8c62d52ed234d7ce20041e0df3334de46"
   },
   "source": [
    "### Bad results overall for the baseline\n",
    "\n",
    "## Let's try TFIDF"
   ]
  },
  {
   "cell_type": "code",
   "execution_count": 95,
   "metadata": {
    "_cell_guid": "80a12233-65b3-426c-8fab-8d15cc6c78ab",
    "_execution_state": "busy",
    "_uuid": "b9c41a68f6682de79329d161eaaa565063a13f08"
   },
   "outputs": [
    {
     "data": {
      "text/plain": [
       "1871"
      ]
     },
     "execution_count": 95,
     "metadata": {},
     "output_type": "execute_result"
    }
   ],
   "source": [
    "count_vectorizer = TfidfVectorizer(\n",
    "    analyzer=\"word\", tokenizer=nltk.word_tokenize,\n",
    "    preprocessor=None, stop_words='english', max_features=None)    \n",
    "\n",
    "tfidf = count_vectorizer.fit_transform(df_train['Text'])\n",
    "\n",
    "len(count_vectorizer.get_feature_names())"
   ]
  },
  {
   "cell_type": "code",
   "execution_count": 96,
   "metadata": {
    "_cell_guid": "7befec83-dc74-48fb-97b0-c2d78b17decc",
    "_execution_state": "busy",
    "_uuid": "ef48809922c0850626803b3323585d60ff78a32f"
   },
   "outputs": [],
   "source": [
    "svd = TruncatedSVD(n_components=25, n_iter=25, random_state=12)\n",
    "truncated_tfidf = svd.fit_transform(tfidf)"
   ]
  },
  {
   "cell_type": "code",
   "execution_count": 97,
   "metadata": {
    "_cell_guid": "91e06bc0-6ce2-4466-a8b1-66a555a94d3b",
    "_execution_state": "busy",
    "_uuid": "0bd566447e9f104b7b79bb56e8daff6cd372bebd"
   },
   "outputs": [
    {
     "name": "stderr",
     "output_type": "stream",
     "text": [
      "C:\\Users\\jfeng\\AppData\\Local\\Continuum\\miniconda3\\lib\\site-packages\\sklearn\\model_selection\\_split.py:624: FutureWarning: You should specify a value for 'n_splits' instead of relying on the default value. The default value will change from 3 to 5 in version 0.22.\n",
      "  warnings.warn(NSPLIT_WARNING, FutureWarning)\n",
      "[Parallel(n_jobs=-1)]: Using backend LokyBackend with 12 concurrent workers.\n"
     ]
    },
    {
     "name": "stdout",
     "output_type": "stream",
     "text": [
      "Log loss: 0.5975049468380981\n",
      "Accuracy: 0.704\n"
     ]
    },
    {
     "name": "stderr",
     "output_type": "stream",
     "text": [
      "[Parallel(n_jobs=-1)]: Done   3 out of   3 | elapsed:    0.3s finished\n",
      "C:\\Users\\jfeng\\AppData\\Local\\Continuum\\miniconda3\\lib\\site-packages\\sklearn\\utils\\deprecation.py:77: DeprecationWarning: Function plot_confusion_matrix is deprecated; This will be removed in v0.4.0. Please use scikitplot.metrics.plot_confusion_matrix instead.\n",
      "  warnings.warn(msg, category=DeprecationWarning)\n"
     ]
    },
    {
     "data": {
      "image/png": "[encoded data removed]",
      "text/plain": [
       "<Figure size 432x288 with 2 Axes>"
      ]
     },
     "metadata": {
      "needs_background": "light"
     },
     "output_type": "display_data"
    }
   ],
   "source": [
    "evaluate_features(truncated_tfidf, df_train['Class'].values.ravel())"
   ]
  },
  {
   "cell_type": "code",
   "execution_count": 98,
   "metadata": {
    "_cell_guid": "775e52c8-d9e8-4db1-a46c-4f7416aa8a9a",
    "_execution_state": "busy",
    "_uuid": "87c8f656c58e997062d4c82df7f6b319bfa49874"
   },
   "outputs": [
    {
     "name": "stderr",
     "output_type": "stream",
     "text": [
      "C:\\Users\\jfeng\\AppData\\Local\\Continuum\\miniconda3\\lib\\site-packages\\sklearn\\model_selection\\_split.py:624: FutureWarning: You should specify a value for 'n_splits' instead of relying on the default value. The default value will change from 3 to 5 in version 0.22.\n",
      "  warnings.warn(NSPLIT_WARNING, FutureWarning)\n",
      "[Parallel(n_jobs=-1)]: Using backend LokyBackend with 12 concurrent workers.\n"
     ]
    },
    {
     "name": "stdout",
     "output_type": "stream",
     "text": [
      "Log loss: 0.5861831849399772\n",
      "Accuracy: 0.703\n"
     ]
    },
    {
     "name": "stderr",
     "output_type": "stream",
     "text": [
      "[Parallel(n_jobs=-1)]: Done   3 out of   3 | elapsed:    1.7s finished\n",
      "C:\\Users\\jfeng\\AppData\\Local\\Continuum\\miniconda3\\lib\\site-packages\\sklearn\\utils\\deprecation.py:77: DeprecationWarning: Function plot_confusion_matrix is deprecated; This will be removed in v0.4.0. Please use scikitplot.metrics.plot_confusion_matrix instead.\n",
      "  warnings.warn(msg, category=DeprecationWarning)\n"
     ]
    },
    {
     "data": {
      "image/png": "[encoded data removed]",
      "text/plain": [
       "<Figure size 432x288 with 2 Axes>"
      ]
     },
     "metadata": {
      "needs_background": "light"
     },
     "output_type": "display_data"
    }
   ],
   "source": [
    "evaluate_features(truncated_tfidf, df_train['Class'].values.ravel(), \n",
    "                  RandomForestClassifier(n_estimators=1000, max_depth=5, verbose=1))"
   ]
  },
  {
   "cell_type": "code",
   "execution_count": 99,
   "metadata": {
    "_cell_guid": "8dc579fa-63ab-4919-ba78-087adcdb2043",
    "_execution_state": "busy",
    "_uuid": "dc4479f8be6d3f524ce0a086b8019035d50027b1"
   },
   "outputs": [
    {
     "name": "stderr",
     "output_type": "stream",
     "text": [
      "C:\\Users\\jfeng\\AppData\\Local\\Continuum\\miniconda3\\lib\\site-packages\\sklearn\\model_selection\\_split.py:624: FutureWarning: You should specify a value for 'n_splits' instead of relying on the default value. The default value will change from 3 to 5 in version 0.22.\n",
      "  warnings.warn(NSPLIT_WARNING, FutureWarning)\n",
      "[Parallel(n_jobs=-1)]: Using backend LokyBackend with 12 concurrent workers.\n",
      "[Parallel(n_jobs=-1)]: Done   3 out of   3 | elapsed:    0.0s finished\n",
      "C:\\Users\\jfeng\\AppData\\Local\\Continuum\\miniconda3\\lib\\site-packages\\sklearn\\utils\\deprecation.py:77: DeprecationWarning: Function plot_confusion_matrix is deprecated; This will be removed in v0.4.0. Please use scikitplot.metrics.plot_confusion_matrix instead.\n",
      "  warnings.warn(msg, category=DeprecationWarning)\n"
     ]
    },
    {
     "name": "stdout",
     "output_type": "stream",
     "text": [
      "Log loss: 0.4745780750493377\n",
      "Accuracy: 0.787\n"
     ]
    },
    {
     "data": {
      "image/png": "[encoded data removed]",
      "text/plain": [
       "<Figure size 432x288 with 2 Axes>"
      ]
     },
     "metadata": {
      "needs_background": "light"
     },
     "output_type": "display_data"
    }
   ],
   "source": [
    "evaluate_features(tfidf, df_train['Class'].values.ravel(), \n",
    "                  SVC(kernel='linear', probability=True))"
   ]
  },
  {
   "cell_type": "markdown",
   "metadata": {
    "_cell_guid": "67253f68-410f-4309-bf17-2144340558c3",
    "_uuid": "62cb5aa5763d6bf912fd56abc777998175806ca2"
   },
   "source": [
    "Also tried a linear SVM for features straight from TFIDF (did not go through Truncated SVD). Worse log loss but confusion matrix seems to show better balance among predicted classes.\n",
    "\n",
    "This time, let's try the popular word2vec to get features\n",
    "\n",
    "Define helper function get_word2vec  and helper class MySentences for training word2vec on the corpus of texts. (or loading if already trained and saved to disk)"
   ]
  },
  {
   "cell_type": "code",
   "execution_count": 100,
   "metadata": {
    "_cell_guid": "609177df-1799-4f5e-b3e7-77c820561a7c",
    "_execution_state": "busy",
    "_uuid": "d631c05ece2e126a82481fa5a262d12ec7577e38"
   },
   "outputs": [],
   "source": [
    "class MySentences(object):\n",
    "    \"\"\"MySentences is a generator to produce a list of tokenized sentences \n",
    "    \n",
    "    Takes a list of numpy arrays containing documents.\n",
    "    \n",
    "    Args:\n",
    "        arrays: List of arrays, where each element in the array contains a document.\n",
    "    \"\"\"\n",
    "    def __init__(self, *arrays):\n",
    "        self.arrays = arrays\n",
    " \n",
    "    def __iter__(self):\n",
    "        for array in self.arrays:\n",
    "            for document in array:\n",
    "                for sent in nltk.sent_tokenize(document):\n",
    "                    yield nltk.word_tokenize(sent)\n",
    "\n",
    "def get_word2vec(sentences, location):\n",
    "    \"\"\"Returns trained word2vec\n",
    "    \n",
    "    Args:\n",
    "        sentences: iterator for sentences\n",
    "        \n",
    "        location (str): Path to save/load word2vec\n",
    "    \"\"\"\n",
    "    if os.path.exists(location):\n",
    "        print('Found {}'.format(location))\n",
    "        model = gensim.models.Word2Vec.load(location)\n",
    "        return model\n",
    "    \n",
    "    print('{} not found. training model'.format(location))\n",
    "    model = gensim.models.Word2Vec(sentences, size=100, window=5, min_count=5, workers=4)\n",
    "    print('Model done training. Saving to disk')\n",
    "    model.save(location)\n",
    "    return model"
   ]
  },
  {
   "cell_type": "markdown",
   "metadata": {
    "_cell_guid": "5782e63f-8fef-47c8-b83a-829836f1f096",
    "_uuid": "70f109950197b133cc46e2497b2248830d42a349"
   },
   "source": [
    "### Start training the word2vec model. Since word2vec training is unsupervised, you can use both training and test datasets.\n",
    "\n",
    "If training has already been done, the function will just load the word2vec to disk so you don't need to retrain if rerunning the notebook"
   ]
  },
  {
   "cell_type": "code",
   "execution_count": 136,
   "metadata": {
    "_cell_guid": "e62cf926-34d9-461a-bf92-21e38e9ff2d3",
    "_execution_state": "busy",
    "_uuid": "80d89a6184209c1630976aa5bdb9a93b1290b363"
   },
   "outputs": [
    {
     "name": "stdout",
     "output_type": "stream",
     "text": [
      "Found w2vmodel\n"
     ]
    },
    {
     "name": "stderr",
     "output_type": "stream",
     "text": [
      "C:\\Users\\jfeng\\AppData\\Local\\Continuum\\miniconda3\\lib\\site-packages\\smart_open\\smart_open_lib.py:398: UserWarning: This function is deprecated, use smart_open.open instead. See the migration notes for details: https://github.com/RaRe-Technologies/smart_open/blob/master/README.rst#migrating-to-the-new-open-function\n",
      "  'See the migration notes for details: %s' % _MIGRATION_NOTES_URL\n"
     ]
    }
   ],
   "source": [
    "w2vec = get_word2vec(\n",
    "    MySentences(\n",
    "        df_train['Text'].values\n",
    "    ),\n",
    "    'w2vmodel'\n",
    ")"
   ]
  },
  {
   "cell_type": "markdown",
   "metadata": {
    "_cell_guid": "591cc8cb-49c2-41d0-be0a-ff8ee7d4f230",
    "_uuid": "b41f276a240b388d56fb5187a5b99ac0d3b76d59"
   },
   "source": [
    "### Now that we have our word2vec model, how do we use it to transform each documents into a feature vector? In order to convert a document of multiple words into a single vector using our trained word2vec, we take the word2vec of all words in the document, then take its mean.\n",
    "\n",
    "### We'll define a transformer (with sklearn interface) to convert a document into its corresponding vector"
   ]
  },
  {
   "cell_type": "code",
   "execution_count": 102,
   "metadata": {
    "_cell_guid": "8be99804-9357-4522-a80b-aa328f5ef973",
    "_execution_state": "busy",
    "_uuid": "f188944da320461ad2e8f76a7a991454e2c0763c"
   },
   "outputs": [],
   "source": [
    "class MyTokenizer:\n",
    "    def __init__(self):\n",
    "        pass\n",
    "    \n",
    "    def fit(self, X, y=None):\n",
    "        return self\n",
    "    \n",
    "    def transform(self, X):\n",
    "        transformed_X = []\n",
    "        for document in X:\n",
    "            tokenized_doc = []\n",
    "            for sent in nltk.sent_tokenize(document):\n",
    "                tokenized_doc += nltk.word_tokenize(sent)\n",
    "            transformed_X.append(np.array(tokenized_doc))\n",
    "        return np.array(transformed_X)\n",
    "    \n",
    "    def fit_transform(self, X, y=None):\n",
    "        return self.transform(X)\n",
    "\n",
    "class MeanEmbeddingVectorizer(object):\n",
    "    def __init__(self, word2vec):\n",
    "        self.word2vec = word2vec\n",
    "        # if a text is empty we should return a vector of zeros\n",
    "        # with the same dimensionality as all the other vectors\n",
    "        self.dim = len(word2vec.wv.syn0[0])\n",
    "\n",
    "    def fit(self, X, y=None):\n",
    "        return self\n",
    "\n",
    "    def transform(self, X):\n",
    "        X = MyTokenizer().fit_transform(X)\n",
    "        \n",
    "        return np.array([\n",
    "            np.mean([self.word2vec.wv[w] for w in words if w in self.word2vec.wv]\n",
    "                    or [np.zeros(self.dim)], axis=0)\n",
    "            for words in X\n",
    "        ])\n",
    "    \n",
    "    def fit_transform(self, X, y=None):\n",
    "        return self.transform(X)\n"
   ]
  },
  {
   "cell_type": "code",
   "execution_count": 106,
   "metadata": {
    "_cell_guid": "1a13f2ef-1fb7-462a-8e72-63608f158969",
    "_execution_state": "busy",
    "_uuid": "22e86ded9c31b7039c65ba3e46a2e58ff2b08cee"
   },
   "outputs": [
    {
     "name": "stderr",
     "output_type": "stream",
     "text": [
      "C:\\Users\\jfeng\\AppData\\Local\\Continuum\\miniconda3\\lib\\site-packages\\ipykernel_launcher.py:25: DeprecationWarning: Call to deprecated `syn0` (Attribute will be removed in 4.0.0, use self.wv.vectors instead).\n"
     ]
    },
    {
     "data": {
      "text/plain": [
       "(1000, 100)"
      ]
     },
     "execution_count": 106,
     "metadata": {},
     "output_type": "execute_result"
    }
   ],
   "source": [
    "mean_embedding_vectorizer = MeanEmbeddingVectorizer(w2vec)\n",
    "mean_embedded = mean_embedding_vectorizer.fit_transform(df_train['Text'])\n",
    "mean_embedded.shape"
   ]
  },
  {
   "cell_type": "code",
   "execution_count": 137,
   "metadata": {
    "_cell_guid": "383b2dc5-5ba8-4a44-86cc-d6710bacc8a8",
    "_execution_state": "busy",
    "_uuid": "2f30d63d72bc0dda91f1625a399fc1a98c8e25c8"
   },
   "outputs": [
    {
     "name": "stderr",
     "output_type": "stream",
     "text": [
      "C:\\Users\\jfeng\\AppData\\Local\\Continuum\\miniconda3\\lib\\site-packages\\sklearn\\model_selection\\_split.py:624: FutureWarning: You should specify a value for 'n_splits' instead of relying on the default value. The default value will change from 3 to 5 in version 0.22.\n",
      "  warnings.warn(NSPLIT_WARNING, FutureWarning)\n",
      "[Parallel(n_jobs=-1)]: Using backend LokyBackend with 12 concurrent workers.\n"
     ]
    },
    {
     "name": "stdout",
     "output_type": "stream",
     "text": [
      "Log loss: 0.6645919484762715\n",
      "Accuracy: 0.63\n"
     ]
    },
    {
     "name": "stderr",
     "output_type": "stream",
     "text": [
      "[Parallel(n_jobs=-1)]: Done   3 out of   3 | elapsed:    2.2s finished\n",
      "C:\\Users\\jfeng\\AppData\\Local\\Continuum\\miniconda3\\lib\\site-packages\\sklearn\\utils\\deprecation.py:77: DeprecationWarning: Function plot_confusion_matrix is deprecated; This will be removed in v0.4.0. Please use scikitplot.metrics.plot_confusion_matrix instead.\n",
      "  warnings.warn(msg, category=DeprecationWarning)\n"
     ]
    },
    {
     "data": {
      "image/png": "[encoded data removed]",
      "text/plain": [
       "<Figure size 432x288 with 2 Axes>"
      ]
     },
     "metadata": {
      "needs_background": "light"
     },
     "output_type": "display_data"
    }
   ],
   "source": [
    "evaluate_features(mean_embedded, df_train['Class'].values.ravel())"
   ]
  },
  {
   "cell_type": "code",
   "execution_count": 109,
   "metadata": {
    "_cell_guid": "33e16fc2-7172-4163-9d6e-8bab7a9e85b3",
    "_execution_state": "busy",
    "_uuid": "c0fcd434367d7a1899deda82cdfe5726c85bb41e"
   },
   "outputs": [
    {
     "name": "stderr",
     "output_type": "stream",
     "text": [
      "C:\\Users\\jfeng\\AppData\\Local\\Continuum\\miniconda3\\lib\\site-packages\\sklearn\\model_selection\\_split.py:624: FutureWarning: You should specify a value for 'n_splits' instead of relying on the default value. The default value will change from 3 to 5 in version 0.22.\n",
      "  warnings.warn(NSPLIT_WARNING, FutureWarning)\n",
      "[Parallel(n_jobs=-1)]: Using backend LokyBackend with 12 concurrent workers.\n"
     ]
    },
    {
     "name": "stdout",
     "output_type": "stream",
     "text": [
      "Log loss: 0.6747906919673798\n",
      "Accuracy: 0.625\n"
     ]
    },
    {
     "name": "stderr",
     "output_type": "stream",
     "text": [
      "[Parallel(n_jobs=-1)]: Done   3 out of   3 | elapsed:    3.4s finished\n",
      "C:\\Users\\jfeng\\AppData\\Local\\Continuum\\miniconda3\\lib\\site-packages\\sklearn\\utils\\deprecation.py:77: DeprecationWarning: Function plot_confusion_matrix is deprecated; This will be removed in v0.4.0. Please use scikitplot.metrics.plot_confusion_matrix instead.\n",
      "  warnings.warn(msg, category=DeprecationWarning)\n"
     ]
    },
    {
     "data": {
      "image/png": "[encoded data removed]",
      "text/plain": [
       "<Figure size 432x288 with 2 Axes>"
      ]
     },
     "metadata": {
      "needs_background": "light"
     },
     "output_type": "display_data"
    }
   ],
   "source": [
    "evaluate_features(mean_embedded, df_train['Class'].values.ravel(),\n",
    "                  RandomForestClassifier(n_estimators=1000, max_depth=15, verbose=1))"
   ]
  },
  {
   "cell_type": "markdown",
   "metadata": {
    "_cell_guid": "d59000aa-abc6-4ea8-b3f8-683f54e95761",
    "_uuid": "6ea65a9b884a0af3c31a2ca61432fa6858f9a402"
   },
   "source": [
    "### As expected, we get better results than TF-IDF. \n",
    "\n",
    "The results are still not very good though. One way to explain this is that there is a lot of information loss from just getting the mean of all word vectors of the document. This is roughly analogous to taking the entire document, summarizing it into one word, and using that word to classify the entire text."
   ]
  },
  {
   "cell_type": "markdown",
   "metadata": {
    "_cell_guid": "7db18b6e-d23f-412a-9f16-429082572649",
    "_uuid": "934ddee5cd73ca17ee2bd73f647290697aca997c"
   },
   "source": [
    "## Let's try a quick and dirty LSTM in Keras to take into account the sequential nature of text\n",
    "\n",
    "* We won't do any hyperparameter search \n",
    "* We'll go with 15 epochs, and save the model with the best validation loss after an epoch\n",
    "* Max sequence length is cut down to a measly 2000 (longest text has 77000+ words), to shorten training time and prevent GPU OOM\n",
    "\n",
    "Note: This takes about an hour to run on GPU"
   ]
  },
  {
   "cell_type": "code",
   "execution_count": 112,
   "metadata": {
    "_cell_guid": "d1b0a192-ea18-419e-9ba4-bb52f12b9f78",
    "_execution_state": "busy",
    "_uuid": "8d4ee34e1e95faa8be9d93ecced116c324b61465"
   },
   "outputs": [],
   "source": [
    "# Use the Keras tokenizer\n",
    "num_words = 2000\n",
    "tokenizer = Tokenizer(num_words=num_words)\n",
    "tokenizer.fit_on_texts(df_train['Text'].values)"
   ]
  },
  {
   "cell_type": "code",
   "execution_count": 113,
   "metadata": {
    "_cell_guid": "0610df13-711b-4d28-810a-2f7361cea388",
    "_execution_state": "busy",
    "_uuid": "2fba830b1fd73426d1b3b2f22bac503d91d0a923"
   },
   "outputs": [],
   "source": [
    "# Pad the data \n",
    "X = tokenizer.texts_to_sequences(df_train['Text'].values)\n",
    "X = pad_sequences(X, maxlen=2000)"
   ]
  },
  {
   "cell_type": "code",
   "execution_count": 114,
   "metadata": {
    "_cell_guid": "af64e666-69b4-4fe7-a8ce-c098e640cbf9",
    "_execution_state": "busy",
    "_uuid": "6aff6b56a17d5bc0650e1bb41e60fee7be6f52ac"
   },
   "outputs": [
    {
     "name": "stdout",
     "output_type": "stream",
     "text": [
      "_________________________________________________________________\n",
      "Layer (type)                 Output Shape              Param #   \n",
      "=================================================================\n",
      "embedding_3 (Embedding)      (None, 2000, 128)         256000    \n",
      "_________________________________________________________________\n",
      "lstm_3 (LSTM)                (None, 196)               254800    \n",
      "_________________________________________________________________\n",
      "dense_3 (Dense)              (None, 2)                 394       \n",
      "=================================================================\n",
      "Total params: 511,194\n",
      "Trainable params: 511,194\n",
      "Non-trainable params: 0\n",
      "_________________________________________________________________\n",
      "None\n"
     ]
    }
   ],
   "source": [
    "# Build out our simple LSTM\n",
    "embed_dim = 128\n",
    "lstm_out = 196\n",
    "\n",
    "# Model saving callback\n",
    "ckpt_callback = ModelCheckpoint('keras_model', \n",
    "                                 monitor='val_loss', \n",
    "                                 verbose=1, \n",
    "                                 save_best_only=True, \n",
    "                                 mode='auto')\n",
    "\n",
    "model = Sequential()\n",
    "model.add(Embedding(num_words, embed_dim, input_length = X.shape[1]))\n",
    "model.add(LSTM(lstm_out, recurrent_dropout=0.2, dropout=0.2))\n",
    "model.add(Dense(2,activation='softmax'))\n",
    "model.compile(loss = 'categorical_crossentropy', optimizer='adam', metrics = ['categorical_crossentropy'])\n",
    "print(model.summary())"
   ]
  },
  {
   "cell_type": "code",
   "execution_count": 115,
   "metadata": {
    "_cell_guid": "3a3d8330-3b5e-4cb6-87c7-0f7707b48a76",
    "_execution_state": "busy",
    "_uuid": "f9a53d657ec8a6017648965ad8073627756a13bd"
   },
   "outputs": [
    {
     "name": "stdout",
     "output_type": "stream",
     "text": [
      "(800, 2000) (800, 2)\n",
      "(200, 2000) (200, 2)\n"
     ]
    }
   ],
   "source": [
    "Y = pd.get_dummies(df_train['Class']).values\n",
    "X_train, X_test, Y_train, Y_test = train_test_split(X, Y, test_size = 0.2, random_state = 42, stratify=Y)\n",
    "print(X_train.shape, Y_train.shape)\n",
    "print(X_test.shape, Y_test.shape)\n"
   ]
  },
  {
   "cell_type": "code",
   "execution_count": 116,
   "metadata": {
    "_cell_guid": "d7eac40d-a8d6-47a7-9542-1a2b06f76ca8",
    "_execution_state": "busy",
    "_uuid": "a0da0f4a43684380e3dd1b6f53d03cc45384fbf9",
    "scrolled": true
   },
   "outputs": [
    {
     "name": "stdout",
     "output_type": "stream",
     "text": [
      "Train on 640 samples, validate on 160 samples\n",
      "Epoch 1/8\n",
      "640/640 [==============================] - 148s 231ms/step - loss: 0.6907 - categorical_crossentropy: 0.6907 - val_loss: 0.6810 - val_categorical_crossentropy: 0.6810\n",
      "\n",
      "Epoch 00001: val_loss improved from inf to 0.68102, saving model to keras_model\n",
      "Epoch 2/8\n",
      "640/640 [==============================] - 150s 235ms/step - loss: 0.6267 - categorical_crossentropy: 0.6267 - val_loss: 0.6102 - val_categorical_crossentropy: 0.6102\n",
      "\n",
      "Epoch 00002: val_loss improved from 0.68102 to 0.61018, saving model to keras_model\n",
      "Epoch 3/8\n",
      "640/640 [==============================] - 148s 231ms/step - loss: 0.4408 - categorical_crossentropy: 0.4408 - val_loss: 1.8323 - val_categorical_crossentropy: 1.8323\n",
      "\n",
      "Epoch 00003: val_loss did not improve from 0.61018\n",
      "Epoch 4/8\n",
      "640/640 [==============================] - 153s 240ms/step - loss: 0.3764 - categorical_crossentropy: 0.3764 - val_loss: 0.5522 - val_categorical_crossentropy: 0.5522\n",
      "\n",
      "Epoch 00004: val_loss improved from 0.61018 to 0.55221, saving model to keras_model\n",
      "Epoch 5/8\n",
      "640/640 [==============================] - 158s 247ms/step - loss: 0.2792 - categorical_crossentropy: 0.2792 - val_loss: 0.5553 - val_categorical_crossentropy: 0.5553\n",
      "\n",
      "Epoch 00005: val_loss did not improve from 0.55221\n",
      "Epoch 6/8\n",
      "640/640 [==============================] - 158s 246ms/step - loss: 0.1855 - categorical_crossentropy: 0.1855 - val_loss: 0.5938 - val_categorical_crossentropy: 0.5938\n",
      "\n",
      "Epoch 00006: val_loss did not improve from 0.55221\n",
      "Epoch 7/8\n",
      "640/640 [==============================] - 157s 246ms/step - loss: 0.1263 - categorical_crossentropy: 0.1263 - val_loss: 0.6366 - val_categorical_crossentropy: 0.6366\n",
      "\n",
      "Epoch 00007: val_loss did not improve from 0.55221\n",
      "Epoch 8/8\n",
      "640/640 [==============================] - 149s 232ms/step - loss: 0.0858 - categorical_crossentropy: 0.0858 - val_loss: 0.6682 - val_categorical_crossentropy: 0.6682\n",
      "\n",
      "Epoch 00008: val_loss did not improve from 0.55221\n"
     ]
    },
    {
     "data": {
      "text/plain": [
       "<keras.callbacks.History at 0x24eb236f748>"
      ]
     },
     "execution_count": 116,
     "metadata": {},
     "output_type": "execute_result"
    }
   ],
   "source": [
    "batch_size = 32\n",
    "model.fit(X_train, Y_train, epochs=8, batch_size=batch_size, validation_split=0.2, callbacks=[ckpt_callback])"
   ]
  },
  {
   "cell_type": "code",
   "execution_count": 117,
   "metadata": {
    "_cell_guid": "72101f81-dd5a-4b27-b985-e4fa03a7d7fd",
    "_execution_state": "busy",
    "_uuid": "142200cc3855cd276bb3a9abf3526a61988fafee"
   },
   "outputs": [],
   "source": [
    "model = load_model('keras_model')"
   ]
  },
  {
   "cell_type": "code",
   "execution_count": 118,
   "metadata": {
    "_cell_guid": "63a95326-bbb5-4513-8a0c-329f87cc1fb9",
    "_execution_state": "busy",
    "_uuid": "80eb60399aedb6f8fcb3b65e215b1340f2b679c2"
   },
   "outputs": [],
   "source": [
    "probas = model.predict(X_test)"
   ]
  },
  {
   "cell_type": "code",
   "execution_count": 68,
   "metadata": {
    "_cell_guid": "da8194c1-bce5-4d3d-93a7-fbb6b832113e",
    "_execution_state": "busy",
    "_uuid": "fffe9f6d9907deabbf827f183c4cf33af917b131"
   },
   "outputs": [
    {
     "name": "stdout",
     "output_type": "stream",
     "text": [
      "Log loss: 0.5066357638547196\n",
      "Accuracy: 0.75\n"
     ]
    },
    {
     "name": "stderr",
     "output_type": "stream",
     "text": [
      "C:\\Users\\jfeng\\AppData\\Local\\Continuum\\miniconda3\\lib\\site-packages\\sklearn\\utils\\deprecation.py:77: DeprecationWarning: Function plot_confusion_matrix is deprecated; This will be removed in v0.4.0. Please use scikitplot.metrics.plot_confusion_matrix instead.\n",
      "  warnings.warn(msg, category=DeprecationWarning)\n"
     ]
    },
    {
     "data": {
      "text/plain": [
       "<matplotlib.axes._subplots.AxesSubplot at 0x24ee33d12e8>"
      ]
     },
     "execution_count": 68,
     "metadata": {},
     "output_type": "execute_result"
    },
    {
     "data": {
      "image/png": "[encoded data removed]",
      "text/plain": [
       "<Figure size 432x288 with 2 Axes>"
      ]
     },
     "metadata": {
      "needs_background": "light"
     },
     "output_type": "display_data"
    }
   ],
   "source": [
    "pred_indices = np.argmax(probas, axis=1)\n",
    "classes = np.array(range(1, 10))\n",
    "preds = classes[pred_indices]\n",
    "print('Log loss: {}'.format(log_loss(classes[np.argmax(Y_test, axis=1)], probas)))\n",
    "print('Accuracy: {}'.format(accuracy_score(classes[np.argmax(Y_test, axis=1)], preds)))\n",
    "skplt.plot_confusion_matrix(classes[np.argmax(Y_test, axis=1)], preds)"
   ]
  },
  {
   "cell_type": "markdown",
   "metadata": {
    "_cell_guid": "e96c819f-eea0-4079-8309-0b5233fb4a1c",
    "_uuid": "0fda6b5af213a4250ba1589b7203ffde3aaead6f"
   },
   "source": [
    "### The results of the quick LSTM are promising. \n",
    "\n",
    "On the first try with no hyperparameter search, 6th epoch, max sequence length cut down to a measly 2000 (longest text has 77000+ words), we get the best log loss so far of around 1.4. You can still see a bit of bias towards class 7 but the confusion matrix looks more balanced than anything we've seen so far.\n",
    "\n",
    "### Further tuning of the LSTM will likely produce better results."
   ]
  },
  {
   "cell_type": "markdown",
   "metadata": {
    "_cell_guid": "97164561-dca4-43fe-b37b-3a54d64dd99b",
    "_uuid": "d65b9d9324de3990985b1cc6e6b3b50bb6ad9ca2"
   },
   "source": [
    "### Truncated one hot encoding + word2vec"
   ]
  },
  {
   "cell_type": "markdown",
   "metadata": {
    "_cell_guid": "e70c3e0c-3722-4ed0-943f-3909c2078f38",
    "_uuid": "2eeb0f102a078b433d0c30b9d4e5fedebc58a236"
   },
   "source": [
    "## Before going into a summary of the insights we've discovered, let's generate some submissions from our best models and see how they fare in the public leaderboard\n",
    "\n",
    "### We'll start by generating a submission from our word2vec model"
   ]
  },
  {
   "cell_type": "code",
   "execution_count": 138,
   "metadata": {
    "_cell_guid": "359545db-061c-428c-9863-77cc73edb2a5",
    "_execution_state": "busy",
    "_uuid": "960016c34ae2a8cc76c9624ee721e712e3e3baf5"
   },
   "outputs": [
    {
     "name": "stderr",
     "output_type": "stream",
     "text": [
      "C:\\Users\\jfeng\\AppData\\Local\\Continuum\\miniconda3\\lib\\site-packages\\sklearn\\linear_model\\logistic.py:433: FutureWarning: Default solver will be changed to 'lbfgs' in 0.22. Specify a solver to silence this warning.\n",
      "  FutureWarning)\n"
     ]
    },
    {
     "data": {
      "text/plain": [
       "LogisticRegression(C=1.0, class_weight=None, dual=False, fit_intercept=True,\n",
       "          intercept_scaling=1, max_iter=100, multi_class='warn',\n",
       "          n_jobs=None, penalty='l2', random_state=None, solver='warn',\n",
       "          tol=0.0001, verbose=0, warm_start=False)"
      ]
     },
     "execution_count": 138,
     "metadata": {},
     "output_type": "execute_result"
    }
   ],
   "source": [
    "lr_w2vec = LogisticRegression()\n",
    "lr_w2vec.fit(mean_embedded, df_train['Class'])"
   ]
  },
  {
   "cell_type": "markdown",
   "metadata": {
    "_cell_guid": "d30f0cd2-bd38-4913-941f-2de07416dce9",
    "_uuid": "2313e8a97d9801826e7499fafbcf73abe353df28"
   },
   "source": [
    "### Test out XGB and SVC"
   ]
  },
  {
   "cell_type": "code",
   "execution_count": 159,
   "metadata": {
    "_cell_guid": "366147f8-7898-4c43-8e7d-3bb9092c0914",
    "_execution_state": "busy",
    "_uuid": "936695ec044ae89260c3e191b9af9a1c84e21e67"
   },
   "outputs": [
    {
     "ename": "XGBoostError",
     "evalue": "value 0 for Parameter num_class should be greater equal to 1",
     "output_type": "error",
     "traceback": [
      "\u001b[1;31m---------------------------------------------------------------------------\u001b[0m",
      "\u001b[1;31mXGBoostError\u001b[0m                              Traceback (most recent call last)",
      "\u001b[1;32m<ipython-input-159-afd616d8c2c6>\u001b[0m in \u001b[0;36m<module>\u001b[1;34m\u001b[0m\n\u001b[0;32m      4\u001b[0m                           n_jobs=-1)\n\u001b[0;32m      5\u001b[0m \u001b[0mnew_class\u001b[0m \u001b[1;33m=\u001b[0m \u001b[0mdf_train\u001b[0m\u001b[1;33m[\u001b[0m\u001b[1;34m'Class'\u001b[0m\u001b[1;33m]\u001b[0m\u001b[1;33m.\u001b[0m\u001b[0mvalues\u001b[0m\u001b[1;33m.\u001b[0m\u001b[0mravel\u001b[0m\u001b[1;33m(\u001b[0m\u001b[1;33m)\u001b[0m\u001b[1;33m\u001b[0m\u001b[1;33m\u001b[0m\u001b[0m\n\u001b[1;32m----> 6\u001b[1;33m \u001b[0mxgb_w2vec\u001b[0m\u001b[1;33m.\u001b[0m\u001b[0mfit\u001b[0m\u001b[1;33m(\u001b[0m\u001b[0mmean_embedded\u001b[0m\u001b[1;33m,\u001b[0m \u001b[0mnew_class\u001b[0m\u001b[1;33m)\u001b[0m\u001b[1;33m\u001b[0m\u001b[1;33m\u001b[0m\u001b[0m\n\u001b[0m",
      "\u001b[1;32m~\\AppData\\Local\\Continuum\\miniconda3\\lib\\site-packages\\xgboost\\sklearn.py\u001b[0m in \u001b[0;36mfit\u001b[1;34m(self, X, y, sample_weight, eval_set, eval_metric, early_stopping_rounds, verbose, xgb_model, sample_weight_eval_set, callbacks)\u001b[0m\n\u001b[0;32m    730\u001b[0m                               \u001b[0mevals_result\u001b[0m\u001b[1;33m=\u001b[0m\u001b[0mevals_result\u001b[0m\u001b[1;33m,\u001b[0m \u001b[0mobj\u001b[0m\u001b[1;33m=\u001b[0m\u001b[0mobj\u001b[0m\u001b[1;33m,\u001b[0m \u001b[0mfeval\u001b[0m\u001b[1;33m=\u001b[0m\u001b[0mfeval\u001b[0m\u001b[1;33m,\u001b[0m\u001b[1;33m\u001b[0m\u001b[1;33m\u001b[0m\u001b[0m\n\u001b[0;32m    731\u001b[0m                               \u001b[0mverbose_eval\u001b[0m\u001b[1;33m=\u001b[0m\u001b[0mverbose\u001b[0m\u001b[1;33m,\u001b[0m \u001b[0mxgb_model\u001b[0m\u001b[1;33m=\u001b[0m\u001b[0mxgb_model\u001b[0m\u001b[1;33m,\u001b[0m\u001b[1;33m\u001b[0m\u001b[1;33m\u001b[0m\u001b[0m\n\u001b[1;32m--> 732\u001b[1;33m                               callbacks=callbacks)\n\u001b[0m\u001b[0;32m    733\u001b[0m \u001b[1;33m\u001b[0m\u001b[0m\n\u001b[0;32m    734\u001b[0m         \u001b[0mself\u001b[0m\u001b[1;33m.\u001b[0m\u001b[0mobjective\u001b[0m \u001b[1;33m=\u001b[0m \u001b[0mxgb_options\u001b[0m\u001b[1;33m[\u001b[0m\u001b[1;34m\"objective\"\u001b[0m\u001b[1;33m]\u001b[0m\u001b[1;33m\u001b[0m\u001b[1;33m\u001b[0m\u001b[0m\n",
      "\u001b[1;32m~\\AppData\\Local\\Continuum\\miniconda3\\lib\\site-packages\\xgboost\\training.py\u001b[0m in \u001b[0;36mtrain\u001b[1;34m(params, dtrain, num_boost_round, evals, obj, feval, maximize, early_stopping_rounds, evals_result, verbose_eval, xgb_model, callbacks, learning_rates)\u001b[0m\n\u001b[0;32m    214\u001b[0m                            \u001b[0mevals\u001b[0m\u001b[1;33m=\u001b[0m\u001b[0mevals\u001b[0m\u001b[1;33m,\u001b[0m\u001b[1;33m\u001b[0m\u001b[1;33m\u001b[0m\u001b[0m\n\u001b[0;32m    215\u001b[0m                            \u001b[0mobj\u001b[0m\u001b[1;33m=\u001b[0m\u001b[0mobj\u001b[0m\u001b[1;33m,\u001b[0m \u001b[0mfeval\u001b[0m\u001b[1;33m=\u001b[0m\u001b[0mfeval\u001b[0m\u001b[1;33m,\u001b[0m\u001b[1;33m\u001b[0m\u001b[1;33m\u001b[0m\u001b[0m\n\u001b[1;32m--> 216\u001b[1;33m                            xgb_model=xgb_model, callbacks=callbacks)\n\u001b[0m\u001b[0;32m    217\u001b[0m \u001b[1;33m\u001b[0m\u001b[0m\n\u001b[0;32m    218\u001b[0m \u001b[1;33m\u001b[0m\u001b[0m\n",
      "\u001b[1;32m~\\AppData\\Local\\Continuum\\miniconda3\\lib\\site-packages\\xgboost\\training.py\u001b[0m in \u001b[0;36m_train_internal\u001b[1;34m(params, dtrain, num_boost_round, evals, obj, feval, xgb_model, callbacks)\u001b[0m\n\u001b[0;32m     72\u001b[0m         \u001b[1;31m# Skip the first update if it is a recovery step.\u001b[0m\u001b[1;33m\u001b[0m\u001b[1;33m\u001b[0m\u001b[1;33m\u001b[0m\u001b[0m\n\u001b[0;32m     73\u001b[0m         \u001b[1;32mif\u001b[0m \u001b[0mversion\u001b[0m \u001b[1;33m%\u001b[0m \u001b[1;36m2\u001b[0m \u001b[1;33m==\u001b[0m \u001b[1;36m0\u001b[0m\u001b[1;33m:\u001b[0m\u001b[1;33m\u001b[0m\u001b[1;33m\u001b[0m\u001b[0m\n\u001b[1;32m---> 74\u001b[1;33m             \u001b[0mbst\u001b[0m\u001b[1;33m.\u001b[0m\u001b[0mupdate\u001b[0m\u001b[1;33m(\u001b[0m\u001b[0mdtrain\u001b[0m\u001b[1;33m,\u001b[0m \u001b[0mi\u001b[0m\u001b[1;33m,\u001b[0m \u001b[0mobj\u001b[0m\u001b[1;33m)\u001b[0m\u001b[1;33m\u001b[0m\u001b[1;33m\u001b[0m\u001b[0m\n\u001b[0m\u001b[0;32m     75\u001b[0m             \u001b[0mbst\u001b[0m\u001b[1;33m.\u001b[0m\u001b[0msave_rabit_checkpoint\u001b[0m\u001b[1;33m(\u001b[0m\u001b[1;33m)\u001b[0m\u001b[1;33m\u001b[0m\u001b[1;33m\u001b[0m\u001b[0m\n\u001b[0;32m     76\u001b[0m             \u001b[0mversion\u001b[0m \u001b[1;33m+=\u001b[0m \u001b[1;36m1\u001b[0m\u001b[1;33m\u001b[0m\u001b[1;33m\u001b[0m\u001b[0m\n",
      "\u001b[1;32m~\\AppData\\Local\\Continuum\\miniconda3\\lib\\site-packages\\xgboost\\core.py\u001b[0m in \u001b[0;36mupdate\u001b[1;34m(self, dtrain, iteration, fobj)\u001b[0m\n\u001b[0;32m   1107\u001b[0m         \u001b[1;32mif\u001b[0m \u001b[0mfobj\u001b[0m \u001b[1;32mis\u001b[0m \u001b[1;32mNone\u001b[0m\u001b[1;33m:\u001b[0m\u001b[1;33m\u001b[0m\u001b[1;33m\u001b[0m\u001b[0m\n\u001b[0;32m   1108\u001b[0m             _check_call(_LIB.XGBoosterUpdateOneIter(self.handle, ctypes.c_int(iteration),\n\u001b[1;32m-> 1109\u001b[1;33m                                                     dtrain.handle))\n\u001b[0m\u001b[0;32m   1110\u001b[0m         \u001b[1;32melse\u001b[0m\u001b[1;33m:\u001b[0m\u001b[1;33m\u001b[0m\u001b[1;33m\u001b[0m\u001b[0m\n\u001b[0;32m   1111\u001b[0m             \u001b[0mpred\u001b[0m \u001b[1;33m=\u001b[0m \u001b[0mself\u001b[0m\u001b[1;33m.\u001b[0m\u001b[0mpredict\u001b[0m\u001b[1;33m(\u001b[0m\u001b[0mdtrain\u001b[0m\u001b[1;33m)\u001b[0m\u001b[1;33m\u001b[0m\u001b[1;33m\u001b[0m\u001b[0m\n",
      "\u001b[1;32m~\\AppData\\Local\\Continuum\\miniconda3\\lib\\site-packages\\xgboost\\core.py\u001b[0m in \u001b[0;36m_check_call\u001b[1;34m(ret)\u001b[0m\n\u001b[0;32m    174\u001b[0m     \"\"\"\n\u001b[0;32m    175\u001b[0m     \u001b[1;32mif\u001b[0m \u001b[0mret\u001b[0m \u001b[1;33m!=\u001b[0m \u001b[1;36m0\u001b[0m\u001b[1;33m:\u001b[0m\u001b[1;33m\u001b[0m\u001b[1;33m\u001b[0m\u001b[0m\n\u001b[1;32m--> 176\u001b[1;33m         \u001b[1;32mraise\u001b[0m \u001b[0mXGBoostError\u001b[0m\u001b[1;33m(\u001b[0m\u001b[0mpy_str\u001b[0m\u001b[1;33m(\u001b[0m\u001b[0m_LIB\u001b[0m\u001b[1;33m.\u001b[0m\u001b[0mXGBGetLastError\u001b[0m\u001b[1;33m(\u001b[0m\u001b[1;33m)\u001b[0m\u001b[1;33m)\u001b[0m\u001b[1;33m)\u001b[0m\u001b[1;33m\u001b[0m\u001b[1;33m\u001b[0m\u001b[0m\n\u001b[0m\u001b[0;32m    177\u001b[0m \u001b[1;33m\u001b[0m\u001b[0m\n\u001b[0;32m    178\u001b[0m \u001b[1;33m\u001b[0m\u001b[0m\n",
      "\u001b[1;31mXGBoostError\u001b[0m: value 0 for Parameter num_class should be greater equal to 1"
     ]
    }
   ],
   "source": [
    "xgb_w2vec = XGBClassifier(max_depth=4,\n",
    "                          objective='multi:softprob',\n",
    "                          learning_rate=0.03333, \n",
    "                          n_jobs=-1)\n",
    "new_class = df_train['Class'].values.ravel()\n",
    "xgb_w2vec.fit(mean_embedded, new_class)"
   ]
  },
  {
   "cell_type": "code",
   "execution_count": 157,
   "metadata": {
    "_cell_guid": "c313def8-9b81-4257-ae96-f826130c18aa",
    "_execution_state": "busy",
    "_uuid": "4dffea7a53a0953e51fe6ab353dcc24c45ec7e4a"
   },
   "outputs": [
    {
     "data": {
      "text/plain": [
       "SVC(C=1.0, cache_size=200, class_weight=None, coef0=0.0,\n",
       "  decision_function_shape='ovr', degree=3, gamma='auto_deprecated',\n",
       "  kernel='linear', max_iter=-1, probability=True, random_state=None,\n",
       "  shrinking=True, tol=0.001, verbose=False)"
      ]
     },
     "execution_count": 157,
     "metadata": {},
     "output_type": "execute_result"
    }
   ],
   "source": [
    "svc_w2vec = SVC(kernel='linear', probability=True)\n",
    "svc_w2vec.fit(mean_embedded, df_train['Class'].values.ravel())"
   ]
  },
  {
   "cell_type": "markdown",
   "metadata": {
    "_cell_guid": "8cfef508-e869-4971-9b84-06d3e80ae6ea",
    "_uuid": "9c2e087dd457065520e8e8d1d195dc015571925b"
   },
   "source": [
    "#### Public LB Score Log Reg: 1.032000\n",
    "\n",
    "#### Public LB Score XGB: 0.96536\n",
    "\n",
    "#### Public LB Score SVC: 0.97059\n",
    "\n",
    "### Let's try our Keras model"
   ]
  },
  {
   "cell_type": "code",
   "execution_count": null,
   "metadata": {
    "_cell_guid": "56db5d32-cc80-445f-b33a-05071832dd69",
    "_execution_state": "busy",
    "_uuid": "8d65e2e32ad9d552e5f38c3667f15bfdb9915208",
    "collapsed": true
   },
   "outputs": [],
   "source": [
    "Xtest = tokenizer.texts_to_sequences(df_test['Text'].values)\n",
    "Xtest = pad_sequences(Xtest, maxlen=2000)"
   ]
  },
  {
   "cell_type": "code",
   "execution_count": null,
   "metadata": {
    "_cell_guid": "4d608be7-741c-462c-8a2a-39b81612000d",
    "_execution_state": "busy",
    "_uuid": "7b454ebc7996841cffcaba3a165d8b28b5c76466",
    "collapsed": true
   },
   "outputs": [],
   "source": [
    "probas = model.predict(Xtest)"
   ]
  },
  {
   "cell_type": "code",
   "execution_count": null,
   "metadata": {
    "_cell_guid": "dbcb71f9-1854-44c3-b9cf-d060494887d8",
    "_execution_state": "busy",
    "_uuid": "81165d6e9870765c90fbb4624743ea49f9f6d1d8",
    "collapsed": true
   },
   "outputs": [],
   "source": [
    "submission_df = pd.DataFrame(probas, columns=['class'+str(c+1) for c in range(9)])\n",
    "submission_df['ID'] = df_test['ID']\n",
    "submission_df.head()"
   ]
  },
  {
   "cell_type": "code",
   "execution_count": null,
   "metadata": {
    "_cell_guid": "9ce11af2-21b8-47e0-a83b-55ee14c1c53c",
    "_execution_state": "busy",
    "_uuid": "7264bb21f9c0028b6be3e637c8414d543266d113",
    "collapsed": true
   },
   "outputs": [],
   "source": [
    "submission_df.to_csv('submission.csv', index=False)"
   ]
  },
  {
   "cell_type": "markdown",
   "metadata": {
    "_cell_guid": "d1aa03cb-3faf-4dfe-97a7-97dbfff856ec",
    "_uuid": "1ac56c47c3e55b3a6fde88332fe1e045e59fef9b"
   },
   "source": [
    "#### Public LB Score: 1.00234"
   ]
  },
  {
   "cell_type": "markdown",
   "metadata": {
    "_cell_guid": "04e8cc4c-7bcd-4951-8e8f-859a6da7e0fe",
    "_uuid": "9070256ed93261c08d7ff3c7bf43f144463263b5"
   },
   "source": [
    "## Summary\n",
    "\n",
    "The aim of this notebook was to do some quick exploration of the dataset and apply some common ML techniques to the classification task. The metric to maximize is multiclass log loss.\n",
    "\n",
    "A big part of the problem is to teach an ML model how to \"read\" medical literature and classify the given Gene and Variation into 1 out of 9 classes.\n",
    "\n",
    "Thus, the first part of this notebook focused on applying common techniques to preprocess and vectorize free text and evaluate its effectiveness by running them through vanilla Logistic Regression and Random Forest.\n",
    "\n",
    "The techniques used, from least effective to most effective, were:\n",
    "\n",
    "* Bag of Words\n",
    "* TF-IDF\n",
    "* Word2Vec\n",
    "\n",
    "Because the above approaches did not take into account the temporal patterns in free text, a quick LSTM was tried as well. This approach scored higher than the above without any tuning.\n",
    "\n",
    "In the second part of the notebook, I added the \"Gene\" and \"Variation\" features next to the free text features. I tried both label encoding and one-hot encoding, however, the results did not show much improvement.\n",
    "\n",
    "In the third part of the notebook, I generated submissions for both Word2Vec (multiple classifiers) and Keras LSTM and recorded the public leaderboard scores of each submission. The scores were better (around 1) but did not show the same relationships with each other as my own CV (they were mostly close to each other). This is a common occurrence in Kaggle competitions since the public leaderboard is scored on a smaller subset of the test data. Most Kagglers' advice is to ignore the public leaderboard and trust your own CV.\n",
    "\n",
    "## Further things to try\n",
    "\n",
    "This notebook's aim was mostly figuring out which techniques are worth exploring and was not intended to generate very competitive submissions. The following is a list of suggestions to try for further improvement.\n",
    "\n",
    "* There are tons of other techniques for free text other than the ones I listed above. Make sure to explore other techniques such as Doc2Vec, DeepIR, and Word Mover's distance\n",
    "\n",
    "* Focus more on capturing the relationship between \"Gene\" and \"Variation\" with the free text features. Since \"Text\" is sometimes duplicated (with different classes!), taking into account \"Gene\" and \"Variation\" is very important.\n",
    "\n",
    "* Explore different deep learning architectures for the data. One idea for an architecture is to combine a simple Embedding + LSTM for the free text and concatenate the input with \"Gene\" and \"Variation\" Embeddings, leading into a final fully connected layer for the classes. Hopefully, this will capture the relationship between the text and the \"Gene\" + \"Variation\" columns.\n",
    "\n",
    "* Train Word2Vec on a bigger corpus of genetic and medical data. Since Word2Vec is unsupervised, we can get better embeddings with more data, and consequently, better predictions\n",
    "\n",
    "* Don't forget to do hyperparameter optimization when you're happy with a set of features. Stacked ensembling is also an almost guaranteed way to get a small boost to your score. We skipped this entirely in this notebook as this is usually the last step in the process. Try http://xcessiv.readthedocs.io/.\n",
    "\n"
   ]
  }
 ],
 "metadata": {
  "hide_input": false,
  "kernelspec": {
   "display_name": "Python 3",
   "language": "python",
   "name": "python3"
  },
  "language_info": {
   "codemirror_mode": {
    "name": "ipython",
    "version": 3
   },
   "file_extension": ".py",
   "mimetype": "text/x-python",
   "name": "python",
   "nbconvert_exporter": "python",
   "pygments_lexer": "ipython3",
   "version": "3.6.8"
  }
 },
 "nbformat": 4,
 "nbformat_minor": 1
}
