{
 "cells": [
  {
   "cell_type": "markdown",
   "metadata": {},
   "source": [
    " ### MNIST Project\n",
    " \n",
    " The dataset (both training and testing files) were obtained from Yann LeCun’s website (http://yann.lecun.com/exdb/mnist/) which in the IDX file format. A python package was available to parse the data to list."
   ]
  },
  {
   "cell_type": "code",
   "execution_count": 94,
   "metadata": {
    "ExecuteTime": {
     "end_time": "2018-03-22T12:34:23.316544Z",
     "start_time": "2018-03-22T12:34:23.286040Z"
    }
   },
   "outputs": [],
   "source": [
    "from mnist import MNIST\n",
    "import numpy as np\n",
    "import pandas as pd\n",
    "import matplotlib.pyplot as plt\n",
    "\n",
    "%matplotlib inline\n",
    "\n",
    "import warnings\n",
    "warnings.filterwarnings(\"ignore\")"
   ]
  },
  {
   "cell_type": "code",
   "execution_count": 95,
   "metadata": {
    "ExecuteTime": {
     "end_time": "2018-03-22T12:34:28.020689Z",
     "start_time": "2018-03-22T12:34:25.218366Z"
    }
   },
   "outputs": [],
   "source": [
    "mndata = MNIST('data')\n",
    "images, labels = mndata.load_training()"
   ]
  },
  {
   "cell_type": "markdown",
   "metadata": {
    "ExecuteTime": {
     "end_time": "2018-03-19T13:41:02.282544Z",
     "start_time": "2018-03-19T13:41:02.279542Z"
    }
   },
   "source": [
    "### Data exploration"
   ]
  },
  {
   "cell_type": "code",
   "execution_count": 120,
   "metadata": {
    "ExecuteTime": {
     "end_time": "2018-03-22T13:09:34.341089Z",
     "start_time": "2018-03-22T13:09:33.463488Z"
    }
   },
   "outputs": [
    {
     "data": {
      "image/png": "[encoded data removed]",
      "text/plain": [
       "<matplotlib.figure.Figure at 0x1e6abffc4a8>"
      ]
     },
     "metadata": {},
     "output_type": "display_data"
    }
   ],
   "source": [
    "# visualize a few samples\n",
    "n = 12\n",
    "fig, ax = plt.subplots(1, n, figsize=(12, 6))\n",
    "\n",
    "# random select a few samples from the training set \n",
    "import random\n",
    "\n",
    "rlist = random.sample(range(10, X_train_tran.shape[0]), n)\n",
    "\n",
    "for i in range(n):\n",
    "    ax[i].imshow(X_train_tran[rlist[i]])"
   ]
  },
  {
   "cell_type": "code",
   "execution_count": 97,
   "metadata": {
    "ExecuteTime": {
     "end_time": "2018-03-22T12:34:40.054937Z",
     "start_time": "2018-03-22T12:34:39.842413Z"
    }
   },
   "outputs": [
    {
     "data": {
      "text/plain": [
       "<matplotlib.axes._subplots.AxesSubplot at 0x1e683ae0080>"
      ]
     },
     "execution_count": 97,
     "metadata": {},
     "output_type": "execute_result"
    },
    {
     "data": {
      "image/png": "[encoded data removed]",
      "text/plain": [
       "<matplotlib.figure.Figure at 0x1e67f32e710>"
      ]
     },
     "metadata": {},
     "output_type": "display_data"
    }
   ],
   "source": [
    "import seaborn as sns\n",
    "df_label = pd.DataFrame({\"label\":labels}).reset_index()\n",
    "df = df_label[\"label\"].value_counts().reset_index().sort_values(\"index\")\n",
    "sns.barplot(x=\"index\", y=\"label\", data=df)"
   ]
  },
  {
   "cell_type": "markdown",
   "metadata": {},
   "source": [
    "### Training data with Scikit-learn Ensemble"
   ]
  },
  {
   "cell_type": "code",
   "execution_count": 98,
   "metadata": {
    "ExecuteTime": {
     "end_time": "2018-03-22T12:34:42.408207Z",
     "start_time": "2018-03-22T12:34:42.401209Z"
    }
   },
   "outputs": [],
   "source": [
    "from sklearn.model_selection import train_test_split\n",
    "from sklearn.ensemble import RandomForestClassifier\n",
    "from sklearn.metrics import accuracy_score"
   ]
  },
  {
   "cell_type": "code",
   "execution_count": 134,
   "metadata": {
    "ExecuteTime": {
     "end_time": "2018-03-22T13:13:12.671668Z",
     "start_time": "2018-03-22T13:13:12.599160Z"
    }
   },
   "outputs": [],
   "source": [
    "X_train, X_test, y_train, y_test = train_test_split(images, labels,\n",
    "                                        test_size=0.3, random_state=7)"
   ]
  },
  {
   "cell_type": "code",
   "execution_count": 100,
   "metadata": {
    "ExecuteTime": {
     "end_time": "2018-03-22T12:39:19.685216Z",
     "start_time": "2018-03-22T12:34:46.402847Z"
    }
   },
   "outputs": [
    {
     "name": "stdout",
     "output_type": "stream",
     "text": [
      "Roan forest with n_estimators:500\n",
      "0.9581666666666667\n",
      "Roan forest with n_estimators:5000\n",
      "0.958952380952381\n"
     ]
    }
   ],
   "source": [
    "forest = RandomForestClassifier(n_estimators=500, n_jobs=-1)\n",
    "forest = forest.fit(X_train, y_train)\n",
    "forest_output = forest.predict(X_test)\n",
    "\n",
    "print(\"Roan forest with n_estimators:500\")\n",
    "print(accuracy_score(y_test, forest_output))\n",
    "\n",
    "forest = RandomForestClassifier(n_estimators=5000,n_jobs=-1)\n",
    "forest = forest.fit(X_train, y_train)\n",
    "forest_output = forest.predict(X_test)\n",
    "\n",
    "print(\"Roan forest with n_estimators:5000\")\n",
    "print(accuracy_score(y_test, forest_output))"
   ]
  },
  {
   "cell_type": "code",
   "execution_count": 101,
   "metadata": {
    "ExecuteTime": {
     "end_time": "2018-03-22T12:42:14.381891Z",
     "start_time": "2018-03-22T12:39:28.638539Z"
    }
   },
   "outputs": [
    {
     "name": "stdout",
     "output_type": "stream",
     "text": [
      "95.88888888888889 0.4533823502911819\n"
     ]
    }
   ],
   "source": [
    "### manual k-fold cross-validation for deep learning network\n",
    "from sklearn.model_selection import KFold, cross_val_score\n",
    "seed = 7\n",
    "num_fold = 10\n",
    "\n",
    "# define cross validation test hardness\n",
    "forest = RandomForestClassifier(n_estimators=500, n_jobs=-1)\n",
    "kfold = KFold(n_splits=num_fold, random_state=seed)\n",
    "results_RF = cross_val_score(forest, X_train, y_train, cv=kfold)\n",
    "print(results_RF.mean()*100, results_RF.std()*100)"
   ]
  },
  {
   "cell_type": "code",
   "execution_count": 102,
   "metadata": {
    "ExecuteTime": {
     "end_time": "2018-03-22T12:46:21.069453Z",
     "start_time": "2018-03-22T12:46:21.058949Z"
    }
   },
   "outputs": [],
   "source": [
    "### tuning parameter for RF\n",
    "param_grid = {\n",
    "    'max_features': [\"auto\", \"sqrt\", \"log2\"],\n",
    "    'n_estimators': [500, 1000]\n",
    "}\n",
    "\n",
    "from sklearn.model_selection import GridSearchCV\n",
    "\n",
    "forest = RandomForestClassifier(n_estimators=500, n_jobs=-1)\n",
    "gridsearch_RF = GridSearchCV(estimator=forest, param_grid=param_grid,\n",
    "                             cv=5)"
   ]
  },
  {
   "cell_type": "code",
   "execution_count": 106,
   "metadata": {
    "ExecuteTime": {
     "end_time": "2018-03-22T13:05:31.913689Z",
     "start_time": "2018-03-22T12:51:20.397304Z"
    }
   },
   "outputs": [
    {
     "data": {
      "text/plain": [
       "{'max_features': 'auto', 'n_estimators': 1000}"
      ]
     },
     "execution_count": 106,
     "metadata": {},
     "output_type": "execute_result"
    }
   ],
   "source": [
    "# fit the grid search to the data\n",
    "gridsearch_RF.fit(X_train, y_train)\n",
    "gridsearch_RF.best_params_"
   ]
  },
  {
   "cell_type": "code",
   "execution_count": 105,
   "metadata": {
    "ExecuteTime": {
     "end_time": "2018-03-22T12:48:43.010338Z",
     "start_time": "2018-03-22T12:47:53.900701Z"
    }
   },
   "outputs": [
    {
     "name": "stdout",
     "output_type": "stream",
     "text": [
      "Roan forest with n_estimators:5000\n",
      "0.9588333333333333\n"
     ]
    }
   ],
   "source": [
    "## use trained parameter for tranining and predicting\n",
    "forest = RandomForestClassifier(n_estimators=1000, max_features='auto', n_jobs=-1)\n",
    "forest.fit(X_train, y_train)\n",
    "\n",
    "forest_output = forest.predict(X_test)\n",
    "\n",
    "print(\"Roan forest with n_estimators:5000\")\n",
    "print(accuracy_score(y_test, forest_output))"
   ]
  },
  {
   "cell_type": "markdown",
   "metadata": {},
   "source": [
    "### Training data with Scikit-learn MLP"
   ]
  },
  {
   "cell_type": "code",
   "execution_count": 132,
   "metadata": {
    "ExecuteTime": {
     "end_time": "2018-03-22T13:12:54.541540Z",
     "start_time": "2018-03-22T13:12:51.167158Z"
    }
   },
   "outputs": [],
   "source": [
    "# convert data from list to float array\n",
    "X_train_new = np.array(X_train)/255.\n",
    "X_test_new = np.array(X_test)/255."
   ]
  },
  {
   "cell_type": "code",
   "execution_count": 124,
   "metadata": {
    "ExecuteTime": {
     "end_time": "2018-03-22T13:11:22.286512Z",
     "start_time": "2018-03-22T13:10:26.584621Z"
    }
   },
   "outputs": [
    {
     "name": "stdout",
     "output_type": "stream",
     "text": [
      "sgd\n",
      "0.9596190476190476\n",
      "lbfgs\n",
      "0.7215714285714285\n"
     ]
    }
   ],
   "source": [
    "#### MLP Classfier\n",
    "from sklearn.neural_network import MLPClassifier\n",
    "\n",
    "clf = MLPClassifier(hidden_layer_sizes=(50,), max_iter=50, alpha=1e-4,\n",
    "                    solver='sgd', tol=1e-4, random_state=1,\n",
    "                    learning_rate_init=.1)\n",
    "clf.fit(X_train_new, y_train)\n",
    "neural_output = clf.predict(X_test_new)\n",
    "print(\"sgd\")\n",
    "print(accuracy_score(y_test, neural_output))\n",
    "\n",
    "clf = MLPClassifier(hidden_layer_sizes=(50,), max_iter=50, alpha=1e-4,\n",
    "                    solver='lbfgs', tol=1e-4, random_state=1,\n",
    "                    learning_rate_init=.1)\n",
    "clf.fit(X_train, y_train)\n",
    "neural_output = clf.predict(X_test)\n",
    "print(\"lbfgs\")\n",
    "print(accuracy_score(y_test, neural_output))"
   ]
  },
  {
   "cell_type": "markdown",
   "metadata": {},
   "source": [
    "### Training data with Keras model"
   ]
  },
  {
   "cell_type": "code",
   "execution_count": 125,
   "metadata": {
    "ExecuteTime": {
     "end_time": "2018-03-22T13:11:35.924132Z",
     "start_time": "2018-03-22T13:11:35.912626Z"
    }
   },
   "outputs": [],
   "source": [
    "#### Keras\n",
    "from keras.models import Sequential\n",
    "from keras.layers import Dense, Dropout, Activation, Flatten\n",
    "from keras.layers import Conv2D, MaxPooling2D\n",
    "from keras.utils import np_utils"
   ]
  },
  {
   "cell_type": "code",
   "execution_count": 135,
   "metadata": {
    "ExecuteTime": {
     "end_time": "2018-03-22T13:13:24.183074Z",
     "start_time": "2018-03-22T13:13:22.017827Z"
    }
   },
   "outputs": [
    {
     "data": {
      "text/plain": [
       "(42000, 784)"
      ]
     },
     "execution_count": 135,
     "metadata": {},
     "output_type": "execute_result"
    }
   ],
   "source": [
    "np.array(X_train).shape"
   ]
  },
  {
   "cell_type": "code",
   "execution_count": 137,
   "metadata": {
    "ExecuteTime": {
     "end_time": "2018-03-22T13:14:10.848282Z",
     "start_time": "2018-03-22T13:14:07.720423Z"
    }
   },
   "outputs": [],
   "source": [
    "#### covert 2D array to 3D array - from (n, width*height) to (n, width, height)\n",
    "X_train_tran = np.array(X_train).reshape(42000, 28, 28)\n",
    "X_test_tran = np.array(X_test).reshape(18000, 28, 28)"
   ]
  },
  {
   "cell_type": "code",
   "execution_count": 146,
   "metadata": {
    "ExecuteTime": {
     "end_time": "2018-03-22T13:38:01.356233Z",
     "start_time": "2018-03-22T13:38:01.343732Z"
    }
   },
   "outputs": [],
   "source": [
    "## covert 3D array to 4D array \n",
    "## in tensorflow the image was formated as (n, width, height, depth)\n",
    "## (n, width, height, depth)\n",
    "X_train_new = X_train_tran.reshape(X_train_tran.shape[0], 28, 28, 1)\n",
    "X_test_new = X_test_tran.reshape(X_test_tran.shape[0], 28, 28, 1)"
   ]
  },
  {
   "cell_type": "code",
   "execution_count": 149,
   "metadata": {
    "ExecuteTime": {
     "end_time": "2018-03-22T13:38:23.187901Z",
     "start_time": "2018-03-22T13:38:23.181895Z"
    }
   },
   "outputs": [
    {
     "name": "stdout",
     "output_type": "stream",
     "text": [
      "(42000, 28, 28) (42000, 10) (18000, 28, 28, 1) (18000, 10)\n"
     ]
    }
   ],
   "source": [
    "print(X_train_tran.shape, Y_train_tran.shape, X_test_new.shape, Y_test_tran.shape)\n"
   ]
  },
  {
   "cell_type": "code",
   "execution_count": 151,
   "metadata": {
    "ExecuteTime": {
     "end_time": "2018-03-22T14:50:54.969850Z",
     "start_time": "2018-03-22T13:41:22.190472Z"
    }
   },
   "outputs": [
    {
     "name": "stdout",
     "output_type": "stream",
     "text": [
      "Epoch 1/5\n",
      "37794/37794 [==============================] - 85s 2ms/step - loss: 4.0247 - acc: 0.6903\n",
      "Epoch 2/5\n",
      "37794/37794 [==============================] - 83s 2ms/step - loss: 0.1822 - acc: 0.9470\n",
      "Epoch 3/5\n",
      "37794/37794 [==============================] - 83s 2ms/step - loss: 0.1424 - acc: 0.9569\n",
      "Epoch 4/5\n",
      "37794/37794 [==============================] - 83s 2ms/step - loss: 0.1106 - acc: 0.9662\n",
      "Epoch 5/5\n",
      "37794/37794 [==============================] - 84s 2ms/step - loss: 0.1005 - acc: 0.9701\n",
      "acc: 98.29%\n",
      "Epoch 1/5\n",
      "37795/37795 [==============================] - 84s 2ms/step - loss: 1.3875 - acc: 0.8452\n",
      "Epoch 2/5\n",
      "37795/37795 [==============================] - 83s 2ms/step - loss: 0.1671 - acc: 0.9494: 0s - loss: 0.1671 - acc: 0.949\n",
      "Epoch 3/5\n",
      "37795/37795 [==============================] - 83s 2ms/step - loss: 0.1264 - acc: 0.9620\n",
      "Epoch 4/5\n",
      "37795/37795 [==============================] - 84s 2ms/step - loss: 0.1114 - acc: 0.9672\n",
      "Epoch 5/5\n",
      "37795/37795 [==============================] - 84s 2ms/step - loss: 0.0983 - acc: 0.9700\n",
      "acc: 98.17%\n",
      "Epoch 1/5\n",
      "37796/37796 [==============================] - 85s 2ms/step - loss: 3.1723 - acc: 0.7399\n",
      "Epoch 2/5\n",
      "37796/37796 [==============================] - 84s 2ms/step - loss: 0.1923 - acc: 0.9429\n",
      "Epoch 3/5\n",
      "37796/37796 [==============================] - 84s 2ms/step - loss: 0.1380 - acc: 0.9576\n",
      "Epoch 4/5\n",
      "37796/37796 [==============================] - 84s 2ms/step - loss: 0.1135 - acc: 0.9672\n",
      "Epoch 5/5\n",
      "37796/37796 [==============================] - 82s 2ms/step - loss: 0.0993 - acc: 0.9701\n",
      "acc: 98.05%\n",
      "Epoch 1/5\n",
      "37798/37798 [==============================] - 84s 2ms/step - loss: 2.7528 - acc: 0.7654\n",
      "Epoch 2/5\n",
      "37798/37798 [==============================] - 82s 2ms/step - loss: 0.1633 - acc: 0.9518\n",
      "Epoch 3/5\n",
      "37798/37798 [==============================] - 82s 2ms/step - loss: 0.1170 - acc: 0.9662\n",
      "Epoch 4/5\n",
      "37798/37798 [==============================] - 82s 2ms/step - loss: 0.1055 - acc: 0.9688\n",
      "Epoch 5/5\n",
      "37798/37798 [==============================] - 82s 2ms/step - loss: 0.0922 - acc: 0.9716\n",
      "acc: 98.60%\n",
      "Epoch 1/5\n",
      "37800/37800 [==============================] - 83s 2ms/step - loss: 2.5446 - acc: 0.7816\n",
      "Epoch 2/5\n",
      "37800/37800 [==============================] - 81s 2ms/step - loss: 0.1560 - acc: 0.9544\n",
      "Epoch 3/5\n",
      "37800/37800 [==============================] - 82s 2ms/step - loss: 0.1180 - acc: 0.9658\n",
      "Epoch 4/5\n",
      "37800/37800 [==============================] - 81s 2ms/step - loss: 0.0997 - acc: 0.9711\n",
      "Epoch 5/5\n",
      "37800/37800 [==============================] - 81s 2ms/step - loss: 0.0897 - acc: 0.9729\n",
      "acc: 98.45%\n",
      "Epoch 1/5\n",
      "37801/37801 [==============================] - 83s 2ms/step - loss: 2.5184 - acc: 0.7818\n",
      "Epoch 2/5\n",
      "37801/37801 [==============================] - 81s 2ms/step - loss: 0.1738 - acc: 0.9485\n",
      "Epoch 3/5\n",
      "37801/37801 [==============================] - 81s 2ms/step - loss: 0.1302 - acc: 0.9609\n",
      "Epoch 4/5\n",
      "37801/37801 [==============================] - 82s 2ms/step - loss: 0.1095 - acc: 0.9674\n",
      "Epoch 5/5\n",
      "37801/37801 [==============================] - 82s 2ms/step - loss: 0.1028 - acc: 0.9702\n",
      "acc: 98.55%\n",
      "Epoch 1/5\n",
      "37804/37804 [==============================] - 83s 2ms/step - loss: 1.5319 - acc: 0.8362\n",
      "Epoch 2/5\n",
      "37804/37804 [==============================] - 82s 2ms/step - loss: 0.1606 - acc: 0.9520\n",
      "Epoch 3/5\n",
      "37804/37804 [==============================] - 81s 2ms/step - loss: 0.1205 - acc: 0.9637\n",
      "Epoch 4/5\n",
      "37804/37804 [==============================] - 82s 2ms/step - loss: 0.1058 - acc: 0.9679\n",
      "Epoch 5/5\n",
      "37804/37804 [==============================] - 82s 2ms/step - loss: 0.0864 - acc: 0.9732\n",
      "acc: 98.21%\n",
      "Epoch 1/5\n",
      "37804/37804 [==============================] - 84s 2ms/step - loss: 14.4307 - acc: 0.1045\n",
      "Epoch 2/5\n",
      "37804/37804 [==============================] - 81s 2ms/step - loss: 14.3162 - acc: 0.1117\n",
      "Epoch 3/5\n",
      "37804/37804 [==============================] - 81s 2ms/step - loss: 12.7342 - acc: 0.2096\n",
      "Epoch 4/5\n",
      "37804/37804 [==============================] - 81s 2ms/step - loss: 11.8998 - acc: 0.2613\n",
      "Epoch 5/5\n",
      "37804/37804 [==============================] - 81s 2ms/step - loss: 10.8729 - acc: 0.3251\n",
      "acc: 38.73%\n",
      "Epoch 1/5\n",
      "37804/37804 [==============================] - 83s 2ms/step - loss: 1.1526 - acc: 0.8583\n",
      "Epoch 2/5\n",
      "37804/37804 [==============================] - 81s 2ms/step - loss: 0.1574 - acc: 0.9530\n",
      "Epoch 3/5\n",
      "37804/37804 [==============================] - 81s 2ms/step - loss: 0.1173 - acc: 0.9648\n",
      "Epoch 4/5\n",
      "37804/37804 [==============================] - 81s 2ms/step - loss: 0.1004 - acc: 0.9698\n",
      "Epoch 5/5\n",
      "37804/37804 [==============================] - 83s 2ms/step - loss: 0.0843 - acc: 0.9744\n",
      "acc: 98.67%\n",
      "Epoch 1/5\n",
      "37804/37804 [==============================] - 86s 2ms/step - loss: 2.4594 - acc: 0.7812\n",
      "Epoch 2/5\n",
      "37804/37804 [==============================] - 84s 2ms/step - loss: 0.1725 - acc: 0.9488\n",
      "Epoch 3/5\n",
      "37804/37804 [==============================] - 83s 2ms/step - loss: 0.1285 - acc: 0.9624\n",
      "Epoch 4/5\n",
      "37804/37804 [==============================] - 82s 2ms/step - loss: 0.1107 - acc: 0.9672\n",
      "Epoch 5/5\n",
      "37804/37804 [==============================] - 82s 2ms/step - loss: 0.0979 - acc: 0.9703\n",
      "acc: 98.45%\n"
     ]
    }
   ],
   "source": [
    "### manual k-fold cross-validation for deep learning network\n",
    "from sklearn.model_selection import StratifiedKFold\n",
    "seed = 7\n",
    "np.random.seed(seed)\n",
    "\n",
    "# define 5-fold  cross validation test hardness\n",
    "kfold = StratifiedKFold(n_splits=10, shuffle=True, random_state=seed)\n",
    "cvscores =[]\n",
    "\n",
    "#### convert 1-D class arrays to 10-dimensional class matrix\n",
    "Y_train_tran = np_utils.to_categorical(y_train, 10)\n",
    "Y_test_tran = np_utils.to_categorical(y_test, 10)\n",
    "\n",
    "for train, test in kfold.split(X_train_new, y_train):\n",
    "      \n",
    "    model = Sequential()\n",
    "    \n",
    "    model.add(Conv2D(32, kernel_size=(3, 3),\n",
    "                 activation='relu', input_shape=(28,28,1)))\n",
    "    model.add(Conv2D(32, (3, 3), activation='relu'))\n",
    "    model.add(MaxPooling2D(pool_size=(2,2)))\n",
    "    model.add(Dropout(0.25))\n",
    "    \n",
    "    model.add(Flatten())\n",
    "    model.add(Dense(128, activation='relu'))\n",
    "    model.add(Dropout(0.5))\n",
    "    model.add(Dense(10, activation='softmax'))\n",
    "    \n",
    "    model.compile(loss='categorical_crossentropy',\n",
    "             optimizer='adam',\n",
    "             metrics=['accuracy'])    \n",
    "    \n",
    "    model.fit(X_train_new[train], Y_train_tran[train],\n",
    "         batch_size=32, epochs=5)\n",
    "    \n",
    "    score = model.evaluate(X_train_new[test], \n",
    "                           Y_train_tran[test], verbose=0)\n",
    "    print(\"%s: %.2f%%\" %(model.metrics_names[1], score[1]*100))\n",
    "    cvscores.append(score[1]*100)"
   ]
  },
  {
   "cell_type": "code",
   "execution_count": 152,
   "metadata": {
    "ExecuteTime": {
     "end_time": "2018-03-22T14:54:10.193874Z",
     "start_time": "2018-03-22T14:54:10.186371Z"
    }
   },
   "outputs": [
    {
     "name": "stdout",
     "output_type": "stream",
     "text": [
      "92.42%(+/- 17.90%)\n"
     ]
    }
   ],
   "source": [
    "print(\"%.2f%%(+/- %.2f%%)\" % (np.mean(cvscores), np.std(cvscores)))"
   ]
  },
  {
   "cell_type": "code",
   "execution_count": 154,
   "metadata": {
    "ExecuteTime": {
     "end_time": "2018-03-22T14:55:29.595974Z",
     "start_time": "2018-03-22T14:55:18.256677Z"
    }
   },
   "outputs": [
    {
     "name": "stdout",
     "output_type": "stream",
     "text": [
      "18000/18000 [==============================] - 11s 629us/step\n",
      "acc: 98.45%\n"
     ]
    }
   ],
   "source": [
    "# predict results on test sets\n",
    "model.evaluate(X_test_new, Y_test_tran, verbose=1)\n",
    "print(\"%s: %.2f%%\" %(model.metrics_names[1], score[1]*100))"
   ]
  }
 ],
 "metadata": {
  "hide_input": false,
  "kernelspec": {
   "display_name": "Python 3",
   "language": "python",
   "name": "python3"
  },
  "language_info": {
   "codemirror_mode": {
    "name": "ipython",
    "version": 3
   },
   "file_extension": ".py",
   "mimetype": "text/x-python",
   "name": "python",
   "nbconvert_exporter": "python",
   "pygments_lexer": "ipython3",
   "version": "3.6.4"
  },
  "toc": {
   "nav_menu": {},
   "number_sections": true,
   "sideBar": true,
   "skip_h1_title": false,
   "title_cell": "Table of Contents",
   "title_sidebar": "Contents",
   "toc_cell": false,
   "toc_position": {},
   "toc_section_display": true,
   "toc_window_display": false
  }
 },
 "nbformat": 4,
 "nbformat_minor": 2
}
