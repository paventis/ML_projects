{
 "cells": [
  {
   "cell_type": "code",
   "execution_count": 1,
   "metadata": {},
   "outputs": [],
   "source": [
    "import numpy as np\n",
    "import pandas as pd\n",
    "import matplotlib.pyplot as plt\n",
    "%matplotlib inline\n",
    "\n",
    "import seaborn as sns"
   ]
  },
  {
   "cell_type": "code",
   "execution_count": 3,
   "metadata": {},
   "outputs": [
    {
     "data": {
      "text/html": [
       "<div>\n",
       "<style scoped>\n",
       "    .dataframe tbody tr th:only-of-type {\n",
       "        vertical-align: middle;\n",
       "    }\n",
       "\n",
       "    .dataframe tbody tr th {\n",
       "        vertical-align: top;\n",
       "    }\n",
       "\n",
       "    .dataframe thead th {\n",
       "        text-align: right;\n",
       "    }\n",
       "</style>\n",
       "<table border=\"1\" class=\"dataframe\">\n",
       "  <thead>\n",
       "    <tr style=\"text-align: right;\">\n",
       "      <th></th>\n",
       "      <th>fixed acidity</th>\n",
       "      <th>volatile acidity</th>\n",
       "      <th>citric acid</th>\n",
       "      <th>residual sugar</th>\n",
       "      <th>chlorides</th>\n",
       "      <th>free sulfur dioxide</th>\n",
       "      <th>total sulfur dioxide</th>\n",
       "      <th>density</th>\n",
       "      <th>pH</th>\n",
       "      <th>sulphates</th>\n",
       "      <th>alcohol</th>\n",
       "      <th>quality</th>\n",
       "    </tr>\n",
       "  </thead>\n",
       "  <tbody>\n",
       "    <tr>\n",
       "      <th>0</th>\n",
       "      <td>7.4</td>\n",
       "      <td>0.70</td>\n",
       "      <td>0.00</td>\n",
       "      <td>1.9</td>\n",
       "      <td>0.076</td>\n",
       "      <td>11.0</td>\n",
       "      <td>34.0</td>\n",
       "      <td>0.9978</td>\n",
       "      <td>3.51</td>\n",
       "      <td>0.56</td>\n",
       "      <td>9.4</td>\n",
       "      <td>5</td>\n",
       "    </tr>\n",
       "    <tr>\n",
       "      <th>1</th>\n",
       "      <td>7.8</td>\n",
       "      <td>0.88</td>\n",
       "      <td>0.00</td>\n",
       "      <td>2.6</td>\n",
       "      <td>0.098</td>\n",
       "      <td>25.0</td>\n",
       "      <td>67.0</td>\n",
       "      <td>0.9968</td>\n",
       "      <td>3.20</td>\n",
       "      <td>0.68</td>\n",
       "      <td>9.8</td>\n",
       "      <td>5</td>\n",
       "    </tr>\n",
       "    <tr>\n",
       "      <th>2</th>\n",
       "      <td>7.8</td>\n",
       "      <td>0.76</td>\n",
       "      <td>0.04</td>\n",
       "      <td>2.3</td>\n",
       "      <td>0.092</td>\n",
       "      <td>15.0</td>\n",
       "      <td>54.0</td>\n",
       "      <td>0.9970</td>\n",
       "      <td>3.26</td>\n",
       "      <td>0.65</td>\n",
       "      <td>9.8</td>\n",
       "      <td>5</td>\n",
       "    </tr>\n",
       "    <tr>\n",
       "      <th>3</th>\n",
       "      <td>11.2</td>\n",
       "      <td>0.28</td>\n",
       "      <td>0.56</td>\n",
       "      <td>1.9</td>\n",
       "      <td>0.075</td>\n",
       "      <td>17.0</td>\n",
       "      <td>60.0</td>\n",
       "      <td>0.9980</td>\n",
       "      <td>3.16</td>\n",
       "      <td>0.58</td>\n",
       "      <td>9.8</td>\n",
       "      <td>6</td>\n",
       "    </tr>\n",
       "    <tr>\n",
       "      <th>4</th>\n",
       "      <td>7.4</td>\n",
       "      <td>0.70</td>\n",
       "      <td>0.00</td>\n",
       "      <td>1.9</td>\n",
       "      <td>0.076</td>\n",
       "      <td>11.0</td>\n",
       "      <td>34.0</td>\n",
       "      <td>0.9978</td>\n",
       "      <td>3.51</td>\n",
       "      <td>0.56</td>\n",
       "      <td>9.4</td>\n",
       "      <td>5</td>\n",
       "    </tr>\n",
       "  </tbody>\n",
       "</table>\n",
       "</div>"
      ],
      "text/plain": [
       "   fixed acidity  volatile acidity  citric acid  residual sugar  chlorides  \\\n",
       "0            7.4              0.70         0.00             1.9      0.076   \n",
       "1            7.8              0.88         0.00             2.6      0.098   \n",
       "2            7.8              0.76         0.04             2.3      0.092   \n",
       "3           11.2              0.28         0.56             1.9      0.075   \n",
       "4            7.4              0.70         0.00             1.9      0.076   \n",
       "\n",
       "   free sulfur dioxide  total sulfur dioxide  density    pH  sulphates  \\\n",
       "0                 11.0                  34.0   0.9978  3.51       0.56   \n",
       "1                 25.0                  67.0   0.9968  3.20       0.68   \n",
       "2                 15.0                  54.0   0.9970  3.26       0.65   \n",
       "3                 17.0                  60.0   0.9980  3.16       0.58   \n",
       "4                 11.0                  34.0   0.9978  3.51       0.56   \n",
       "\n",
       "   alcohol  quality  \n",
       "0      9.4        5  \n",
       "1      9.8        5  \n",
       "2      9.8        5  \n",
       "3      9.8        6  \n",
       "4      9.4        5  "
      ]
     },
     "execution_count": 3,
     "metadata": {},
     "output_type": "execute_result"
    }
   ],
   "source": [
    "wine_red = pd.read_csv(\"winequality-red.csv\", sep=';')\n",
    "wine_white = pd.read_csv(\"winequality-white.csv\", sep=';')\n",
    "wine_red.head()"
   ]
  },
  {
   "cell_type": "code",
   "execution_count": 4,
   "metadata": {},
   "outputs": [],
   "source": [
    "wine_red['wine_type'] = 'red'\n",
    "wine_white['wine_type'] = 'white'\n",
    "\n",
    "wine_red['quality_label'] = wine_red['quality'].\\\n",
    "       apply(lambda value: 'low' if value <=5 else 'medium' if value <=7 else 'high')\n",
    "wine_white['quality_label'] = wine_white['quality'].\\\n",
    "       apply(lambda value: 'low' if value <=5 else 'medium' if value <=7 else 'high')"
   ]
  },
  {
   "cell_type": "code",
   "execution_count": 7,
   "metadata": {},
   "outputs": [],
   "source": [
    "# merge data\n",
    "wines = pd.concat([wine_red, wine_white], axis=0)\n",
    "\n",
    "# re-shuffle records\n",
    "wines = wines.sample(frac=1, random_state=42).reset_index(drop=True)\n",
    "wines['quality_label'] = wines['quality_label'].astype('category')"
   ]
  },
  {
   "cell_type": "code",
   "execution_count": 8,
   "metadata": {},
   "outputs": [
    {
     "data": {
      "text/html": [
       "<div>\n",
       "<style scoped>\n",
       "    .dataframe tbody tr th:only-of-type {\n",
       "        vertical-align: middle;\n",
       "    }\n",
       "\n",
       "    .dataframe tbody tr th {\n",
       "        vertical-align: top;\n",
       "    }\n",
       "\n",
       "    .dataframe thead th {\n",
       "        text-align: right;\n",
       "    }\n",
       "</style>\n",
       "<table border=\"1\" class=\"dataframe\">\n",
       "  <thead>\n",
       "    <tr style=\"text-align: right;\">\n",
       "      <th></th>\n",
       "      <th>fixed acidity</th>\n",
       "      <th>volatile acidity</th>\n",
       "      <th>citric acid</th>\n",
       "      <th>residual sugar</th>\n",
       "      <th>chlorides</th>\n",
       "      <th>free sulfur dioxide</th>\n",
       "      <th>total sulfur dioxide</th>\n",
       "      <th>density</th>\n",
       "      <th>pH</th>\n",
       "      <th>sulphates</th>\n",
       "      <th>alcohol</th>\n",
       "      <th>quality</th>\n",
       "      <th>wine_type</th>\n",
       "      <th>quality_label</th>\n",
       "    </tr>\n",
       "  </thead>\n",
       "  <tbody>\n",
       "    <tr>\n",
       "      <th>0</th>\n",
       "      <td>7.0</td>\n",
       "      <td>0.17</td>\n",
       "      <td>0.74</td>\n",
       "      <td>12.8</td>\n",
       "      <td>0.045</td>\n",
       "      <td>24.0</td>\n",
       "      <td>126.0</td>\n",
       "      <td>0.99420</td>\n",
       "      <td>3.26</td>\n",
       "      <td>0.38</td>\n",
       "      <td>12.2</td>\n",
       "      <td>8</td>\n",
       "      <td>white</td>\n",
       "      <td>high</td>\n",
       "    </tr>\n",
       "    <tr>\n",
       "      <th>1</th>\n",
       "      <td>7.7</td>\n",
       "      <td>0.64</td>\n",
       "      <td>0.21</td>\n",
       "      <td>2.2</td>\n",
       "      <td>0.077</td>\n",
       "      <td>32.0</td>\n",
       "      <td>133.0</td>\n",
       "      <td>0.99560</td>\n",
       "      <td>3.27</td>\n",
       "      <td>0.45</td>\n",
       "      <td>9.9</td>\n",
       "      <td>5</td>\n",
       "      <td>red</td>\n",
       "      <td>low</td>\n",
       "    </tr>\n",
       "    <tr>\n",
       "      <th>2</th>\n",
       "      <td>6.8</td>\n",
       "      <td>0.39</td>\n",
       "      <td>0.34</td>\n",
       "      <td>7.4</td>\n",
       "      <td>0.020</td>\n",
       "      <td>38.0</td>\n",
       "      <td>133.0</td>\n",
       "      <td>0.99212</td>\n",
       "      <td>3.18</td>\n",
       "      <td>0.44</td>\n",
       "      <td>12.0</td>\n",
       "      <td>7</td>\n",
       "      <td>white</td>\n",
       "      <td>medium</td>\n",
       "    </tr>\n",
       "    <tr>\n",
       "      <th>3</th>\n",
       "      <td>6.3</td>\n",
       "      <td>0.28</td>\n",
       "      <td>0.47</td>\n",
       "      <td>11.2</td>\n",
       "      <td>0.040</td>\n",
       "      <td>61.0</td>\n",
       "      <td>183.0</td>\n",
       "      <td>0.99592</td>\n",
       "      <td>3.12</td>\n",
       "      <td>0.51</td>\n",
       "      <td>9.5</td>\n",
       "      <td>6</td>\n",
       "      <td>white</td>\n",
       "      <td>medium</td>\n",
       "    </tr>\n",
       "    <tr>\n",
       "      <th>4</th>\n",
       "      <td>7.4</td>\n",
       "      <td>0.35</td>\n",
       "      <td>0.20</td>\n",
       "      <td>13.9</td>\n",
       "      <td>0.054</td>\n",
       "      <td>63.0</td>\n",
       "      <td>229.0</td>\n",
       "      <td>0.99888</td>\n",
       "      <td>3.11</td>\n",
       "      <td>0.50</td>\n",
       "      <td>8.9</td>\n",
       "      <td>6</td>\n",
       "      <td>white</td>\n",
       "      <td>medium</td>\n",
       "    </tr>\n",
       "  </tbody>\n",
       "</table>\n",
       "</div>"
      ],
      "text/plain": [
       "   fixed acidity  volatile acidity  citric acid  residual sugar  chlorides  \\\n",
       "0            7.0              0.17         0.74            12.8      0.045   \n",
       "1            7.7              0.64         0.21             2.2      0.077   \n",
       "2            6.8              0.39         0.34             7.4      0.020   \n",
       "3            6.3              0.28         0.47            11.2      0.040   \n",
       "4            7.4              0.35         0.20            13.9      0.054   \n",
       "\n",
       "   free sulfur dioxide  total sulfur dioxide  density    pH  sulphates  \\\n",
       "0                 24.0                 126.0  0.99420  3.26       0.38   \n",
       "1                 32.0                 133.0  0.99560  3.27       0.45   \n",
       "2                 38.0                 133.0  0.99212  3.18       0.44   \n",
       "3                 61.0                 183.0  0.99592  3.12       0.51   \n",
       "4                 63.0                 229.0  0.99888  3.11       0.50   \n",
       "\n",
       "   alcohol  quality wine_type quality_label  \n",
       "0     12.2        8     white          high  \n",
       "1      9.9        5       red           low  \n",
       "2     12.0        7     white        medium  \n",
       "3      9.5        6     white        medium  \n",
       "4      8.9        6     white        medium  "
      ]
     },
     "execution_count": 8,
     "metadata": {},
     "output_type": "execute_result"
    }
   ],
   "source": [
    "wines.head()"
   ]
  },
  {
   "cell_type": "markdown",
   "metadata": {},
   "source": [
    "## descriptive statistics"
   ]
  },
  {
   "cell_type": "code",
   "execution_count": 9,
   "metadata": {},
   "outputs": [
    {
     "data": {
      "text/html": [
       "<div>\n",
       "<style scoped>\n",
       "    .dataframe tbody tr th:only-of-type {\n",
       "        vertical-align: middle;\n",
       "    }\n",
       "\n",
       "    .dataframe tbody tr th {\n",
       "        vertical-align: top;\n",
       "    }\n",
       "\n",
       "    .dataframe thead tr th {\n",
       "        text-align: left;\n",
       "    }\n",
       "</style>\n",
       "<table border=\"1\" class=\"dataframe\">\n",
       "  <thead>\n",
       "    <tr>\n",
       "      <th></th>\n",
       "      <th colspan=\"3\" halign=\"left\">red wine</th>\n",
       "      <th colspan=\"3\" halign=\"left\">white wine</th>\n",
       "    </tr>\n",
       "    <tr>\n",
       "      <th></th>\n",
       "      <th>residual sugar</th>\n",
       "      <th>total sulfur dioxide</th>\n",
       "      <th>quality</th>\n",
       "      <th>residual sugar</th>\n",
       "      <th>total sulfur dioxide</th>\n",
       "      <th>quality</th>\n",
       "    </tr>\n",
       "  </thead>\n",
       "  <tbody>\n",
       "    <tr>\n",
       "      <th>count</th>\n",
       "      <td>1599.00</td>\n",
       "      <td>1599.00</td>\n",
       "      <td>1599.00</td>\n",
       "      <td>4898.00</td>\n",
       "      <td>4898.00</td>\n",
       "      <td>4898.00</td>\n",
       "    </tr>\n",
       "    <tr>\n",
       "      <th>mean</th>\n",
       "      <td>2.54</td>\n",
       "      <td>46.47</td>\n",
       "      <td>5.64</td>\n",
       "      <td>6.39</td>\n",
       "      <td>138.36</td>\n",
       "      <td>5.88</td>\n",
       "    </tr>\n",
       "    <tr>\n",
       "      <th>std</th>\n",
       "      <td>1.41</td>\n",
       "      <td>32.90</td>\n",
       "      <td>0.81</td>\n",
       "      <td>5.07</td>\n",
       "      <td>42.50</td>\n",
       "      <td>0.89</td>\n",
       "    </tr>\n",
       "    <tr>\n",
       "      <th>min</th>\n",
       "      <td>0.90</td>\n",
       "      <td>6.00</td>\n",
       "      <td>3.00</td>\n",
       "      <td>0.60</td>\n",
       "      <td>9.00</td>\n",
       "      <td>3.00</td>\n",
       "    </tr>\n",
       "    <tr>\n",
       "      <th>25%</th>\n",
       "      <td>1.90</td>\n",
       "      <td>22.00</td>\n",
       "      <td>5.00</td>\n",
       "      <td>1.70</td>\n",
       "      <td>108.00</td>\n",
       "      <td>5.00</td>\n",
       "    </tr>\n",
       "    <tr>\n",
       "      <th>50%</th>\n",
       "      <td>2.20</td>\n",
       "      <td>38.00</td>\n",
       "      <td>6.00</td>\n",
       "      <td>5.20</td>\n",
       "      <td>134.00</td>\n",
       "      <td>6.00</td>\n",
       "    </tr>\n",
       "    <tr>\n",
       "      <th>75%</th>\n",
       "      <td>2.60</td>\n",
       "      <td>62.00</td>\n",
       "      <td>6.00</td>\n",
       "      <td>9.90</td>\n",
       "      <td>167.00</td>\n",
       "      <td>6.00</td>\n",
       "    </tr>\n",
       "    <tr>\n",
       "      <th>max</th>\n",
       "      <td>15.50</td>\n",
       "      <td>289.00</td>\n",
       "      <td>8.00</td>\n",
       "      <td>65.80</td>\n",
       "      <td>440.00</td>\n",
       "      <td>9.00</td>\n",
       "    </tr>\n",
       "  </tbody>\n",
       "</table>\n",
       "</div>"
      ],
      "text/plain": [
       "            red wine                                   white wine  \\\n",
       "      residual sugar total sulfur dioxide  quality residual sugar   \n",
       "count        1599.00              1599.00  1599.00        4898.00   \n",
       "mean            2.54                46.47     5.64           6.39   \n",
       "std             1.41                32.90     0.81           5.07   \n",
       "min             0.90                 6.00     3.00           0.60   \n",
       "25%             1.90                22.00     5.00           1.70   \n",
       "50%             2.20                38.00     6.00           5.20   \n",
       "75%             2.60                62.00     6.00           9.90   \n",
       "max            15.50               289.00     8.00          65.80   \n",
       "\n",
       "                                     \n",
       "      total sulfur dioxide  quality  \n",
       "count              4898.00  4898.00  \n",
       "mean                138.36     5.88  \n",
       "std                  42.50     0.89  \n",
       "min                   9.00     3.00  \n",
       "25%                 108.00     5.00  \n",
       "50%                 134.00     6.00  \n",
       "75%                 167.00     6.00  \n",
       "max                 440.00     9.00  "
      ]
     },
     "execution_count": 9,
     "metadata": {},
     "output_type": "execute_result"
    }
   ],
   "source": [
    "rs = round(wine_red.describe(), 2)\n",
    "ws = round(wine_white.describe(), 2)\n",
    "cats = ['residual sugar', 'total sulfur dioxide', 'quality']\n",
    "pd.concat([rs[cats], ws[cats]], axis=1, keys=['red wine', 'white wine'])"
   ]
  },
  {
   "cell_type": "code",
   "execution_count": 10,
   "metadata": {},
   "outputs": [
    {
     "data": {
      "text/html": [
       "<div>\n",
       "<style scoped>\n",
       "    .dataframe tbody tr th:only-of-type {\n",
       "        vertical-align: middle;\n",
       "    }\n",
       "\n",
       "    .dataframe tbody tr th {\n",
       "        vertical-align: top;\n",
       "    }\n",
       "\n",
       "    .dataframe thead tr th {\n",
       "        text-align: left;\n",
       "    }\n",
       "</style>\n",
       "<table border=\"1\" class=\"dataframe\">\n",
       "  <thead>\n",
       "    <tr>\n",
       "      <th></th>\n",
       "      <th colspan=\"4\" halign=\"left\">low quality</th>\n",
       "      <th colspan=\"4\" halign=\"left\">medium quality</th>\n",
       "      <th colspan=\"4\" halign=\"left\">high quality</th>\n",
       "    </tr>\n",
       "    <tr>\n",
       "      <th></th>\n",
       "      <th>alcohol</th>\n",
       "      <th>volatile acidity</th>\n",
       "      <th>pH</th>\n",
       "      <th>quality</th>\n",
       "      <th>alcohol</th>\n",
       "      <th>volatile acidity</th>\n",
       "      <th>pH</th>\n",
       "      <th>quality</th>\n",
       "      <th>alcohol</th>\n",
       "      <th>volatile acidity</th>\n",
       "      <th>pH</th>\n",
       "      <th>quality</th>\n",
       "    </tr>\n",
       "  </thead>\n",
       "  <tbody>\n",
       "    <tr>\n",
       "      <th>count</th>\n",
       "      <td>2384.00</td>\n",
       "      <td>2384.00</td>\n",
       "      <td>2384.00</td>\n",
       "      <td>2384.00</td>\n",
       "      <td>3915.00</td>\n",
       "      <td>3915.00</td>\n",
       "      <td>3915.00</td>\n",
       "      <td>3915.00</td>\n",
       "      <td>198.00</td>\n",
       "      <td>198.00</td>\n",
       "      <td>198.00</td>\n",
       "      <td>198.00</td>\n",
       "    </tr>\n",
       "    <tr>\n",
       "      <th>mean</th>\n",
       "      <td>9.87</td>\n",
       "      <td>0.40</td>\n",
       "      <td>3.21</td>\n",
       "      <td>4.88</td>\n",
       "      <td>10.81</td>\n",
       "      <td>0.31</td>\n",
       "      <td>3.22</td>\n",
       "      <td>6.28</td>\n",
       "      <td>11.69</td>\n",
       "      <td>0.29</td>\n",
       "      <td>3.23</td>\n",
       "      <td>8.03</td>\n",
       "    </tr>\n",
       "    <tr>\n",
       "      <th>std</th>\n",
       "      <td>0.84</td>\n",
       "      <td>0.19</td>\n",
       "      <td>0.16</td>\n",
       "      <td>0.36</td>\n",
       "      <td>1.20</td>\n",
       "      <td>0.14</td>\n",
       "      <td>0.16</td>\n",
       "      <td>0.45</td>\n",
       "      <td>1.27</td>\n",
       "      <td>0.12</td>\n",
       "      <td>0.16</td>\n",
       "      <td>0.16</td>\n",
       "    </tr>\n",
       "    <tr>\n",
       "      <th>min</th>\n",
       "      <td>8.00</td>\n",
       "      <td>0.10</td>\n",
       "      <td>2.74</td>\n",
       "      <td>3.00</td>\n",
       "      <td>8.40</td>\n",
       "      <td>0.08</td>\n",
       "      <td>2.72</td>\n",
       "      <td>6.00</td>\n",
       "      <td>8.50</td>\n",
       "      <td>0.12</td>\n",
       "      <td>2.88</td>\n",
       "      <td>8.00</td>\n",
       "    </tr>\n",
       "    <tr>\n",
       "      <th>25%</th>\n",
       "      <td>9.30</td>\n",
       "      <td>0.26</td>\n",
       "      <td>3.11</td>\n",
       "      <td>5.00</td>\n",
       "      <td>9.80</td>\n",
       "      <td>0.21</td>\n",
       "      <td>3.11</td>\n",
       "      <td>6.00</td>\n",
       "      <td>11.00</td>\n",
       "      <td>0.21</td>\n",
       "      <td>3.13</td>\n",
       "      <td>8.00</td>\n",
       "    </tr>\n",
       "    <tr>\n",
       "      <th>50%</th>\n",
       "      <td>9.60</td>\n",
       "      <td>0.34</td>\n",
       "      <td>3.20</td>\n",
       "      <td>5.00</td>\n",
       "      <td>10.80</td>\n",
       "      <td>0.27</td>\n",
       "      <td>3.21</td>\n",
       "      <td>6.00</td>\n",
       "      <td>12.00</td>\n",
       "      <td>0.28</td>\n",
       "      <td>3.23</td>\n",
       "      <td>8.00</td>\n",
       "    </tr>\n",
       "    <tr>\n",
       "      <th>75%</th>\n",
       "      <td>10.40</td>\n",
       "      <td>0.50</td>\n",
       "      <td>3.31</td>\n",
       "      <td>5.00</td>\n",
       "      <td>11.70</td>\n",
       "      <td>0.36</td>\n",
       "      <td>3.33</td>\n",
       "      <td>7.00</td>\n",
       "      <td>12.60</td>\n",
       "      <td>0.35</td>\n",
       "      <td>3.33</td>\n",
       "      <td>8.00</td>\n",
       "    </tr>\n",
       "    <tr>\n",
       "      <th>max</th>\n",
       "      <td>14.90</td>\n",
       "      <td>1.58</td>\n",
       "      <td>3.90</td>\n",
       "      <td>5.00</td>\n",
       "      <td>14.20</td>\n",
       "      <td>1.04</td>\n",
       "      <td>4.01</td>\n",
       "      <td>7.00</td>\n",
       "      <td>14.00</td>\n",
       "      <td>0.85</td>\n",
       "      <td>3.72</td>\n",
       "      <td>9.00</td>\n",
       "    </tr>\n",
       "  </tbody>\n",
       "</table>\n",
       "</div>"
      ],
      "text/plain": [
       "      low quality                                    medium quality  \\\n",
       "          alcohol volatile acidity       pH  quality        alcohol   \n",
       "count     2384.00          2384.00  2384.00  2384.00        3915.00   \n",
       "mean         9.87             0.40     3.21     4.88          10.81   \n",
       "std          0.84             0.19     0.16     0.36           1.20   \n",
       "min          8.00             0.10     2.74     3.00           8.40   \n",
       "25%          9.30             0.26     3.11     5.00           9.80   \n",
       "50%          9.60             0.34     3.20     5.00          10.80   \n",
       "75%         10.40             0.50     3.31     5.00          11.70   \n",
       "max         14.90             1.58     3.90     5.00          14.20   \n",
       "\n",
       "                                         high quality                   \\\n",
       "      volatile acidity       pH  quality      alcohol volatile acidity   \n",
       "count          3915.00  3915.00  3915.00       198.00           198.00   \n",
       "mean              0.31     3.22     6.28        11.69             0.29   \n",
       "std               0.14     0.16     0.45         1.27             0.12   \n",
       "min               0.08     2.72     6.00         8.50             0.12   \n",
       "25%               0.21     3.11     6.00        11.00             0.21   \n",
       "50%               0.27     3.21     6.00        12.00             0.28   \n",
       "75%               0.36     3.33     7.00        12.60             0.35   \n",
       "max               1.04     4.01     7.00        14.00             0.85   \n",
       "\n",
       "                       \n",
       "           pH quality  \n",
       "count  198.00  198.00  \n",
       "mean     3.23    8.03  \n",
       "std      0.16    0.16  \n",
       "min      2.88    8.00  \n",
       "25%      3.13    8.00  \n",
       "50%      3.23    8.00  \n",
       "75%      3.33    8.00  \n",
       "max      3.72    9.00  "
      ]
     },
     "execution_count": 10,
     "metadata": {},
     "output_type": "execute_result"
    }
   ],
   "source": [
    "cat =['alcohol', 'volatile acidity', 'pH', 'quality']\n",
    "lm = round(wines[wines['quality_label']=='low'][cat].describe(), 2)\n",
    "ms = round(wines[wines['quality_label']=='medium'][cat].describe(), 2)\n",
    "hi = round(wines[wines['quality_label']=='high'][cat].describe(), 2)\n",
    "pd.concat([lm, ms, hi], axis=1, keys=['low quality', 'medium quality', 'high quality'])"
   ]
  },
  {
   "cell_type": "markdown",
   "metadata": {},
   "source": [
    "## inferential statistics\n",
    "\n",
    "ANOVA - analysis of variance"
   ]
  },
  {
   "cell_type": "code",
   "execution_count": 11,
   "metadata": {},
   "outputs": [
    {
     "name": "stdout",
     "output_type": "stream",
     "text": [
      "alcohol:  673.074534723 2.27153374506e-266\n",
      "pH:  1.23638608035 0.290500277977\n"
     ]
    }
   ],
   "source": [
    "from scipy import stats\n",
    "F, p = stats.f_oneway(wines[wines['quality_label']=='low']['alcohol'],\n",
    "                   wines[wines['quality_label']=='medium']['alcohol'],\n",
    "                   wines[wines['quality_label']=='high']['alcohol'],)\n",
    "print('alcohol: ', F, p)\n",
    "\n",
    "F, p = stats.f_oneway(wines[wines['quality_label']=='low']['pH'],\n",
    "                   wines[wines['quality_label']=='medium']['pH'],\n",
    "                   wines[wines['quality_label']=='high']['pH'],)\n",
    "print('pH: ', F, p)"
   ]
  },
  {
   "cell_type": "code",
   "execution_count": 12,
   "metadata": {},
   "outputs": [
    {
     "data": {
      "text/plain": [
       "<matplotlib.axes._subplots.AxesSubplot at 0x208f0d0bd68>"
      ]
     },
     "execution_count": 12,
     "metadata": {},
     "output_type": "execute_result"
    },
    {
     "data": {
      "image/png": "[encoded data removed]",
      "text/plain": [
       "<matplotlib.figure.Figure at 0x208f0c34630>"
      ]
     },
     "metadata": {},
     "output_type": "display_data"
    }
   ],
   "source": [
    "order = ['low', 'medium', 'high']\n",
    "fig, ax = plt.subplots(1, 2, figsize=(12, 4))\n",
    "sns.boxplot(x='quality_label', y='alcohol', data=wines, ax=ax[0], order=order)\n",
    "sns.boxplot(x='quality_label', y='pH', data=wines, ax=ax[1], order=order)"
   ]
  },
  {
   "cell_type": "markdown",
   "metadata": {},
   "source": [
    "### univariate analysis"
   ]
  },
  {
   "cell_type": "code",
   "execution_count": 13,
   "metadata": {},
   "outputs": [
    {
     "data": {
      "image/png": "[encoded data removed]",
      "text/plain": [
       "<matplotlib.figure.Figure at 0x208f1015748>"
      ]
     },
     "metadata": {},
     "output_type": "display_data"
    }
   ],
   "source": [
    "wine_red.hist(bins=15, color='red')\n",
    "plt.tight_layout(rect=(0, 0, 1.2, 1.2))"
   ]
  },
  {
   "cell_type": "code",
   "execution_count": 14,
   "metadata": {},
   "outputs": [
    {
     "data": {
      "image/png": "[encoded data removed]",
      "text/plain": [
       "<matplotlib.figure.Figure at 0x208f1300ba8>"
      ]
     },
     "metadata": {},
     "output_type": "display_data"
    }
   ],
   "source": [
    "wine_white.hist(bins=15, color='blue')\n",
    "plt.tight_layout(rect=(0, 0, 1.2, 1.2))"
   ]
  },
  {
   "cell_type": "markdown",
   "metadata": {},
   "source": [
    "### multivariate analysis"
   ]
  },
  {
   "cell_type": "code",
   "execution_count": 15,
   "metadata": {},
   "outputs": [
    {
     "data": {
      "image/png": "[encoded data removed]",
      "text/plain": [
       "<matplotlib.figure.Figure at 0x208f135b3c8>"
      ]
     },
     "metadata": {},
     "output_type": "display_data"
    }
   ],
   "source": [
    "fig, ax = plt.subplots(figsize=(10, 5))\n",
    "corr = wines.corr()\n",
    "hm = sns.heatmap(round(corr, 2), annot=True, ax=ax, cmap='coolwarm', fmt='.2f')\n",
    "fig.subplots_adjust(top=0.93)\n",
    "t = fig.suptitle('wine attributes correlation heatmap', fontsize=12)"
   ]
  },
  {
   "cell_type": "code",
   "execution_count": 16,
   "metadata": {
    "scrolled": true
   },
   "outputs": [
    {
     "data": {
      "text/plain": [
       "<matplotlib.axes._subplots.AxesSubplot at 0x208f10c7a90>"
      ]
     },
     "execution_count": 16,
     "metadata": {},
     "output_type": "execute_result"
    },
    {
     "data": {
      "image/png": "[encoded data removed]",
      "text/plain": [
       "<matplotlib.figure.Figure at 0x208f160a668>"
      ]
     },
     "metadata": {},
     "output_type": "display_data"
    }
   ],
   "source": [
    "sns.boxplot(x='quality_label', y='alcohol', data=wines, hue='wine_type',\n",
    "           palette={'red':'#FF9999', 'white':'white'},\n",
    "           order=['low', 'medium', 'high'])"
   ]
  },
  {
   "cell_type": "markdown",
   "metadata": {},
   "source": [
    "## predictive modeling"
   ]
  },
  {
   "cell_type": "code",
   "execution_count": 18,
   "metadata": {},
   "outputs": [],
   "source": [
    "from sklearn.model_selection import train_test_split\n",
    "from sklearn.preprocessing import StandardScaler, LabelEncoder\n",
    "\n",
    "from sklearn.linear_model import LogisticRegression"
   ]
  },
  {
   "cell_type": "code",
   "execution_count": 19,
   "metadata": {},
   "outputs": [],
   "source": [
    "wtp_features = wines.iloc[:, :-3]\n",
    "wtp_feature_names = wtp_features.columns\n",
    "wtp_class_labels = np.array(wines['wine_type'])\n",
    "\n",
    "wtp_train_X, wtp_test_X, wtp_train_y, wtp_test_y = train_test_split(wtp_features,\n",
    "                                wtp_class_labels, test_size=0.3, random_state=42)"
   ]
  },
  {
   "cell_type": "code",
   "execution_count": 20,
   "metadata": {},
   "outputs": [],
   "source": [
    "# define the scaler\n",
    "wtp_scaler = StandardScaler().fit(wtp_train_X)\n",
    "wtp_train_SX = wtp_scaler.transform(wtp_train_X)\n",
    "wtp_test_SX = wtp_scaler.transform(wtp_test_X)"
   ]
  },
  {
   "cell_type": "code",
   "execution_count": 21,
   "metadata": {},
   "outputs": [
    {
     "data": {
      "text/plain": [
       "LogisticRegression(C=1.0, class_weight=None, dual=False, fit_intercept=True,\n",
       "          intercept_scaling=1, max_iter=100, multi_class='ovr', n_jobs=1,\n",
       "          penalty='l2', random_state=None, solver='liblinear', tol=0.0001,\n",
       "          verbose=0, warm_start=False)"
      ]
     },
     "execution_count": 21,
     "metadata": {},
     "output_type": "execute_result"
    }
   ],
   "source": [
    "wtp_lr = LogisticRegression()\n",
    "wtp_lr.fit(wtp_train_SX, wtp_train_y)"
   ]
  },
  {
   "cell_type": "code",
   "execution_count": 22,
   "metadata": {},
   "outputs": [
    {
     "name": "stdout",
     "output_type": "stream",
     "text": [
      "[[ 463    7]\n",
      " [   8 1472]]\n",
      "             precision    recall  f1-score   support\n",
      "\n",
      "        red       0.98      0.99      0.98       470\n",
      "      white       1.00      0.99      0.99      1480\n",
      "\n",
      "avg / total       0.99      0.99      0.99      1950\n",
      "\n"
     ]
    }
   ],
   "source": [
    "from sklearn.metrics import classification_report\n",
    "from sklearn.metrics import confusion_matrix\n",
    "\n",
    "wtp_lr_pred = wtp_lr.predict(wtp_test_SX)\n",
    "\n",
    "matrix = confusion_matrix(wtp_test_y, wtp_lr_pred)\n",
    "print(matrix)\n",
    "\n",
    "report =  classification_report(wtp_test_y, wtp_lr_pred)\n",
    "print(report)"
   ]
  },
  {
   "cell_type": "markdown",
   "metadata": {},
   "source": [
    "## deep learning"
   ]
  },
  {
   "cell_type": "code",
   "execution_count": 24,
   "metadata": {},
   "outputs": [],
   "source": [
    "le = LabelEncoder()\n",
    "le.fit(wtp_train_y)\n",
    "wtp_train_ey = le.transform(wtp_train_y)\n",
    "wtp_test_ey = le.transform(wtp_test_y)"
   ]
  },
  {
   "cell_type": "code",
   "execution_count": 25,
   "metadata": {},
   "outputs": [
    {
     "name": "stdout",
     "output_type": "stream",
     "text": [
      "[1 0 1 0 0]\n",
      "['white' 'red' 'white' 'red' 'red']\n"
     ]
    }
   ],
   "source": [
    "print(wtp_train_ey[:5])\n",
    "print(wtp_train_y[:5])"
   ]
  },
  {
   "cell_type": "code",
   "execution_count": 26,
   "metadata": {},
   "outputs": [
    {
     "name": "stderr",
     "output_type": "stream",
     "text": [
      "Using TensorFlow backend.\n"
     ]
    }
   ],
   "source": [
    "from keras.models import Sequential\n",
    "from keras.layers import Dense\n",
    "\n",
    "wtp_dnn_model = Sequential()\n",
    "wtp_dnn_model.add(Dense(16, activation='relu', input_shape=(11, )))\n",
    "wtp_dnn_model.add(Dense(16, activation='relu'))\n",
    "wtp_dnn_model.add(Dense(16, activation='relu'))\n",
    "wtp_dnn_model.add(Dense(1, activation='sigmoid'))\n",
    "\n",
    "wtp_dnn_model.compile(loss='binary_crossentropy', \n",
    "                      optimizer='adam', metrics=['accuracy'])"
   ]
  },
  {
   "cell_type": "code",
   "execution_count": 28,
   "metadata": {},
   "outputs": [
    {
     "name": "stdout",
     "output_type": "stream",
     "text": [
      "Train on 4092 samples, validate on 455 samples\n",
      "Epoch 1/5\n",
      "4092/4092 [==============================] - 5s 1ms/step - loss: 0.0198 - acc: 0.9961 - val_loss: 0.0026 - val_acc: 1.0000\n",
      "Epoch 2/5\n",
      "4092/4092 [==============================] - 3s 841us/step - loss: 0.0182 - acc: 0.9966 - val_loss: 0.0113 - val_acc: 0.9956\n",
      "Epoch 3/5\n",
      "4092/4092 [==============================] - 3s 677us/step - loss: 0.0179 - acc: 0.9963 - val_loss: 0.0027 - val_acc: 1.0000\n",
      "Epoch 4/5\n",
      "4092/4092 [==============================] - 2s 596us/step - loss: 0.0166 - acc: 0.9966 - val_loss: 0.0024 - val_acc: 1.0000\n",
      "Epoch 5/5\n",
      "4092/4092 [==============================] - 2s 565us/step - loss: 0.0146 - acc: 0.9968 - val_loss: 0.0026 - val_acc: 1.0000\n"
     ]
    }
   ],
   "source": [
    "history = wtp_dnn_model.fit(wtp_train_SX, wtp_train_ey,\n",
    "                           epochs=5, batch_size=5, \n",
    "                           shuffle=True, validation_split=0.1, verbose=1)"
   ]
  },
  {
   "cell_type": "code",
   "execution_count": 29,
   "metadata": {},
   "outputs": [
    {
     "name": "stdout",
     "output_type": "stream",
     "text": [
      "[[ 462    8]\n",
      " [   7 1473]]\n",
      "             precision    recall  f1-score   support\n",
      "\n",
      "          0       0.99      0.98      0.98       470\n",
      "          1       0.99      1.00      0.99      1480\n",
      "\n",
      "avg / total       0.99      0.99      0.99      1950\n",
      "\n"
     ]
    }
   ],
   "source": [
    "wtp_dnn_pred = np.where(wtp_dnn_model.predict(wtp_test_SX)>0.5, 1, 0)\n",
    "wtp_dnn_predictions = le.inverse_transform(wtp_dnn_pred)\n",
    "\n",
    "matrix_dnn = confusion_matrix(wtp_test_ey, wtp_dnn_pred)\n",
    "print(matrix_dnn)\n",
    "\n",
    "report_dnn =  classification_report(wtp_test_ey, wtp_dnn_pred)\n",
    "print(report_dnn)"
   ]
  },
  {
   "cell_type": "code",
   "execution_count": 30,
   "metadata": {},
   "outputs": [
    {
     "name": "stdout",
     "output_type": "stream",
     "text": [
      "[11/11] features ████████████████████ Time elapsed: 0 seconds"
     ]
    },
    {
     "data": {
      "image/png": "[encoded data removed]",
      "text/plain": [
       "<matplotlib.figure.Figure at 0x208e95f1f98>"
      ]
     },
     "metadata": {},
     "output_type": "display_data"
    }
   ],
   "source": [
    "from skater.core.explanations import Interpretation\n",
    "from skater.model import InMemoryModel\n",
    "\n",
    "wtp_interpreter = Interpretation(wtp_test_SX, \n",
    "                                 feature_names=wtp_features.columns)\n",
    "wtp_im_model = InMemoryModel(wtp_lr.predict_proba, examples=wtp_train_SX,\n",
    "                            target_names=wtp_lr.classes_)\n",
    "plots = wtp_interpreter.feature_importance.\\\n",
    "plot_feature_importance(wtp_im_model, ascending=False)"
   ]
  },
  {
   "cell_type": "markdown",
   "metadata": {},
   "source": [
    "## predicting wine quality"
   ]
  },
  {
   "cell_type": "code",
   "execution_count": 27,
   "metadata": {},
   "outputs": [
    {
     "name": "stdout",
     "output_type": "stream",
     "text": [
      "Counter({'medium': 2737, 'low': 1666, 'high': 144}) Counter({'medium': 1178, 'low': 718, 'high': 54})\n",
      "FEatures: ['fixed acidity', 'volatile acidity', 'citric acid', 'residual sugar', 'chlorides', 'free sulfur dioxide', 'total sulfur dioxide', 'density', 'pH', 'sulphates', 'alcohol']\n"
     ]
    }
   ],
   "source": [
    "wqp_features = wines.iloc[:, :-3]\n",
    "wqp_class_labels = np.array(wines['quality_label'])\n",
    "wqp_label_names = ['low', 'medium', 'high']\n",
    "wqp_feature_names = list(wqp_features.columns)\n",
    "wqp_train_X, wqp_test_X, wqp_train_y, wqp_test_y = train_test_split(\n",
    "                               wqp_features, wqp_class_labels, \n",
    "                               test_size=0.3, random_state=42)\n",
    "\n",
    "from collections import Counter\n",
    "print(Counter(wqp_train_y), Counter(wqp_test_y))\n",
    "print('FEatures:', wqp_feature_names)"
   ]
  },
  {
   "cell_type": "code",
   "execution_count": 28,
   "metadata": {},
   "outputs": [],
   "source": [
    "wqp_ss = StandardScaler().fit(wqp_train_X)\n",
    "wqp_train_SX = wqp_ss.transform(wqp_train_X)\n",
    "wqp_test_SX = wqp_ss.transform(wqp_test_X)"
   ]
  },
  {
   "cell_type": "code",
   "execution_count": 29,
   "metadata": {},
   "outputs": [],
   "source": [
    "from sklearn.tree import DecisionTreeClassifier\n",
    "\n",
    "# train the model\n",
    "wqp_dt = DecisionTreeClassifier()\n",
    "wqp_dt.fit(wqp_train_SX, wqp_train_y)\n",
    "\n",
    "# predict and evaluate performance\n",
    "wqp_dt_predictions = wqp_dt.predict(wqp_test_SX)\n"
   ]
  },
  {
   "cell_type": "code",
   "execution_count": 30,
   "metadata": {},
   "outputs": [
    {
     "name": "stdout",
     "output_type": "stream",
     "text": [
      "[[ 16   5  33]\n",
      " [  4 485 229]\n",
      " [ 41 218 919]]\n",
      "             precision    recall  f1-score   support\n",
      "\n",
      "       high       0.26      0.30      0.28        54\n",
      "        low       0.69      0.68      0.68       718\n",
      "     medium       0.78      0.78      0.78      1178\n",
      "\n",
      "avg / total       0.73      0.73      0.73      1950\n",
      "\n"
     ]
    }
   ],
   "source": [
    "wqp_dt_pred = wqp_dt.predict(wqp_test_SX)\n",
    "\n",
    "matrix = confusion_matrix(wqp_test_y, wqp_dt_pred)\n",
    "print(matrix)\n",
    "\n",
    "report = classification_report(wqp_test_y, wqp_dt_pred)\n",
    "print(report)"
   ]
  },
  {
   "cell_type": "code",
   "execution_count": 31,
   "metadata": {},
   "outputs": [
    {
     "name": "stdout",
     "output_type": "stream",
     "text": [
      "[ 0.05723795  0.11444789  0.07626582  0.06844474  0.08320231  0.07210011\n",
      "  0.0978642   0.08594361  0.07589713  0.07565583  0.19294041]\n",
      "['fixed acidity', 'volatile acidity', 'citric acid', 'residual sugar', 'chlorides', 'free sulfur dioxide', 'total sulfur dioxide', 'density', 'pH', 'sulphates', 'alcohol']\n"
     ]
    },
    {
     "data": {
      "text/html": [
       "<div>\n",
       "<style scoped>\n",
       "    .dataframe tbody tr th:only-of-type {\n",
       "        vertical-align: middle;\n",
       "    }\n",
       "\n",
       "    .dataframe tbody tr th {\n",
       "        vertical-align: top;\n",
       "    }\n",
       "\n",
       "    .dataframe thead th {\n",
       "        text-align: right;\n",
       "    }\n",
       "</style>\n",
       "<table border=\"1\" class=\"dataframe\">\n",
       "  <thead>\n",
       "    <tr style=\"text-align: right;\">\n",
       "      <th></th>\n",
       "      <th>features</th>\n",
       "      <th>score</th>\n",
       "    </tr>\n",
       "  </thead>\n",
       "  <tbody>\n",
       "    <tr>\n",
       "      <th>0</th>\n",
       "      <td>fixed acidity</td>\n",
       "      <td>0.057238</td>\n",
       "    </tr>\n",
       "    <tr>\n",
       "      <th>1</th>\n",
       "      <td>volatile acidity</td>\n",
       "      <td>0.114448</td>\n",
       "    </tr>\n",
       "    <tr>\n",
       "      <th>2</th>\n",
       "      <td>citric acid</td>\n",
       "      <td>0.076266</td>\n",
       "    </tr>\n",
       "    <tr>\n",
       "      <th>3</th>\n",
       "      <td>residual sugar</td>\n",
       "      <td>0.068445</td>\n",
       "    </tr>\n",
       "    <tr>\n",
       "      <th>4</th>\n",
       "      <td>chlorides</td>\n",
       "      <td>0.083202</td>\n",
       "    </tr>\n",
       "    <tr>\n",
       "      <th>5</th>\n",
       "      <td>free sulfur dioxide</td>\n",
       "      <td>0.072100</td>\n",
       "    </tr>\n",
       "    <tr>\n",
       "      <th>6</th>\n",
       "      <td>total sulfur dioxide</td>\n",
       "      <td>0.097864</td>\n",
       "    </tr>\n",
       "    <tr>\n",
       "      <th>7</th>\n",
       "      <td>density</td>\n",
       "      <td>0.085944</td>\n",
       "    </tr>\n",
       "    <tr>\n",
       "      <th>8</th>\n",
       "      <td>pH</td>\n",
       "      <td>0.075897</td>\n",
       "    </tr>\n",
       "    <tr>\n",
       "      <th>9</th>\n",
       "      <td>sulphates</td>\n",
       "      <td>0.075656</td>\n",
       "    </tr>\n",
       "    <tr>\n",
       "      <th>10</th>\n",
       "      <td>alcohol</td>\n",
       "      <td>0.192940</td>\n",
       "    </tr>\n",
       "  </tbody>\n",
       "</table>\n",
       "</div>"
      ],
      "text/plain": [
       "                features     score\n",
       "0          fixed acidity  0.057238\n",
       "1       volatile acidity  0.114448\n",
       "2            citric acid  0.076266\n",
       "3         residual sugar  0.068445\n",
       "4              chlorides  0.083202\n",
       "5    free sulfur dioxide  0.072100\n",
       "6   total sulfur dioxide  0.097864\n",
       "7                density  0.085944\n",
       "8                     pH  0.075897\n",
       "9              sulphates  0.075656\n",
       "10               alcohol  0.192940"
      ]
     },
     "execution_count": 31,
     "metadata": {},
     "output_type": "execute_result"
    }
   ],
   "source": [
    "wqp_dt_feature_importances = wqp_dt.feature_importances_\n",
    "print(wqp_dt_feature_importances)\n",
    "\n",
    "print(wqp_feature_names)\n",
    "\n",
    "wqp_import = pd.DataFrame({'features':wqp_feature_names,\n",
    "                           'score':wqp_dt_feature_importances})\n",
    "wqp_import"
   ]
  },
  {
   "cell_type": "code",
   "execution_count": 32,
   "metadata": {},
   "outputs": [],
   "source": [
    "wqp_import.sort_values(\"score\", ascending=False, inplace=True)"
   ]
  },
  {
   "cell_type": "code",
   "execution_count": 33,
   "metadata": {},
   "outputs": [
    {
     "data": {
      "text/plain": [
       "<matplotlib.axes._subplots.AxesSubplot at 0x24f4f46d278>"
      ]
     },
     "execution_count": 33,
     "metadata": {},
     "output_type": "execute_result"
    },
    {
     "data": {
      "image/png": "[encoded data removed]",
      "text/plain": [
       "<matplotlib.figure.Figure at 0x24f4f4565c0>"
      ]
     },
     "metadata": {},
     "output_type": "display_data"
    }
   ],
   "source": [
    "sns.barplot(y=\"features\", x='score', data=wqp_import)"
   ]
  },
  {
   "cell_type": "code",
   "execution_count": 34,
   "metadata": {},
   "outputs": [
    {
     "name": "stdout",
     "output_type": "stream",
     "text": [
      "[[  15    0   39]\n",
      " [   0  522  196]\n",
      " [   2  132 1044]]\n",
      "             precision    recall  f1-score   support\n",
      "\n",
      "       high       0.88      0.28      0.42        54\n",
      "        low       0.80      0.73      0.76       718\n",
      "     medium       0.82      0.89      0.85      1178\n",
      "\n",
      "avg / total       0.81      0.81      0.81      1950\n",
      "\n"
     ]
    }
   ],
   "source": [
    "from sklearn.ensemble import RandomForestClassifier\n",
    "\n",
    "# train the model\n",
    "wqp_rf = RandomForestClassifier(max_features='auto', \n",
    "                                n_estimators=200,\n",
    "                                random_state=42)\n",
    "wqp_rf.fit(wqp_train_SX, wqp_train_y)\n",
    "\n",
    "#preidct \n",
    "wqp_rt_predictions = wqp_rf.predict(wqp_test_SX)\n",
    "\n",
    "matrix = confusion_matrix(wqp_test_y, wqp_rt_predictions)\n",
    "print(matrix)\n",
    "\n",
    "report = classification_report(wqp_test_y, wqp_rt_predictions)\n",
    "print(report)"
   ]
  },
  {
   "cell_type": "markdown",
   "metadata": {},
   "source": [
    "### ensemble method - RF"
   ]
  },
  {
   "cell_type": "code",
   "execution_count": 40,
   "metadata": {},
   "outputs": [
    {
     "name": "stdout",
     "output_type": "stream",
     "text": [
      "Fitting 5 folds for each of 6 candidates, totalling 30 fits\n"
     ]
    },
    {
     "name": "stderr",
     "output_type": "stream",
     "text": [
      "[Parallel(n_jobs=-1)]: Done  30 out of  30 | elapsed:   44.1s finished\n"
     ]
    },
    {
     "data": {
      "text/plain": [
       "GridSearchCV(cv=5, error_score='raise',\n",
       "       estimator=RandomForestClassifier(bootstrap=True, class_weight=None, criterion='gini',\n",
       "            max_depth=None, max_features='auto', max_leaf_nodes=None,\n",
       "            min_impurity_decrease=0.0, min_impurity_split=None,\n",
       "            min_samples_leaf=1, min_samples_split=2,\n",
       "            min_weight_fraction_leaf=0.0, n_estimators=10, n_jobs=1,\n",
       "            oob_score=False, random_state=42, verbose=0, warm_start=False),\n",
       "       fit_params=None, iid=True, n_jobs=-1,\n",
       "       param_grid={'n_estimators': [50, 200, 500], 'max_features': ['auto', 'log2']},\n",
       "       pre_dispatch='2*n_jobs', refit=True, return_train_score='warn',\n",
       "       scoring='accuracy', verbose=1)"
      ]
     },
     "execution_count": 40,
     "metadata": {},
     "output_type": "execute_result"
    }
   ],
   "source": [
    "from sklearn.model_selection import GridSearchCV\n",
    "\n",
    "param_grid = {\n",
    "    'n_estimators': [50, 200, 500],\n",
    "    'max_features': ['auto', 'log2']\n",
    "}\n",
    "\n",
    "wqp_clf = GridSearchCV(RandomForestClassifier(random_state=42), param_grid,\n",
    "                      cv=5, scoring='accuracy', verbose=1, n_jobs=-1)\n",
    "\n",
    "wqp_clf.fit(wqp_train_SX, wqp_train_y)"
   ]
  },
  {
   "cell_type": "code",
   "execution_count": 41,
   "metadata": {},
   "outputs": [
    {
     "name": "stdout",
     "output_type": "stream",
     "text": [
      "{'max_features': 'auto', 'n_estimators': 200}\n"
     ]
    }
   ],
   "source": [
    "print(wqp_clf.best_params_)"
   ]
  },
  {
   "cell_type": "markdown",
   "metadata": {},
   "source": [
    "### XGBoost"
   ]
  },
  {
   "cell_type": "code",
   "execution_count": 178,
   "metadata": {},
   "outputs": [
    {
     "name": "stdout",
     "output_type": "stream",
     "text": [
      "[[  14    3   37]\n",
      " [   0  519  199]\n",
      " [   0  152 1026]]\n",
      "             precision    recall  f1-score   support\n",
      "\n",
      "       high       1.00      0.26      0.41        54\n",
      "        low       0.77      0.72      0.75       718\n",
      "     medium       0.81      0.87      0.84      1178\n",
      "\n",
      "avg / total       0.80      0.80      0.79      1950\n",
      "\n"
     ]
    }
   ],
   "source": [
    "import xgboost as xgb\n",
    "\n",
    "wqp_xgb_model = xgb.XGBClassifier(seed=42, max_depth=10, learning_ratio=0.3,\n",
    "                                n_estimatiors=100)\n",
    "\n",
    "wqp_xgb_model.fit(wqp_train_SX, wqp_train_y)\n",
    "\n",
    "wqp_xgb_predictions = wqp_xgb_model.predict(wqp_test_SX)\n",
    "\n",
    "matrix = confusion_matrix(wqp_test_y, wqp_xgb_predictions)\n",
    "print(matrix)\n",
    "\n",
    "report = classification_report(wqp_test_y, wqp_xgb_predictions)\n",
    "print(report)"
   ]
  }
 ],
 "metadata": {
  "kernelspec": {
   "display_name": "Python 3",
   "language": "python",
   "name": "python3"
  },
  "language_info": {
   "codemirror_mode": {
    "name": "ipython",
    "version": 3
   },
   "file_extension": ".py",
   "mimetype": "text/x-python",
   "name": "python",
   "nbconvert_exporter": "python",
   "pygments_lexer": "ipython3",
   "version": "3.6.4"
  },
  "toc": {
   "nav_menu": {
    "height": "235px",
    "width": "243px"
   },
   "number_sections": true,
   "sideBar": true,
   "skip_h1_title": false,
   "title_cell": "Table of Contents",
   "title_sidebar": "Contents",
   "toc_cell": false,
   "toc_position": {},
   "toc_section_display": true,
   "toc_window_display": false
  }
 },
 "nbformat": 4,
 "nbformat_minor": 2
}
