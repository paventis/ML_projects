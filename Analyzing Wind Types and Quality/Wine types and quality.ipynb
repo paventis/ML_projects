{
 "cells": [
  {
   "cell_type": "code",
   "execution_count": 1,
   "metadata": {
    "ExecuteTime": {
     "end_time": "2020-03-21T00:41:26.364937Z",
     "start_time": "2020-03-21T00:41:24.436098Z"
    }
   },
   "outputs": [],
   "source": [
    "import numpy as np\n",
    "import pandas as pd\n",
    "import matplotlib.pyplot as plt\n",
    "%matplotlib inline\n",
    "\n",
    "import seaborn as sns"
   ]
  },
  {
   "cell_type": "markdown",
   "metadata": {
    "ExecuteTime": {
     "end_time": "2020-03-21T00:43:59.688555Z",
     "start_time": "2020-03-21T00:43:59.685558Z"
    }
   },
   "source": [
    "## load and clean data"
   ]
  },
  {
   "cell_type": "code",
   "execution_count": 8,
   "metadata": {
    "ExecuteTime": {
     "end_time": "2020-03-21T00:44:09.849313Z",
     "start_time": "2020-03-21T00:44:06.568416Z"
    }
   },
   "outputs": [
    {
     "data": {
      "text/html": [
       "<div>\n",
       "<style scoped>\n",
       "    .dataframe tbody tr th:only-of-type {\n",
       "        vertical-align: middle;\n",
       "    }\n",
       "\n",
       "    .dataframe tbody tr th {\n",
       "        vertical-align: top;\n",
       "    }\n",
       "\n",
       "    .dataframe thead th {\n",
       "        text-align: right;\n",
       "    }\n",
       "</style>\n",
       "<table border=\"1\" class=\"dataframe\">\n",
       "  <thead>\n",
       "    <tr style=\"text-align: right;\">\n",
       "      <th></th>\n",
       "      <th>fixed acidity</th>\n",
       "      <th>volatile acidity</th>\n",
       "      <th>citric acid</th>\n",
       "      <th>residual sugar</th>\n",
       "      <th>chlorides</th>\n",
       "      <th>free sulfur dioxide</th>\n",
       "      <th>total sulfur dioxide</th>\n",
       "      <th>density</th>\n",
       "      <th>pH</th>\n",
       "      <th>sulphates</th>\n",
       "      <th>alcohol</th>\n",
       "      <th>quality</th>\n",
       "    </tr>\n",
       "  </thead>\n",
       "  <tbody>\n",
       "    <tr>\n",
       "      <th>0</th>\n",
       "      <td>7.4</td>\n",
       "      <td>0.70</td>\n",
       "      <td>0.00</td>\n",
       "      <td>1.9</td>\n",
       "      <td>0.076</td>\n",
       "      <td>11.0</td>\n",
       "      <td>34.0</td>\n",
       "      <td>0.9978</td>\n",
       "      <td>3.51</td>\n",
       "      <td>0.56</td>\n",
       "      <td>9.4</td>\n",
       "      <td>5</td>\n",
       "    </tr>\n",
       "    <tr>\n",
       "      <th>1</th>\n",
       "      <td>7.8</td>\n",
       "      <td>0.88</td>\n",
       "      <td>0.00</td>\n",
       "      <td>2.6</td>\n",
       "      <td>0.098</td>\n",
       "      <td>25.0</td>\n",
       "      <td>67.0</td>\n",
       "      <td>0.9968</td>\n",
       "      <td>3.20</td>\n",
       "      <td>0.68</td>\n",
       "      <td>9.8</td>\n",
       "      <td>5</td>\n",
       "    </tr>\n",
       "    <tr>\n",
       "      <th>2</th>\n",
       "      <td>7.8</td>\n",
       "      <td>0.76</td>\n",
       "      <td>0.04</td>\n",
       "      <td>2.3</td>\n",
       "      <td>0.092</td>\n",
       "      <td>15.0</td>\n",
       "      <td>54.0</td>\n",
       "      <td>0.9970</td>\n",
       "      <td>3.26</td>\n",
       "      <td>0.65</td>\n",
       "      <td>9.8</td>\n",
       "      <td>5</td>\n",
       "    </tr>\n",
       "    <tr>\n",
       "      <th>3</th>\n",
       "      <td>11.2</td>\n",
       "      <td>0.28</td>\n",
       "      <td>0.56</td>\n",
       "      <td>1.9</td>\n",
       "      <td>0.075</td>\n",
       "      <td>17.0</td>\n",
       "      <td>60.0</td>\n",
       "      <td>0.9980</td>\n",
       "      <td>3.16</td>\n",
       "      <td>0.58</td>\n",
       "      <td>9.8</td>\n",
       "      <td>6</td>\n",
       "    </tr>\n",
       "    <tr>\n",
       "      <th>4</th>\n",
       "      <td>7.4</td>\n",
       "      <td>0.70</td>\n",
       "      <td>0.00</td>\n",
       "      <td>1.9</td>\n",
       "      <td>0.076</td>\n",
       "      <td>11.0</td>\n",
       "      <td>34.0</td>\n",
       "      <td>0.9978</td>\n",
       "      <td>3.51</td>\n",
       "      <td>0.56</td>\n",
       "      <td>9.4</td>\n",
       "      <td>5</td>\n",
       "    </tr>\n",
       "  </tbody>\n",
       "</table>\n",
       "</div>"
      ],
      "text/plain": [
       "   fixed acidity  volatile acidity  citric acid  residual sugar  chlorides  \\\n",
       "0            7.4              0.70         0.00             1.9      0.076   \n",
       "1            7.8              0.88         0.00             2.6      0.098   \n",
       "2            7.8              0.76         0.04             2.3      0.092   \n",
       "3           11.2              0.28         0.56             1.9      0.075   \n",
       "4            7.4              0.70         0.00             1.9      0.076   \n",
       "\n",
       "   free sulfur dioxide  total sulfur dioxide  density    pH  sulphates  \\\n",
       "0                 11.0                  34.0   0.9978  3.51       0.56   \n",
       "1                 25.0                  67.0   0.9968  3.20       0.68   \n",
       "2                 15.0                  54.0   0.9970  3.26       0.65   \n",
       "3                 17.0                  60.0   0.9980  3.16       0.58   \n",
       "4                 11.0                  34.0   0.9978  3.51       0.56   \n",
       "\n",
       "   alcohol  quality  \n",
       "0      9.4        5  \n",
       "1      9.8        5  \n",
       "2      9.8        5  \n",
       "3      9.8        6  \n",
       "4      9.4        5  "
      ]
     },
     "execution_count": 8,
     "metadata": {},
     "output_type": "execute_result"
    }
   ],
   "source": [
    "wine_red = pd.read_csv(\"https://archive.ics.uci.edu/ml/machine-learning-databases/wine-quality/winequality-red.csv\", sep=';')\n",
    "wine_white = pd.read_csv(\"https://archive.ics.uci.edu/ml/machine-learning-databases/wine-quality/winequality-white.csv\", sep=';')\n",
    "wine_red.head()"
   ]
  },
  {
   "cell_type": "code",
   "execution_count": 9,
   "metadata": {
    "ExecuteTime": {
     "end_time": "2020-03-21T00:44:09.980238Z",
     "start_time": "2020-03-21T00:44:09.965246Z"
    }
   },
   "outputs": [],
   "source": [
    "wine_red['wine_type'] = 'red'\n",
    "wine_white['wine_type'] = 'white'\n",
    "\n",
    "# merge data\n",
    "wines = pd.concat([wine_red, wine_white], axis=0)\n",
    "\n",
    "# bin quality to 3 categories\n",
    "wines['quality_label'] = wines['quality'].\\\n",
    "       apply(lambda value: 'low' if value <=5 else 'medium' if value <=7 else 'high')"
   ]
  },
  {
   "cell_type": "code",
   "execution_count": 10,
   "metadata": {
    "ExecuteTime": {
     "end_time": "2020-03-21T00:44:10.804499Z",
     "start_time": "2020-03-21T00:44:10.789508Z"
    }
   },
   "outputs": [],
   "source": [
    "# re-shuffle records\n",
    "wines = wines.sample(frac=1, random_state=42).reset_index(drop=True)\n",
    "wines['quality_label'] = wines['quality_label'].astype('category')"
   ]
  },
  {
   "cell_type": "code",
   "execution_count": 11,
   "metadata": {
    "ExecuteTime": {
     "end_time": "2020-03-21T00:44:12.257555Z",
     "start_time": "2020-03-21T00:44:12.228571Z"
    }
   },
   "outputs": [
    {
     "data": {
      "text/html": [
       "<div>\n",
       "<style scoped>\n",
       "    .dataframe tbody tr th:only-of-type {\n",
       "        vertical-align: middle;\n",
       "    }\n",
       "\n",
       "    .dataframe tbody tr th {\n",
       "        vertical-align: top;\n",
       "    }\n",
       "\n",
       "    .dataframe thead th {\n",
       "        text-align: right;\n",
       "    }\n",
       "</style>\n",
       "<table border=\"1\" class=\"dataframe\">\n",
       "  <thead>\n",
       "    <tr style=\"text-align: right;\">\n",
       "      <th></th>\n",
       "      <th>fixed acidity</th>\n",
       "      <th>volatile acidity</th>\n",
       "      <th>citric acid</th>\n",
       "      <th>residual sugar</th>\n",
       "      <th>chlorides</th>\n",
       "      <th>free sulfur dioxide</th>\n",
       "      <th>total sulfur dioxide</th>\n",
       "      <th>density</th>\n",
       "      <th>pH</th>\n",
       "      <th>sulphates</th>\n",
       "      <th>alcohol</th>\n",
       "      <th>quality</th>\n",
       "      <th>wine_type</th>\n",
       "      <th>quality_label</th>\n",
       "    </tr>\n",
       "  </thead>\n",
       "  <tbody>\n",
       "    <tr>\n",
       "      <th>0</th>\n",
       "      <td>7.0</td>\n",
       "      <td>0.17</td>\n",
       "      <td>0.74</td>\n",
       "      <td>12.8</td>\n",
       "      <td>0.045</td>\n",
       "      <td>24.0</td>\n",
       "      <td>126.0</td>\n",
       "      <td>0.99420</td>\n",
       "      <td>3.26</td>\n",
       "      <td>0.38</td>\n",
       "      <td>12.2</td>\n",
       "      <td>8</td>\n",
       "      <td>white</td>\n",
       "      <td>high</td>\n",
       "    </tr>\n",
       "    <tr>\n",
       "      <th>1</th>\n",
       "      <td>7.7</td>\n",
       "      <td>0.64</td>\n",
       "      <td>0.21</td>\n",
       "      <td>2.2</td>\n",
       "      <td>0.077</td>\n",
       "      <td>32.0</td>\n",
       "      <td>133.0</td>\n",
       "      <td>0.99560</td>\n",
       "      <td>3.27</td>\n",
       "      <td>0.45</td>\n",
       "      <td>9.9</td>\n",
       "      <td>5</td>\n",
       "      <td>red</td>\n",
       "      <td>low</td>\n",
       "    </tr>\n",
       "    <tr>\n",
       "      <th>2</th>\n",
       "      <td>6.8</td>\n",
       "      <td>0.39</td>\n",
       "      <td>0.34</td>\n",
       "      <td>7.4</td>\n",
       "      <td>0.020</td>\n",
       "      <td>38.0</td>\n",
       "      <td>133.0</td>\n",
       "      <td>0.99212</td>\n",
       "      <td>3.18</td>\n",
       "      <td>0.44</td>\n",
       "      <td>12.0</td>\n",
       "      <td>7</td>\n",
       "      <td>white</td>\n",
       "      <td>medium</td>\n",
       "    </tr>\n",
       "    <tr>\n",
       "      <th>3</th>\n",
       "      <td>6.3</td>\n",
       "      <td>0.28</td>\n",
       "      <td>0.47</td>\n",
       "      <td>11.2</td>\n",
       "      <td>0.040</td>\n",
       "      <td>61.0</td>\n",
       "      <td>183.0</td>\n",
       "      <td>0.99592</td>\n",
       "      <td>3.12</td>\n",
       "      <td>0.51</td>\n",
       "      <td>9.5</td>\n",
       "      <td>6</td>\n",
       "      <td>white</td>\n",
       "      <td>medium</td>\n",
       "    </tr>\n",
       "    <tr>\n",
       "      <th>4</th>\n",
       "      <td>7.4</td>\n",
       "      <td>0.35</td>\n",
       "      <td>0.20</td>\n",
       "      <td>13.9</td>\n",
       "      <td>0.054</td>\n",
       "      <td>63.0</td>\n",
       "      <td>229.0</td>\n",
       "      <td>0.99888</td>\n",
       "      <td>3.11</td>\n",
       "      <td>0.50</td>\n",
       "      <td>8.9</td>\n",
       "      <td>6</td>\n",
       "      <td>white</td>\n",
       "      <td>medium</td>\n",
       "    </tr>\n",
       "  </tbody>\n",
       "</table>\n",
       "</div>"
      ],
      "text/plain": [
       "   fixed acidity  volatile acidity  citric acid  residual sugar  chlorides  \\\n",
       "0            7.0              0.17         0.74            12.8      0.045   \n",
       "1            7.7              0.64         0.21             2.2      0.077   \n",
       "2            6.8              0.39         0.34             7.4      0.020   \n",
       "3            6.3              0.28         0.47            11.2      0.040   \n",
       "4            7.4              0.35         0.20            13.9      0.054   \n",
       "\n",
       "   free sulfur dioxide  total sulfur dioxide  density    pH  sulphates  \\\n",
       "0                 24.0                 126.0  0.99420  3.26       0.38   \n",
       "1                 32.0                 133.0  0.99560  3.27       0.45   \n",
       "2                 38.0                 133.0  0.99212  3.18       0.44   \n",
       "3                 61.0                 183.0  0.99592  3.12       0.51   \n",
       "4                 63.0                 229.0  0.99888  3.11       0.50   \n",
       "\n",
       "   alcohol  quality wine_type quality_label  \n",
       "0     12.2        8     white          high  \n",
       "1      9.9        5       red           low  \n",
       "2     12.0        7     white        medium  \n",
       "3      9.5        6     white        medium  \n",
       "4      8.9        6     white        medium  "
      ]
     },
     "execution_count": 11,
     "metadata": {},
     "output_type": "execute_result"
    }
   ],
   "source": [
    "wines.head()"
   ]
  },
  {
   "cell_type": "markdown",
   "metadata": {},
   "source": [
    "## descriptive statistics"
   ]
  },
  {
   "cell_type": "code",
   "execution_count": 12,
   "metadata": {
    "ExecuteTime": {
     "end_time": "2020-03-21T00:44:22.658545Z",
     "start_time": "2020-03-21T00:44:22.487646Z"
    }
   },
   "outputs": [
    {
     "data": {
      "text/html": [
       "<div>\n",
       "<style scoped>\n",
       "    .dataframe tbody tr th:only-of-type {\n",
       "        vertical-align: middle;\n",
       "    }\n",
       "\n",
       "    .dataframe tbody tr th {\n",
       "        vertical-align: top;\n",
       "    }\n",
       "\n",
       "    .dataframe thead tr th {\n",
       "        text-align: left;\n",
       "    }\n",
       "</style>\n",
       "<table border=\"1\" class=\"dataframe\">\n",
       "  <thead>\n",
       "    <tr>\n",
       "      <th></th>\n",
       "      <th colspan=\"3\" halign=\"left\">red wine</th>\n",
       "      <th colspan=\"3\" halign=\"left\">white wine</th>\n",
       "    </tr>\n",
       "    <tr>\n",
       "      <th></th>\n",
       "      <th>residual sugar</th>\n",
       "      <th>total sulfur dioxide</th>\n",
       "      <th>quality</th>\n",
       "      <th>residual sugar</th>\n",
       "      <th>total sulfur dioxide</th>\n",
       "      <th>quality</th>\n",
       "    </tr>\n",
       "  </thead>\n",
       "  <tbody>\n",
       "    <tr>\n",
       "      <th>count</th>\n",
       "      <td>1599.00</td>\n",
       "      <td>1599.00</td>\n",
       "      <td>1599.00</td>\n",
       "      <td>4898.00</td>\n",
       "      <td>4898.00</td>\n",
       "      <td>4898.00</td>\n",
       "    </tr>\n",
       "    <tr>\n",
       "      <th>mean</th>\n",
       "      <td>2.54</td>\n",
       "      <td>46.47</td>\n",
       "      <td>5.64</td>\n",
       "      <td>6.39</td>\n",
       "      <td>138.36</td>\n",
       "      <td>5.88</td>\n",
       "    </tr>\n",
       "    <tr>\n",
       "      <th>std</th>\n",
       "      <td>1.41</td>\n",
       "      <td>32.90</td>\n",
       "      <td>0.81</td>\n",
       "      <td>5.07</td>\n",
       "      <td>42.50</td>\n",
       "      <td>0.89</td>\n",
       "    </tr>\n",
       "    <tr>\n",
       "      <th>min</th>\n",
       "      <td>0.90</td>\n",
       "      <td>6.00</td>\n",
       "      <td>3.00</td>\n",
       "      <td>0.60</td>\n",
       "      <td>9.00</td>\n",
       "      <td>3.00</td>\n",
       "    </tr>\n",
       "    <tr>\n",
       "      <th>25%</th>\n",
       "      <td>1.90</td>\n",
       "      <td>22.00</td>\n",
       "      <td>5.00</td>\n",
       "      <td>1.70</td>\n",
       "      <td>108.00</td>\n",
       "      <td>5.00</td>\n",
       "    </tr>\n",
       "    <tr>\n",
       "      <th>50%</th>\n",
       "      <td>2.20</td>\n",
       "      <td>38.00</td>\n",
       "      <td>6.00</td>\n",
       "      <td>5.20</td>\n",
       "      <td>134.00</td>\n",
       "      <td>6.00</td>\n",
       "    </tr>\n",
       "    <tr>\n",
       "      <th>75%</th>\n",
       "      <td>2.60</td>\n",
       "      <td>62.00</td>\n",
       "      <td>6.00</td>\n",
       "      <td>9.90</td>\n",
       "      <td>167.00</td>\n",
       "      <td>6.00</td>\n",
       "    </tr>\n",
       "    <tr>\n",
       "      <th>max</th>\n",
       "      <td>15.50</td>\n",
       "      <td>289.00</td>\n",
       "      <td>8.00</td>\n",
       "      <td>65.80</td>\n",
       "      <td>440.00</td>\n",
       "      <td>9.00</td>\n",
       "    </tr>\n",
       "  </tbody>\n",
       "</table>\n",
       "</div>"
      ],
      "text/plain": [
       "            red wine                                   white wine  \\\n",
       "      residual sugar total sulfur dioxide  quality residual sugar   \n",
       "count        1599.00              1599.00  1599.00        4898.00   \n",
       "mean            2.54                46.47     5.64           6.39   \n",
       "std             1.41                32.90     0.81           5.07   \n",
       "min             0.90                 6.00     3.00           0.60   \n",
       "25%             1.90                22.00     5.00           1.70   \n",
       "50%             2.20                38.00     6.00           5.20   \n",
       "75%             2.60                62.00     6.00           9.90   \n",
       "max            15.50               289.00     8.00          65.80   \n",
       "\n",
       "                                     \n",
       "      total sulfur dioxide  quality  \n",
       "count              4898.00  4898.00  \n",
       "mean                138.36     5.88  \n",
       "std                  42.50     0.89  \n",
       "min                   9.00     3.00  \n",
       "25%                 108.00     5.00  \n",
       "50%                 134.00     6.00  \n",
       "75%                 167.00     6.00  \n",
       "max                 440.00     9.00  "
      ]
     },
     "execution_count": 12,
     "metadata": {},
     "output_type": "execute_result"
    }
   ],
   "source": [
    "rs = round(wine_red.describe(), 2)\n",
    "ws = round(wine_white.describe(), 2)\n",
    "cats = ['residual sugar', 'total sulfur dioxide', 'quality']\n",
    "pd.concat([rs[cats], ws[cats]], axis=1, keys=['red wine', 'white wine'])"
   ]
  },
  {
   "cell_type": "code",
   "execution_count": 13,
   "metadata": {
    "ExecuteTime": {
     "end_time": "2020-03-21T00:45:34.306374Z",
     "start_time": "2020-03-21T00:45:34.162457Z"
    }
   },
   "outputs": [
    {
     "data": {
      "text/html": [
       "<div>\n",
       "<style scoped>\n",
       "    .dataframe tbody tr th:only-of-type {\n",
       "        vertical-align: middle;\n",
       "    }\n",
       "\n",
       "    .dataframe tbody tr th {\n",
       "        vertical-align: top;\n",
       "    }\n",
       "\n",
       "    .dataframe thead tr th {\n",
       "        text-align: left;\n",
       "    }\n",
       "</style>\n",
       "<table border=\"1\" class=\"dataframe\">\n",
       "  <thead>\n",
       "    <tr>\n",
       "      <th></th>\n",
       "      <th colspan=\"4\" halign=\"left\">low quality</th>\n",
       "      <th colspan=\"4\" halign=\"left\">medium quality</th>\n",
       "      <th colspan=\"4\" halign=\"left\">high quality</th>\n",
       "    </tr>\n",
       "    <tr>\n",
       "      <th></th>\n",
       "      <th>alcohol</th>\n",
       "      <th>volatile acidity</th>\n",
       "      <th>pH</th>\n",
       "      <th>quality</th>\n",
       "      <th>alcohol</th>\n",
       "      <th>volatile acidity</th>\n",
       "      <th>pH</th>\n",
       "      <th>quality</th>\n",
       "      <th>alcohol</th>\n",
       "      <th>volatile acidity</th>\n",
       "      <th>pH</th>\n",
       "      <th>quality</th>\n",
       "    </tr>\n",
       "  </thead>\n",
       "  <tbody>\n",
       "    <tr>\n",
       "      <th>count</th>\n",
       "      <td>2384.00</td>\n",
       "      <td>2384.00</td>\n",
       "      <td>2384.00</td>\n",
       "      <td>2384.00</td>\n",
       "      <td>3915.00</td>\n",
       "      <td>3915.00</td>\n",
       "      <td>3915.00</td>\n",
       "      <td>3915.00</td>\n",
       "      <td>198.00</td>\n",
       "      <td>198.00</td>\n",
       "      <td>198.00</td>\n",
       "      <td>198.00</td>\n",
       "    </tr>\n",
       "    <tr>\n",
       "      <th>mean</th>\n",
       "      <td>9.87</td>\n",
       "      <td>0.40</td>\n",
       "      <td>3.21</td>\n",
       "      <td>4.88</td>\n",
       "      <td>10.81</td>\n",
       "      <td>0.31</td>\n",
       "      <td>3.22</td>\n",
       "      <td>6.28</td>\n",
       "      <td>11.69</td>\n",
       "      <td>0.29</td>\n",
       "      <td>3.23</td>\n",
       "      <td>8.03</td>\n",
       "    </tr>\n",
       "    <tr>\n",
       "      <th>std</th>\n",
       "      <td>0.84</td>\n",
       "      <td>0.19</td>\n",
       "      <td>0.16</td>\n",
       "      <td>0.36</td>\n",
       "      <td>1.20</td>\n",
       "      <td>0.14</td>\n",
       "      <td>0.16</td>\n",
       "      <td>0.45</td>\n",
       "      <td>1.27</td>\n",
       "      <td>0.12</td>\n",
       "      <td>0.16</td>\n",
       "      <td>0.16</td>\n",
       "    </tr>\n",
       "    <tr>\n",
       "      <th>min</th>\n",
       "      <td>8.00</td>\n",
       "      <td>0.10</td>\n",
       "      <td>2.74</td>\n",
       "      <td>3.00</td>\n",
       "      <td>8.40</td>\n",
       "      <td>0.08</td>\n",
       "      <td>2.72</td>\n",
       "      <td>6.00</td>\n",
       "      <td>8.50</td>\n",
       "      <td>0.12</td>\n",
       "      <td>2.88</td>\n",
       "      <td>8.00</td>\n",
       "    </tr>\n",
       "    <tr>\n",
       "      <th>25%</th>\n",
       "      <td>9.30</td>\n",
       "      <td>0.26</td>\n",
       "      <td>3.11</td>\n",
       "      <td>5.00</td>\n",
       "      <td>9.80</td>\n",
       "      <td>0.21</td>\n",
       "      <td>3.11</td>\n",
       "      <td>6.00</td>\n",
       "      <td>11.00</td>\n",
       "      <td>0.21</td>\n",
       "      <td>3.13</td>\n",
       "      <td>8.00</td>\n",
       "    </tr>\n",
       "    <tr>\n",
       "      <th>50%</th>\n",
       "      <td>9.60</td>\n",
       "      <td>0.34</td>\n",
       "      <td>3.20</td>\n",
       "      <td>5.00</td>\n",
       "      <td>10.80</td>\n",
       "      <td>0.27</td>\n",
       "      <td>3.21</td>\n",
       "      <td>6.00</td>\n",
       "      <td>12.00</td>\n",
       "      <td>0.28</td>\n",
       "      <td>3.23</td>\n",
       "      <td>8.00</td>\n",
       "    </tr>\n",
       "    <tr>\n",
       "      <th>75%</th>\n",
       "      <td>10.40</td>\n",
       "      <td>0.50</td>\n",
       "      <td>3.31</td>\n",
       "      <td>5.00</td>\n",
       "      <td>11.70</td>\n",
       "      <td>0.36</td>\n",
       "      <td>3.33</td>\n",
       "      <td>7.00</td>\n",
       "      <td>12.60</td>\n",
       "      <td>0.35</td>\n",
       "      <td>3.33</td>\n",
       "      <td>8.00</td>\n",
       "    </tr>\n",
       "    <tr>\n",
       "      <th>max</th>\n",
       "      <td>14.90</td>\n",
       "      <td>1.58</td>\n",
       "      <td>3.90</td>\n",
       "      <td>5.00</td>\n",
       "      <td>14.20</td>\n",
       "      <td>1.04</td>\n",
       "      <td>4.01</td>\n",
       "      <td>7.00</td>\n",
       "      <td>14.00</td>\n",
       "      <td>0.85</td>\n",
       "      <td>3.72</td>\n",
       "      <td>9.00</td>\n",
       "    </tr>\n",
       "  </tbody>\n",
       "</table>\n",
       "</div>"
      ],
      "text/plain": [
       "      low quality                                    medium quality  \\\n",
       "          alcohol volatile acidity       pH  quality        alcohol   \n",
       "count     2384.00          2384.00  2384.00  2384.00        3915.00   \n",
       "mean         9.87             0.40     3.21     4.88          10.81   \n",
       "std          0.84             0.19     0.16     0.36           1.20   \n",
       "min          8.00             0.10     2.74     3.00           8.40   \n",
       "25%          9.30             0.26     3.11     5.00           9.80   \n",
       "50%          9.60             0.34     3.20     5.00          10.80   \n",
       "75%         10.40             0.50     3.31     5.00          11.70   \n",
       "max         14.90             1.58     3.90     5.00          14.20   \n",
       "\n",
       "                                         high quality                   \\\n",
       "      volatile acidity       pH  quality      alcohol volatile acidity   \n",
       "count          3915.00  3915.00  3915.00       198.00           198.00   \n",
       "mean              0.31     3.22     6.28        11.69             0.29   \n",
       "std               0.14     0.16     0.45         1.27             0.12   \n",
       "min               0.08     2.72     6.00         8.50             0.12   \n",
       "25%               0.21     3.11     6.00        11.00             0.21   \n",
       "50%               0.27     3.21     6.00        12.00             0.28   \n",
       "75%               0.36     3.33     7.00        12.60             0.35   \n",
       "max               1.04     4.01     7.00        14.00             0.85   \n",
       "\n",
       "                       \n",
       "           pH quality  \n",
       "count  198.00  198.00  \n",
       "mean     3.23    8.03  \n",
       "std      0.16    0.16  \n",
       "min      2.88    8.00  \n",
       "25%      3.13    8.00  \n",
       "50%      3.23    8.00  \n",
       "75%      3.33    8.00  \n",
       "max      3.72    9.00  "
      ]
     },
     "execution_count": 13,
     "metadata": {},
     "output_type": "execute_result"
    }
   ],
   "source": [
    "cat =['alcohol', 'volatile acidity', 'pH', 'quality']\n",
    "lm = round(wines[wines['quality_label']=='low'][cat].describe(), 2)\n",
    "ms = round(wines[wines['quality_label']=='medium'][cat].describe(), 2)\n",
    "hi = round(wines[wines['quality_label']=='high'][cat].describe(), 2)\n",
    "pd.concat([lm, ms, hi], axis=1, keys=['low quality', 'medium quality', 'high quality'])"
   ]
  },
  {
   "cell_type": "markdown",
   "metadata": {},
   "source": [
    "## inferential statistics\n",
    "\n",
    "ANOVA - analysis of variance.\n",
    "\n",
    "The one-way ANOVA tests the null hypothesis that two or more groups have the same population mean. The test is applied to samples from two or more groups, possibly with differing sizes.\n",
    "\n",
    "The ANOVA test has important assumptions that must be satisfied in order for the associated p-value to be valid.\n",
    "* The samples are independent.\n",
    "* Each sample is from a normally distributed population.\n",
    "* The population standard deviations of the groups are all equal. This property is known as homoscedasticity."
   ]
  },
  {
   "cell_type": "code",
   "execution_count": 15,
   "metadata": {
    "ExecuteTime": {
     "end_time": "2020-03-21T01:23:13.719330Z",
     "start_time": "2020-03-21T01:23:13.685349Z"
    }
   },
   "outputs": [
    {
     "name": "stdout",
     "output_type": "stream",
     "text": [
      "alcohol:  673.0745347231032 2.2715337450621843e-266\n",
      "pH:  1.2363860803545201 0.2905002779768688\n"
     ]
    }
   ],
   "source": [
    "from scipy import stats\n",
    "F, p = stats.f_oneway(wines[wines['quality_label']=='low']['alcohol'],\n",
    "                   wines[wines['quality_label']=='medium']['alcohol'],\n",
    "                   wines[wines['quality_label']=='high']['alcohol'])\n",
    "print('alcohol: ', F, p)\n",
    "\n",
    "F, p = stats.f_oneway(wines[wines['quality_label']=='low']['pH'],\n",
    "                   wines[wines['quality_label']=='medium']['pH'],\n",
    "                   wines[wines['quality_label']=='high']['pH'])\n",
    "print('pH: ', F, p)"
   ]
  },
  {
   "cell_type": "code",
   "execution_count": 16,
   "metadata": {
    "ExecuteTime": {
     "end_time": "2020-03-21T01:26:37.682129Z",
     "start_time": "2020-03-21T01:26:37.148450Z"
    }
   },
   "outputs": [
    {
     "data": {
      "text/plain": [
       "<matplotlib.axes._subplots.AxesSubplot at 0x26d98f80648>"
      ]
     },
     "execution_count": 16,
     "metadata": {},
     "output_type": "execute_result"
    },
    {
     "data": {
      "image/png": "[encoded data removed]",
      "text/plain": [
       "<Figure size 864x288 with 2 Axes>"
      ]
     },
     "metadata": {
      "needs_background": "light"
     },
     "output_type": "display_data"
    }
   ],
   "source": [
    "order = ['low', 'medium', 'high']\n",
    "fig, ax = plt.subplots(1, 2, figsize=(12, 4))\n",
    "sns.boxplot(x='quality_label', y='alcohol', data=wines, ax=ax[0], order=order)\n",
    "sns.boxplot(x='quality_label', y='pH', data=wines, ax=ax[1], order=order)"
   ]
  },
  {
   "cell_type": "markdown",
   "metadata": {},
   "source": [
    "## univariate analysis"
   ]
  },
  {
   "cell_type": "code",
   "execution_count": 17,
   "metadata": {
    "ExecuteTime": {
     "end_time": "2020-03-21T01:27:04.286846Z",
     "start_time": "2020-03-21T01:27:01.677342Z"
    }
   },
   "outputs": [
    {
     "data": {
      "image/png": "[encoded data removed]",
      "text/plain": [
       "<Figure size 432x288 with 12 Axes>"
      ]
     },
     "metadata": {
      "needs_background": "light"
     },
     "output_type": "display_data"
    }
   ],
   "source": [
    "wine_red.hist(bins=15, color='red')\n",
    "plt.tight_layout(rect=(0, 0, 1.2, 1.2))"
   ]
  },
  {
   "cell_type": "code",
   "execution_count": 18,
   "metadata": {
    "ExecuteTime": {
     "end_time": "2020-03-21T01:27:29.769397Z",
     "start_time": "2020-03-21T01:27:27.206677Z"
    }
   },
   "outputs": [
    {
     "data": {
      "image/png": "[encoded data removed]",
      "text/plain": [
       "<Figure size 432x288 with 12 Axes>"
      ]
     },
     "metadata": {
      "needs_background": "light"
     },
     "output_type": "display_data"
    }
   ],
   "source": [
    "wine_white.hist(bins=15, color='blue')\n",
    "plt.tight_layout(rect=(0, 0, 1.2, 1.2))"
   ]
  },
  {
   "cell_type": "markdown",
   "metadata": {},
   "source": [
    "### multivariate analysis"
   ]
  },
  {
   "cell_type": "code",
   "execution_count": 19,
   "metadata": {
    "ExecuteTime": {
     "end_time": "2020-03-21T01:31:11.157817Z",
     "start_time": "2020-03-21T01:31:10.041613Z"
    }
   },
   "outputs": [
    {
     "data": {
      "image/png": "[encoded data removed]",
      "text/plain": [
       "<Figure size 720x360 with 2 Axes>"
      ]
     },
     "metadata": {
      "needs_background": "light"
     },
     "output_type": "display_data"
    }
   ],
   "source": [
    "fig, ax = plt.subplots(figsize=(10, 5))\n",
    "corr = wines.corr()\n",
    "hm = sns.heatmap(round(corr, 2), annot=True, ax=ax, cmap='coolwarm', fmt='.2f')\n",
    "fig.subplots_adjust(top=0.93)\n",
    "t = fig.suptitle('wine attributes correlation heatmap', fontsize=12)"
   ]
  },
  {
   "cell_type": "code",
   "execution_count": 20,
   "metadata": {
    "ExecuteTime": {
     "end_time": "2020-03-21T01:31:13.161775Z",
     "start_time": "2020-03-21T01:31:12.640911Z"
    },
    "scrolled": true
   },
   "outputs": [
    {
     "data": {
      "text/plain": [
       "<matplotlib.axes._subplots.AxesSubplot at 0x26d99e59748>"
      ]
     },
     "execution_count": 20,
     "metadata": {},
     "output_type": "execute_result"
    },
    {
     "data": {
      "image/png": "[encoded data removed]",
      "text/plain": [
       "<Figure size 432x288 with 1 Axes>"
      ]
     },
     "metadata": {
      "needs_background": "light"
     },
     "output_type": "display_data"
    }
   ],
   "source": [
    "sns.boxplot(x='quality_label', y='alcohol', data=wines, hue='wine_type',\n",
    "           palette={'red':'#FF9999', 'white':'white'},\n",
    "           order=['low', 'medium', 'high'])"
   ]
  },
  {
   "cell_type": "markdown",
   "metadata": {},
   "source": [
    "## predictive modeling"
   ]
  },
  {
   "cell_type": "code",
   "execution_count": 22,
   "metadata": {
    "ExecuteTime": {
     "end_time": "2020-03-21T01:34:32.715458Z",
     "start_time": "2020-03-21T01:34:32.710462Z"
    }
   },
   "outputs": [],
   "source": [
    "from sklearn.model_selection import train_test_split\n",
    "from sklearn.preprocessing import StandardScaler, LabelEncoder\n",
    "\n",
    "from sklearn.linear_model import LogisticRegression"
   ]
  },
  {
   "cell_type": "code",
   "execution_count": 29,
   "metadata": {
    "ExecuteTime": {
     "end_time": "2020-03-21T01:47:29.757035Z",
     "start_time": "2020-03-21T01:47:29.743031Z"
    }
   },
   "outputs": [],
   "source": [
    "for col in wines.columns:\n",
    "    if wines[col].isnull().sum()> 0 :\n",
    "        print(f\"{col}: {wines[col].isnull().sum()}\")"
   ]
  },
  {
   "cell_type": "code",
   "execution_count": 30,
   "metadata": {
    "ExecuteTime": {
     "end_time": "2020-03-21T01:47:38.031911Z",
     "start_time": "2020-03-21T01:47:38.018920Z"
    }
   },
   "outputs": [],
   "source": [
    "wtp_features = wines.iloc[:, :-3]\n",
    "wtp_feature_names = wtp_features.columns\n",
    "wtp_class_labels = np.array(wines['wine_type'])\n",
    "\n",
    "wtp_train_X, wtp_test_X, wtp_train_y, wtp_test_y = train_test_split(wtp_features,\n",
    "                                wtp_class_labels, test_size=0.3, random_state=42)"
   ]
  },
  {
   "cell_type": "code",
   "execution_count": 31,
   "metadata": {
    "ExecuteTime": {
     "end_time": "2020-03-21T01:47:41.984012Z",
     "start_time": "2020-03-21T01:47:41.970023Z"
    }
   },
   "outputs": [],
   "source": [
    "# define the scaler\n",
    "wtp_scaler = StandardScaler().fit(wtp_train_X)\n",
    "wtp_train_SX = wtp_scaler.transform(wtp_train_X)\n",
    "wtp_test_SX = wtp_scaler.transform(wtp_test_X)"
   ]
  },
  {
   "cell_type": "code",
   "execution_count": 32,
   "metadata": {
    "ExecuteTime": {
     "end_time": "2020-03-21T01:47:43.264765Z",
     "start_time": "2020-03-21T01:47:43.211796Z"
    }
   },
   "outputs": [
    {
     "data": {
      "text/plain": [
       "LogisticRegression(C=1.0, class_weight=None, dual=False, fit_intercept=True,\n",
       "                   intercept_scaling=1, l1_ratio=None, max_iter=100,\n",
       "                   multi_class='auto', n_jobs=None, penalty='l2',\n",
       "                   random_state=None, solver='lbfgs', tol=0.0001, verbose=0,\n",
       "                   warm_start=False)"
      ]
     },
     "execution_count": 32,
     "metadata": {},
     "output_type": "execute_result"
    }
   ],
   "source": [
    "wtp_lr = LogisticRegression()\n",
    "wtp_lr.fit(wtp_train_SX, wtp_train_y)"
   ]
  },
  {
   "cell_type": "code",
   "execution_count": 33,
   "metadata": {
    "ExecuteTime": {
     "end_time": "2020-03-21T01:47:44.353480Z",
     "start_time": "2020-03-21T01:47:44.241544Z"
    }
   },
   "outputs": [
    {
     "name": "stdout",
     "output_type": "stream",
     "text": [
      "[[ 463    7]\n",
      " [   7 1473]]\n",
      "              precision    recall  f1-score   support\n",
      "\n",
      "         red       0.99      0.99      0.99       470\n",
      "       white       1.00      1.00      1.00      1480\n",
      "\n",
      "    accuracy                           0.99      1950\n",
      "   macro avg       0.99      0.99      0.99      1950\n",
      "weighted avg       0.99      0.99      0.99      1950\n",
      "\n"
     ]
    }
   ],
   "source": [
    "from sklearn.metrics import classification_report\n",
    "from sklearn.metrics import confusion_matrix\n",
    "\n",
    "wtp_lr_pred = wtp_lr.predict(wtp_test_SX)\n",
    "\n",
    "matrix = confusion_matrix(wtp_test_y, wtp_lr_pred)\n",
    "print(matrix)\n",
    "\n",
    "report =  classification_report(wtp_test_y, wtp_lr_pred)\n",
    "print(report)"
   ]
  },
  {
   "cell_type": "markdown",
   "metadata": {},
   "source": [
    "## deep learning"
   ]
  },
  {
   "cell_type": "code",
   "execution_count": 34,
   "metadata": {
    "ExecuteTime": {
     "end_time": "2020-03-21T01:47:46.050812Z",
     "start_time": "2020-03-21T01:47:46.045818Z"
    }
   },
   "outputs": [],
   "source": [
    "le = LabelEncoder()\n",
    "le.fit(wtp_train_y)\n",
    "wtp_train_ey = le.transform(wtp_train_y)\n",
    "wtp_test_ey = le.transform(wtp_test_y)"
   ]
  },
  {
   "cell_type": "code",
   "execution_count": 35,
   "metadata": {
    "ExecuteTime": {
     "end_time": "2020-03-21T01:47:47.085161Z",
     "start_time": "2020-03-21T01:47:47.081162Z"
    }
   },
   "outputs": [
    {
     "name": "stdout",
     "output_type": "stream",
     "text": [
      "[1 0 1 0 0]\n",
      "['white' 'red' 'white' 'red' 'red']\n"
     ]
    }
   ],
   "source": [
    "print(wtp_train_ey[:5])\n",
    "print(wtp_train_y[:5])"
   ]
  },
  {
   "cell_type": "code",
   "execution_count": 36,
   "metadata": {
    "ExecuteTime": {
     "end_time": "2020-03-21T01:47:53.856224Z",
     "start_time": "2020-03-21T01:47:48.082451Z"
    }
   },
   "outputs": [
    {
     "name": "stderr",
     "output_type": "stream",
     "text": [
      "Using TensorFlow backend.\n"
     ]
    }
   ],
   "source": [
    "from keras.models import Sequential\n",
    "from keras.layers import Dense\n",
    "\n",
    "wtp_dnn_model = Sequential()\n",
    "wtp_dnn_model.add(Dense(16, activation='relu', input_shape=(11, )))\n",
    "wtp_dnn_model.add(Dense(16, activation='relu'))\n",
    "wtp_dnn_model.add(Dense(16, activation='relu'))\n",
    "wtp_dnn_model.add(Dense(1, activation='sigmoid'))\n",
    "\n",
    "wtp_dnn_model.compile(loss='binary_crossentropy', \n",
    "                      optimizer='adam', metrics=['accuracy'])"
   ]
  },
  {
   "cell_type": "code",
   "execution_count": 37,
   "metadata": {
    "ExecuteTime": {
     "end_time": "2020-03-21T01:48:21.366589Z",
     "start_time": "2020-03-21T01:48:13.706783Z"
    }
   },
   "outputs": [
    {
     "name": "stdout",
     "output_type": "stream",
     "text": [
      "Train on 4092 samples, validate on 455 samples\n",
      "Epoch 1/5\n",
      "4092/4092 [==============================] - 2s 385us/step - loss: 0.0947 - accuracy: 0.9773 - val_loss: 0.0084 - val_accuracy: 1.0000\n",
      "Epoch 2/5\n",
      "4092/4092 [==============================] - 1s 330us/step - loss: 0.0329 - accuracy: 0.9932 - val_loss: 0.0085 - val_accuracy: 1.0000\n",
      "Epoch 3/5\n",
      "4092/4092 [==============================] - 1s 328us/step - loss: 0.0262 - accuracy: 0.9941 - val_loss: 0.0055 - val_accuracy: 1.0000\n",
      "Epoch 4/5\n",
      "4092/4092 [==============================] - 1s 316us/step - loss: 0.0218 - accuracy: 0.9954 - val_loss: 0.0034 - val_accuracy: 1.0000\n",
      "Epoch 5/5\n",
      "4092/4092 [==============================] - 1s 325us/step - loss: 0.0188 - accuracy: 0.9956 - val_loss: 0.0054 - val_accuracy: 1.0000\n"
     ]
    }
   ],
   "source": [
    "history = wtp_dnn_model.fit(wtp_train_SX, wtp_train_ey,\n",
    "                           epochs=5, batch_size=5, \n",
    "                           shuffle=True, validation_split=0.1, verbose=1)"
   ]
  },
  {
   "cell_type": "code",
   "execution_count": 38,
   "metadata": {
    "ExecuteTime": {
     "end_time": "2020-03-21T01:49:03.465000Z",
     "start_time": "2020-03-21T01:49:03.354996Z"
    }
   },
   "outputs": [
    {
     "name": "stdout",
     "output_type": "stream",
     "text": [
      "[[ 460   10]\n",
      " [   6 1474]]\n",
      "              precision    recall  f1-score   support\n",
      "\n",
      "           0       0.99      0.98      0.98       470\n",
      "           1       0.99      1.00      0.99      1480\n",
      "\n",
      "    accuracy                           0.99      1950\n",
      "   macro avg       0.99      0.99      0.99      1950\n",
      "weighted avg       0.99      0.99      0.99      1950\n",
      "\n"
     ]
    },
    {
     "name": "stderr",
     "output_type": "stream",
     "text": [
      "C:\\Users\\TTSS\\Miniconda3\\envs\\datascience\\lib\\site-packages\\sklearn\\preprocessing\\_label.py:289: DataConversionWarning: A column-vector y was passed when a 1d array was expected. Please change the shape of y to (n_samples, ), for example using ravel().\n",
      "  y = column_or_1d(y, warn=True)\n"
     ]
    }
   ],
   "source": [
    "wtp_dnn_pred = np.where(wtp_dnn_model.predict(wtp_test_SX)>0.5, 1, 0)\n",
    "wtp_dnn_predictions = le.inverse_transform(wtp_dnn_pred)\n",
    "\n",
    "matrix_dnn = confusion_matrix(wtp_test_ey, wtp_dnn_pred)\n",
    "print(matrix_dnn)\n",
    "\n",
    "report_dnn =  classification_report(wtp_test_ey, wtp_dnn_pred)\n",
    "print(report_dnn)"
   ]
  },
  {
   "cell_type": "code",
   "execution_count": 40,
   "metadata": {
    "ExecuteTime": {
     "end_time": "2020-03-21T01:53:45.433274Z",
     "start_time": "2020-03-21T01:53:44.922568Z"
    }
   },
   "outputs": [
    {
     "name": "stdout",
     "output_type": "stream",
     "text": [
      "[11/11] features ████████████████████ Time elapsed: 0 seconds"
     ]
    },
    {
     "data": {
      "image/png": "[encoded data removed]",
      "text/plain": [
       "<Figure size 432x288 with 1 Axes>"
      ]
     },
     "metadata": {
      "needs_background": "light"
     },
     "output_type": "display_data"
    }
   ],
   "source": [
    "from skater.core.explanations import Interpretation\n",
    "from skater.model import InMemoryModel\n",
    "\n",
    "wtp_interpreter = Interpretation(wtp_test_SX, \n",
    "                                 feature_names=wtp_features.columns)\n",
    "wtp_im_model = InMemoryModel(wtp_lr.predict_proba, examples=wtp_train_SX,\n",
    "                            target_names=wtp_lr.classes_)\n",
    "plots = wtp_interpreter.feature_importance.\\\n",
    "plot_feature_importance(wtp_im_model, ascending=False)"
   ]
  },
  {
   "cell_type": "markdown",
   "metadata": {},
   "source": [
    "## predicting wine quality"
   ]
  },
  {
   "cell_type": "code",
   "execution_count": 41,
   "metadata": {
    "ExecuteTime": {
     "end_time": "2020-03-21T01:57:20.113926Z",
     "start_time": "2020-03-21T01:57:20.098933Z"
    }
   },
   "outputs": [
    {
     "name": "stdout",
     "output_type": "stream",
     "text": [
      "Counter({'medium': 2737, 'low': 1666, 'high': 144}) Counter({'medium': 1178, 'low': 718, 'high': 54})\n",
      "FEatures: ['fixed acidity', 'volatile acidity', 'citric acid', 'residual sugar', 'chlorides', 'free sulfur dioxide', 'total sulfur dioxide', 'density', 'pH', 'sulphates', 'alcohol']\n"
     ]
    }
   ],
   "source": [
    "wqp_features = wines.iloc[:, :-3]\n",
    "wqp_class_labels = np.array(wines['quality_label'])\n",
    "wqp_label_names = ['low', 'medium', 'high']\n",
    "wqp_feature_names = list(wqp_features.columns)\n",
    "wqp_train_X, wqp_test_X, wqp_train_y, wqp_test_y = train_test_split(\n",
    "                               wqp_features, wqp_class_labels, \n",
    "                               test_size=0.3, random_state=42)\n",
    "\n",
    "from collections import Counter\n",
    "print(Counter(wqp_train_y), Counter(wqp_test_y))\n",
    "print('FEatures:', wqp_feature_names)"
   ]
  },
  {
   "cell_type": "code",
   "execution_count": 42,
   "metadata": {
    "ExecuteTime": {
     "end_time": "2020-03-21T01:57:22.447868Z",
     "start_time": "2020-03-21T01:57:22.435861Z"
    }
   },
   "outputs": [],
   "source": [
    "wqp_ss = StandardScaler().fit(wqp_train_X)\n",
    "wqp_train_SX = wqp_ss.transform(wqp_train_X)\n",
    "wqp_test_SX = wqp_ss.transform(wqp_test_X)"
   ]
  },
  {
   "cell_type": "code",
   "execution_count": 43,
   "metadata": {
    "ExecuteTime": {
     "end_time": "2020-03-21T01:57:23.566157Z",
     "start_time": "2020-03-21T01:57:23.379199Z"
    }
   },
   "outputs": [],
   "source": [
    "from sklearn.tree import DecisionTreeClassifier\n",
    "\n",
    "# train the model\n",
    "wqp_dt = DecisionTreeClassifier()\n",
    "wqp_dt.fit(wqp_train_SX, wqp_train_y)\n",
    "\n",
    "# predict and evaluate performance\n",
    "wqp_dt_predictions = wqp_dt.predict(wqp_test_SX)\n"
   ]
  },
  {
   "cell_type": "code",
   "execution_count": 44,
   "metadata": {
    "ExecuteTime": {
     "end_time": "2020-03-21T01:57:24.517916Z",
     "start_time": "2020-03-21T01:57:24.444943Z"
    }
   },
   "outputs": [
    {
     "name": "stdout",
     "output_type": "stream",
     "text": [
      "[[ 17   4  33]\n",
      " [  6 477 235]\n",
      " [ 41 216 921]]\n",
      "              precision    recall  f1-score   support\n",
      "\n",
      "        high       0.27      0.31      0.29        54\n",
      "         low       0.68      0.66      0.67       718\n",
      "      medium       0.77      0.78      0.78      1178\n",
      "\n",
      "    accuracy                           0.73      1950\n",
      "   macro avg       0.57      0.59      0.58      1950\n",
      "weighted avg       0.73      0.73      0.73      1950\n",
      "\n"
     ]
    }
   ],
   "source": [
    "wqp_dt_pred = wqp_dt.predict(wqp_test_SX)\n",
    "\n",
    "matrix = confusion_matrix(wqp_test_y, wqp_dt_pred)\n",
    "print(matrix)\n",
    "\n",
    "report = classification_report(wqp_test_y, wqp_dt_pred)\n",
    "print(report)"
   ]
  },
  {
   "cell_type": "code",
   "execution_count": 45,
   "metadata": {
    "ExecuteTime": {
     "end_time": "2020-03-21T01:57:26.218109Z",
     "start_time": "2020-03-21T01:57:26.198122Z"
    }
   },
   "outputs": [
    {
     "name": "stdout",
     "output_type": "stream",
     "text": [
      "[0.05727759 0.11662671 0.07771066 0.07303269 0.07022947 0.07021194\n",
      " 0.10034789 0.08776721 0.07050936 0.07746254 0.19882393]\n",
      "['fixed acidity', 'volatile acidity', 'citric acid', 'residual sugar', 'chlorides', 'free sulfur dioxide', 'total sulfur dioxide', 'density', 'pH', 'sulphates', 'alcohol']\n"
     ]
    },
    {
     "data": {
      "text/html": [
       "<div>\n",
       "<style scoped>\n",
       "    .dataframe tbody tr th:only-of-type {\n",
       "        vertical-align: middle;\n",
       "    }\n",
       "\n",
       "    .dataframe tbody tr th {\n",
       "        vertical-align: top;\n",
       "    }\n",
       "\n",
       "    .dataframe thead th {\n",
       "        text-align: right;\n",
       "    }\n",
       "</style>\n",
       "<table border=\"1\" class=\"dataframe\">\n",
       "  <thead>\n",
       "    <tr style=\"text-align: right;\">\n",
       "      <th></th>\n",
       "      <th>features</th>\n",
       "      <th>score</th>\n",
       "    </tr>\n",
       "  </thead>\n",
       "  <tbody>\n",
       "    <tr>\n",
       "      <th>0</th>\n",
       "      <td>fixed acidity</td>\n",
       "      <td>0.057278</td>\n",
       "    </tr>\n",
       "    <tr>\n",
       "      <th>1</th>\n",
       "      <td>volatile acidity</td>\n",
       "      <td>0.116627</td>\n",
       "    </tr>\n",
       "    <tr>\n",
       "      <th>2</th>\n",
       "      <td>citric acid</td>\n",
       "      <td>0.077711</td>\n",
       "    </tr>\n",
       "    <tr>\n",
       "      <th>3</th>\n",
       "      <td>residual sugar</td>\n",
       "      <td>0.073033</td>\n",
       "    </tr>\n",
       "    <tr>\n",
       "      <th>4</th>\n",
       "      <td>chlorides</td>\n",
       "      <td>0.070229</td>\n",
       "    </tr>\n",
       "    <tr>\n",
       "      <th>5</th>\n",
       "      <td>free sulfur dioxide</td>\n",
       "      <td>0.070212</td>\n",
       "    </tr>\n",
       "    <tr>\n",
       "      <th>6</th>\n",
       "      <td>total sulfur dioxide</td>\n",
       "      <td>0.100348</td>\n",
       "    </tr>\n",
       "    <tr>\n",
       "      <th>7</th>\n",
       "      <td>density</td>\n",
       "      <td>0.087767</td>\n",
       "    </tr>\n",
       "    <tr>\n",
       "      <th>8</th>\n",
       "      <td>pH</td>\n",
       "      <td>0.070509</td>\n",
       "    </tr>\n",
       "    <tr>\n",
       "      <th>9</th>\n",
       "      <td>sulphates</td>\n",
       "      <td>0.077463</td>\n",
       "    </tr>\n",
       "    <tr>\n",
       "      <th>10</th>\n",
       "      <td>alcohol</td>\n",
       "      <td>0.198824</td>\n",
       "    </tr>\n",
       "  </tbody>\n",
       "</table>\n",
       "</div>"
      ],
      "text/plain": [
       "                features     score\n",
       "0          fixed acidity  0.057278\n",
       "1       volatile acidity  0.116627\n",
       "2            citric acid  0.077711\n",
       "3         residual sugar  0.073033\n",
       "4              chlorides  0.070229\n",
       "5    free sulfur dioxide  0.070212\n",
       "6   total sulfur dioxide  0.100348\n",
       "7                density  0.087767\n",
       "8                     pH  0.070509\n",
       "9              sulphates  0.077463\n",
       "10               alcohol  0.198824"
      ]
     },
     "execution_count": 45,
     "metadata": {},
     "output_type": "execute_result"
    }
   ],
   "source": [
    "wqp_dt_feature_importances = wqp_dt.feature_importances_\n",
    "print(wqp_dt_feature_importances)\n",
    "\n",
    "print(wqp_feature_names)\n",
    "\n",
    "wqp_import = pd.DataFrame({'features':wqp_feature_names,\n",
    "                           'score':wqp_dt_feature_importances})\n",
    "wqp_import"
   ]
  },
  {
   "cell_type": "code",
   "execution_count": 46,
   "metadata": {
    "ExecuteTime": {
     "end_time": "2020-03-21T01:57:27.743704Z",
     "start_time": "2020-03-21T01:57:27.738706Z"
    }
   },
   "outputs": [],
   "source": [
    "wqp_import.sort_values(\"score\", ascending=False, inplace=True)"
   ]
  },
  {
   "cell_type": "code",
   "execution_count": 47,
   "metadata": {
    "ExecuteTime": {
     "end_time": "2020-03-21T01:57:29.737553Z",
     "start_time": "2020-03-21T01:57:29.451714Z"
    }
   },
   "outputs": [
    {
     "data": {
      "text/plain": [
       "<matplotlib.axes._subplots.AxesSubplot at 0x26da1f92108>"
      ]
     },
     "execution_count": 47,
     "metadata": {},
     "output_type": "execute_result"
    },
    {
     "data": {
      "image/png": "[encoded data removed]",
      "text/plain": [
       "<Figure size 432x288 with 1 Axes>"
      ]
     },
     "metadata": {
      "needs_background": "light"
     },
     "output_type": "display_data"
    }
   ],
   "source": [
    "sns.barplot(y=\"features\", x='score', data=wqp_import)"
   ]
  },
  {
   "cell_type": "code",
   "execution_count": 48,
   "metadata": {
    "ExecuteTime": {
     "end_time": "2020-03-21T01:57:35.012483Z",
     "start_time": "2020-03-21T01:57:32.884138Z"
    }
   },
   "outputs": [
    {
     "name": "stdout",
     "output_type": "stream",
     "text": [
      "[[  15    0   39]\n",
      " [   0  521  197]\n",
      " [   2  132 1044]]\n",
      "              precision    recall  f1-score   support\n",
      "\n",
      "        high       0.88      0.28      0.42        54\n",
      "         low       0.80      0.73      0.76       718\n",
      "      medium       0.82      0.89      0.85      1178\n",
      "\n",
      "    accuracy                           0.81      1950\n",
      "   macro avg       0.83      0.63      0.68      1950\n",
      "weighted avg       0.81      0.81      0.80      1950\n",
      "\n"
     ]
    }
   ],
   "source": [
    "from sklearn.ensemble import RandomForestClassifier\n",
    "\n",
    "# train the model\n",
    "wqp_rf = RandomForestClassifier(max_features='auto', \n",
    "                                n_estimators=200,\n",
    "                                random_state=42)\n",
    "wqp_rf.fit(wqp_train_SX, wqp_train_y)\n",
    "\n",
    "#preidct \n",
    "wqp_rt_predictions = wqp_rf.predict(wqp_test_SX)\n",
    "\n",
    "matrix = confusion_matrix(wqp_test_y, wqp_rt_predictions)\n",
    "print(matrix)\n",
    "\n",
    "report = classification_report(wqp_test_y, wqp_rt_predictions)\n",
    "print(report)"
   ]
  },
  {
   "cell_type": "markdown",
   "metadata": {},
   "source": [
    "### ensemble method - RF"
   ]
  },
  {
   "cell_type": "code",
   "execution_count": 49,
   "metadata": {
    "ExecuteTime": {
     "end_time": "2020-03-21T01:58:13.518549Z",
     "start_time": "2020-03-21T01:57:36.598592Z"
    }
   },
   "outputs": [
    {
     "name": "stdout",
     "output_type": "stream",
     "text": [
      "Fitting 5 folds for each of 6 candidates, totalling 30 fits\n"
     ]
    },
    {
     "name": "stderr",
     "output_type": "stream",
     "text": [
      "[Parallel(n_jobs=-1)]: Using backend LokyBackend with 4 concurrent workers.\n",
      "[Parallel(n_jobs=-1)]: Done  30 out of  30 | elapsed:   31.7s finished\n"
     ]
    },
    {
     "data": {
      "text/plain": [
       "GridSearchCV(cv=5, error_score=nan,\n",
       "             estimator=RandomForestClassifier(bootstrap=True, ccp_alpha=0.0,\n",
       "                                              class_weight=None,\n",
       "                                              criterion='gini', max_depth=None,\n",
       "                                              max_features='auto',\n",
       "                                              max_leaf_nodes=None,\n",
       "                                              max_samples=None,\n",
       "                                              min_impurity_decrease=0.0,\n",
       "                                              min_impurity_split=None,\n",
       "                                              min_samples_leaf=1,\n",
       "                                              min_samples_split=2,\n",
       "                                              min_weight_fraction_leaf=0.0,\n",
       "                                              n_estimators=100, n_jobs=None,\n",
       "                                              oob_score=False, random_state=42,\n",
       "                                              verbose=0, warm_start=False),\n",
       "             iid='deprecated', n_jobs=-1,\n",
       "             param_grid={'max_features': ['auto', 'log2'],\n",
       "                         'n_estimators': [50, 200, 500]},\n",
       "             pre_dispatch='2*n_jobs', refit=True, return_train_score=False,\n",
       "             scoring='accuracy', verbose=1)"
      ]
     },
     "execution_count": 49,
     "metadata": {},
     "output_type": "execute_result"
    }
   ],
   "source": [
    "from sklearn.model_selection import GridSearchCV\n",
    "\n",
    "param_grid = {\n",
    "    'n_estimators': [50, 200, 500],\n",
    "    'max_features': ['auto', 'log2']\n",
    "}\n",
    "\n",
    "wqp_clf = GridSearchCV(RandomForestClassifier(random_state=42), param_grid,\n",
    "                      cv=5, scoring='accuracy', verbose=1, n_jobs=-1)\n",
    "\n",
    "wqp_clf.fit(wqp_train_SX, wqp_train_y)"
   ]
  },
  {
   "cell_type": "code",
   "execution_count": 50,
   "metadata": {
    "ExecuteTime": {
     "end_time": "2020-03-21T01:58:18.276792Z",
     "start_time": "2020-03-21T01:58:18.268797Z"
    }
   },
   "outputs": [
    {
     "name": "stdout",
     "output_type": "stream",
     "text": [
      "{'max_features': 'auto', 'n_estimators': 500}\n"
     ]
    }
   ],
   "source": [
    "print(wqp_clf.best_params_)"
   ]
  },
  {
   "cell_type": "markdown",
   "metadata": {},
   "source": [
    "### XGBoost"
   ]
  },
  {
   "cell_type": "code",
   "execution_count": 52,
   "metadata": {
    "ExecuteTime": {
     "end_time": "2020-03-21T01:59:29.547481Z",
     "start_time": "2020-03-21T01:59:26.517002Z"
    }
   },
   "outputs": [
    {
     "name": "stdout",
     "output_type": "stream",
     "text": [
      "[[  16    3   35]\n",
      " [   0  511  207]\n",
      " [   2  165 1011]]\n",
      "              precision    recall  f1-score   support\n",
      "\n",
      "        high       0.89      0.30      0.44        54\n",
      "         low       0.75      0.71      0.73       718\n",
      "      medium       0.81      0.86      0.83      1178\n",
      "\n",
      "    accuracy                           0.79      1950\n",
      "   macro avg       0.82      0.62      0.67      1950\n",
      "weighted avg       0.79      0.79      0.78      1950\n",
      "\n"
     ]
    }
   ],
   "source": [
    "import xgboost as xgb\n",
    "\n",
    "wqp_xgb_model = xgb.XGBClassifier(seed=42, max_depth=10, \n",
    "                                  learning_ratio=0.3,\n",
    "                                  n_estimatiors=100)\n",
    "\n",
    "wqp_xgb_model.fit(wqp_train_SX, wqp_train_y)\n",
    "\n",
    "wqp_xgb_predictions = wqp_xgb_model.predict(wqp_test_SX)\n",
    "\n",
    "matrix = confusion_matrix(wqp_test_y, wqp_xgb_predictions)\n",
    "print(matrix)\n",
    "\n",
    "report = classification_report(wqp_test_y, wqp_xgb_predictions)\n",
    "print(report)"
   ]
  },
  {
   "cell_type": "code",
   "execution_count": null,
   "metadata": {},
   "outputs": [],
   "source": []
  }
 ],
 "metadata": {
  "kernelspec": {
   "display_name": "Python 3",
   "language": "python",
   "name": "python3"
  },
  "language_info": {
   "codemirror_mode": {
    "name": "ipython",
    "version": 3
   },
   "file_extension": ".py",
   "mimetype": "text/x-python",
   "name": "python",
   "nbconvert_exporter": "python",
   "pygments_lexer": "ipython3",
   "version": "3.7.6"
  },
  "toc": {
   "base_numbering": 1,
   "nav_menu": {
    "height": "235px",
    "width": "243px"
   },
   "number_sections": true,
   "sideBar": true,
   "skip_h1_title": false,
   "title_cell": "Table of Contents",
   "title_sidebar": "Contents",
   "toc_cell": false,
   "toc_position": {},
   "toc_section_display": true,
   "toc_window_display": false
  },
  "varInspector": {
   "cols": {
    "lenName": 16,
    "lenType": 16,
    "lenVar": 40
   },
   "kernels_config": {
    "python": {
     "delete_cmd_postfix": "",
     "delete_cmd_prefix": "del ",
     "library": "var_list.py",
     "varRefreshCmd": "print(var_dic_list())"
    },
    "r": {
     "delete_cmd_postfix": ") ",
     "delete_cmd_prefix": "rm(",
     "library": "var_list.r",
     "varRefreshCmd": "cat(var_dic_list()) "
    }
   },
   "types_to_exclude": [
    "module",
    "function",
    "builtin_function_or_method",
    "instance",
    "_Feature"
   ],
   "window_display": false
  }
 },
 "nbformat": 4,
 "nbformat_minor": 2
}
